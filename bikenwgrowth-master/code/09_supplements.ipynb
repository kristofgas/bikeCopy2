{
 "cells": [
  {
   "cell_type": "markdown",
   "metadata": {},
   "source": [
    "# Step 9 - Supplements\n",
    "## Project: Growing Urban Bicycle Networks"
   ]
  },
  {
   "cell_type": "markdown",
   "metadata": {},
   "source": [
    "This notebook supplements some calculations. Most content here is copy-pasted and should be re-factored before being extended further.\n",
    "\n",
    "Contact: Michael Szell (michael.szell@gmail.com)  \n",
    "Created: 2021-02-15  \n",
    "Last modified: 2021-11-22"
   ]
  },
  {
   "cell_type": "markdown",
   "metadata": {},
   "source": [
    "## Preliminaries"
   ]
  },
  {
   "cell_type": "markdown",
   "metadata": {},
   "source": [
    "### Parameters"
   ]
  },
  {
   "cell_type": "code",
   "execution_count": null,
   "metadata": {},
   "outputs": [],
   "source": [
    "debug = True # If True, will produce plots and/or verbose output to double-check\n",
    "%run -i \"../parameters/parameters.py\""
   ]
  },
  {
   "cell_type": "markdown",
   "metadata": {},
   "source": [
    "### Setup"
   ]
  },
  {
   "cell_type": "code",
   "execution_count": null,
   "metadata": {},
   "outputs": [],
   "source": [
    "%run -i path.py\n",
    "%run -i setup.py\n",
    "\n",
    "%load_ext watermark\n",
    "%watermark -n -v -m -g -iv"
   ]
  },
  {
   "cell_type": "markdown",
   "metadata": {},
   "source": [
    "### Functions"
   ]
  },
  {
   "cell_type": "code",
   "execution_count": null,
   "metadata": {},
   "outputs": [],
   "source": [
    "%run -i functions.py"
   ]
  },
  {
   "cell_type": "markdown",
   "metadata": {},
   "source": [
    "## Calculate efficiencies on the simplified routed graphs, and add to existing results"
   ]
  },
  {
   "cell_type": "code",
   "execution_count": null,
   "metadata": {},
   "outputs": [],
   "source": [
    "pois = [\"grid\", \"railwaystation\"]\n",
    "measures = [\"betweenness\", \"closeness\", \"random\"]\n",
    "combs = list(itertools.product(pois, measures))\n",
    "# combs = [combs[4]]\n",
    "pp.pprint(combs)\n"
   ]
  },
  {
   "cell_type": "code",
   "execution_count": null,
   "metadata": {
    "scrolled": true
   },
   "outputs": [],
   "source": [
    "for placeid, placeinfo in tqdm(cities.items(), desc = \"Cities\"):\n",
    "    print(placeid + \": Analyzing results\")\n",
    "\n",
    "    # Load networks\n",
    "    G_carall = csv_to_ig(PATH[\"data\"] + placeid + \"/\", placeid, 'carall')\n",
    "        \n",
    "    for c in combs:\n",
    "        poi_source = c[0]\n",
    "        prune_measure = c[1]\n",
    "\n",
    "        # Load POIs\n",
    "        with open(PATH[\"data\"] + placeid + \"/\" + placeid + '_poi_' + poi_source + '_nnidscarall.csv') as f:\n",
    "            nnids = [int(line.rstrip()) for line in f]\n",
    "\n",
    "        # Load results\n",
    "        filename = placeid + '_poi_' + poi_source + \"_\" + prune_measure\n",
    "        resultfile = open(PATH[\"results\"] + placeid + \"/\" + filename + \".pickle\",'rb')\n",
    "        res = pickle.load(resultfile)\n",
    "        resultfile.close()\n",
    "\n",
    "        # Calculate\n",
    "        # output contains lists for all the prune_quantile values of the corresponding results\n",
    "        output, covs = calculate_metrics_additively(res[\"GTs\"], res[\"GT_abstracts\"], res[\"prune_quantiles\"], G_carall, nnids, buffer_walk = buffer_walk, numnodepairs = numnodepairs, verbose = False, return_cov = True, Gexisting = {}, output = {\"efficiency_global_routed\": [], \"efficiency_local_routed\": []})\n",
    "\n",
    "        # Read old results\n",
    "        filename = placeid + '_poi_' + poi_source + \"_\" + prune_measure + \".csv\"\n",
    "        results_old = np.genfromtxt(PATH[\"results\"] + placeid + \"/\" + filename, delimiter=',', names = True)\n",
    "\n",
    "        # Stitch the results together\n",
    "        output_final = {}\n",
    "        for fieldname in results_old.dtype.names:\n",
    "            if fieldname != \"efficiency_global_routed\" and fieldname != \"efficiency_local_routed\":\n",
    "                output_final[fieldname] = list(results_old[fieldname])\n",
    "        for fieldname in list(output.keys()):\n",
    "            output_final[fieldname] = output[fieldname]\n",
    "\n",
    "        # Overwrite old stuff\n",
    "        write_result(output_final, \"dict\", placeid, poi_source, prune_measure, \".csv\")\n",
    "\n",
    "    #     # Testing the simplification\n",
    "    #     fig = initplot()\n",
    "    #     map_center = nxdraw(G_carall, \"carall\")\n",
    "    #     nxdraw(G_simplified, \"abstract\", map_center, weighted = 6)"
   ]
  },
  {
   "cell_type": "markdown",
   "metadata": {},
   "source": [
    "## Calculate directness_lcc_linkwise and directness_all_linkwise, and add to existing results"
   ]
  },
  {
   "cell_type": "code",
   "execution_count": null,
   "metadata": {},
   "outputs": [],
   "source": [
    "pois = [\"grid\", \"railwaystation\"]\n",
    "measures = [\"betweenness\", \"closeness\", \"random\"]\n",
    "combs = list(itertools.product(pois, measures))\n",
    "combs = [combs[0]]\n",
    "pp.pprint(combs)\n"
   ]
  },
  {
   "cell_type": "code",
   "execution_count": null,
   "metadata": {
    "scrolled": true
   },
   "outputs": [],
   "source": [
    "for placeid, placeinfo in tqdm(cities.items(), desc = \"Cities\"):\n",
    "    print(placeid + \": Analyzing results\")\n",
    "\n",
    "    # Load networks\n",
    "    G_carall = csv_to_ig(PATH[\"data\"] + placeid + \"/\", placeid, 'carall')\n",
    "        \n",
    "    for c in combs:\n",
    "        poi_source = c[0]\n",
    "        prune_measure = c[1]\n",
    "\n",
    "        # Load POIs\n",
    "        with open(PATH[\"data\"] + placeid + \"/\" + placeid + '_poi_' + poi_source + '_nnidscarall.csv') as f:\n",
    "            nnids = [int(line.rstrip()) for line in f]\n",
    "\n",
    "        # Load results\n",
    "        filename = placeid + '_poi_' + poi_source + \"_\" + prune_measure\n",
    "        resultfile = open(PATH[\"results\"] + placeid + \"/\" + filename + \".pickle\",'rb')\n",
    "        res = pickle.load(resultfile)\n",
    "        resultfile.close()\n",
    "\n",
    "        # Calculate\n",
    "        # output contains lists for all the prune_quantile values of the corresponding results\n",
    "        output, covs = calculate_metrics_additively(res[\"GTs\"], res[\"GT_abstracts\"], res[\"prune_quantiles\"], G_carall, nnids, buffer_walk = buffer_walk, numnodepairs = numnodepairs, verbose = False, return_cov = True, Gexisting = {}, output = {\"directness_lcc_linkwise\": [], \"directness_all_linkwise\": []})\n",
    "\n",
    "        # Read old results\n",
    "        filename = placeid + '_poi_' + poi_source + \"_\" + prune_measure + \".csv\"\n",
    "        results_old = np.genfromtxt(PATH[\"results\"] + placeid + \"/\" + filename, delimiter=',', names = True)\n",
    "\n",
    "        # Stitch the results together\n",
    "        output_final = {}\n",
    "        for fieldname in results_old.dtype.names:\n",
    "            if fieldname != \"directness_lcc_linkwise\" and fieldname != \"directness_all_linkwise\":\n",
    "                output_final[fieldname] = list(results_old[fieldname])\n",
    "        for fieldname in list(output.keys()):\n",
    "            output_final[fieldname] = output[fieldname]\n",
    "\n",
    "        # Overwrite old stuff\n",
    "        write_result(output_final, \"dict\", placeid, poi_source, prune_measure, \".csv\")\n",
    "\n",
    "        \n",
    "        # Same for MST\n",
    "        output_MST, cov_MST = calculate_metrics(res[\"MST\"], res[\"MST_abstract\"], G_carall, nnids, calcmetrics ={\"directness_lcc_linkwise\": 0, \"directness_all_linkwise\": 0}, buffer_walk = buffer_walk, numnodepairs = numnodepairs, verbose = debug, return_cov = True, G_prev = ig.Graph(), cov_prev = Polygon(), ignore_GT_abstract = False, Gexisting = {})\n",
    "        \n",
    "        # Read old results\n",
    "        filename = placeid + '_poi_' + poi_source + \"_mst.csv\"\n",
    "        results_MST_old = np.genfromtxt(PATH[\"results\"] + placeid + \"/\" + filename, delimiter=',', names = True)\n",
    "\n",
    "        # Stitch the results together\n",
    "        output_MST_final = {}\n",
    "        for fieldname in results_MST_old.dtype.names:\n",
    "            if fieldname != \"directness_lcc_linkwise\" and fieldname != \"directness_all_linkwise\":\n",
    "                output_MST_final[fieldname] = results_MST_old[fieldname]\n",
    "        for fieldname in list(output_MST.keys()):\n",
    "            output_MST_final[fieldname] = output_MST[fieldname]\n",
    "\n",
    "        # Overwrite old stuff\n",
    "        write_result(output_MST_final, \"dict\", placeid, poi_source, \"\", \"mst.csv\")"
   ]
  }
 ],
 "metadata": {
  "kernelspec": {
   "display_name": "OSMNX",
   "language": "python",
   "name": "osmnx"
  },
  "language_info": {
   "codemirror_mode": {
    "name": "ipython",
    "version": 3
   },
   "file_extension": ".py",
   "mimetype": "text/x-python",
   "name": "python",
   "nbconvert_exporter": "python",
   "pygments_lexer": "ipython3",
   "version": "3.8.2"
  }
 },
 "nbformat": 4,
 "nbformat_minor": 2
}
