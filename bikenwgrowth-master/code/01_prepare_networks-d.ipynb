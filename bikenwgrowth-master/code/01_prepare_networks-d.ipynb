{
 "cells": [
  {
   "cell_type": "markdown",
   "metadata": {},
   "source": [
    "# Step 1 - Prepare network data\n",
    "## Project: Growing Urban Bicycle Networks"
   ]
  },
  {
   "cell_type": "markdown",
   "metadata": {},
   "source": [
    "This notebook downloads bicycle and street network data sets and prepares them for analysis.\n",
    "\n",
    "Contact: Michael Szell (michael.szell@gmail.com)  \n",
    "Created: 2020-06-09  \n",
    "Last modified: 2021-03-10"
   ]
  },
  {
   "cell_type": "markdown",
   "metadata": {},
   "source": [
    "## Preliminaries"
   ]
  },
  {
   "cell_type": "markdown",
   "metadata": {},
   "source": [
    "### Parameters"
   ]
  },
  {
   "cell_type": "code",
   "execution_count": 1,
   "metadata": {},
   "outputs": [
    {
     "name": "stdout",
     "output_type": "stream",
     "text": [
      "Loaded parameters.\n",
      "\n"
     ]
    }
   ],
   "source": [
    "debug = True # If True, will produce plots and/or verbose output to double-check\n",
    "%run -i \"../parameters/parameters.py\""
   ]
  },
  {
   "cell_type": "markdown",
   "metadata": {},
   "source": [
    "### Setup"
   ]
  },
  {
   "cell_type": "code",
   "execution_count": 2,
   "metadata": {},
   "outputs": [
    {
     "name": "stdout",
     "output_type": "stream",
     "text": [
      "Loaded PATH.\n",
      "\n",
      "Setup finished.\n",
      "\n",
      "Python implementation: CPython\n",
      "Python version       : 3.8.2\n",
      "IPython version      : 8.5.0\n",
      "\n",
      "Compiler    : Clang 9.0.1 \n",
      "OS          : Darwin\n",
      "Release     : 18.7.0\n",
      "Machine     : x86_64\n",
      "Processor   : i386\n",
      "CPU cores   : 8\n",
      "Architecture: 64bit\n",
      "\n",
      "Git hash: b795eaefba9eb6349c319ca07997ebd31e033f57\n",
      "\n",
      "osmnx     : 0.16.2\n",
      "osgeo     : 3.2.1\n",
      "networkx  : 2.8.6\n",
      "pyproj    : 3.4.0\n",
      "geojson   : 2.5.0\n",
      "numpy     : 1.23.3\n",
      "csv       : 1.0\n",
      "sys       : 3.8.2 | packaged by conda-forge | (default, Apr 24 2020, 07:56:27) \n",
      "[Clang 9.0.1 ]\n",
      "watermark : 2.3.1\n",
      "pandas    : 1.4.4\n",
      "igraph    : 0.9.1\n",
      "fiona     : 1.8.21\n",
      "geopandas : 0.11.1\n",
      "matplotlib: 3.6.0\n",
      "shapely   : 1.8.4\n",
      "\n"
     ]
    }
   ],
   "source": [
    "%run -i path.py\n",
    "#%run -i setup.py\n",
    "%run -i setupCPH.py\n",
    "\n",
    "%load_ext watermark\n",
    "%watermark -n -v -m -g -iv\n",
    "import statistics"
   ]
  },
  {
   "cell_type": "markdown",
   "metadata": {},
   "source": [
    "### Functions"
   ]
  },
  {
   "cell_type": "code",
   "execution_count": 3,
   "metadata": {},
   "outputs": [
    {
     "name": "stdout",
     "output_type": "stream",
     "text": [
      "Loaded functions.\n",
      "\n"
     ]
    }
   ],
   "source": [
    "%run -i functions.py"
   ]
  },
  {
   "cell_type": "markdown",
   "metadata": {},
   "source": [
    "## Load carall graph"
   ]
  },
  {
   "cell_type": "code",
   "execution_count": 4,
   "metadata": {},
   "outputs": [],
   "source": [
    "G_carall = ox.load_graphml('../../bikenwgrowth_external/data/copenhagen/bikedata/G_carall_graphml.graphml')"
   ]
  },
  {
   "cell_type": "markdown",
   "metadata": {},
   "source": [
    "# Set alpha"
   ]
  },
  {
   "cell_type": "code",
   "execution_count": 5,
   "metadata": {},
   "outputs": [],
   "source": [
    "a = 0.5"
   ]
  },
  {
   "cell_type": "markdown",
   "metadata": {},
   "source": [
    "## Add 'bcount_pop_den_attr' to carall graph"
   ]
  },
  {
   "cell_type": "code",
   "execution_count": null,
   "metadata": {},
   "outputs": [],
   "source": [
    "nx.set_edge_attributes(G_carall, 0.0, 'bcount_pop_den_attr')\n",
    "\n",
    "for e in G_carall.edges():\n",
    "    a,b=e\n",
    "    bcount_attr = G_carall.get_edge_data(a,b,0)['bcount_attr']\n",
    "    pop_den_attr = G_carall.get_edge_data(a,b,0)['pop_den_attr']\n",
    "    bcount_pop_den_attr = a* bcount_attr + (1-a)*pop_den_attr\n",
    "    nx.set_edge_attributes(G_carall, {(a,b,0): {\"bcount_pop_den_attr\": bcount_pop_den_attr }})\n",
    "\n",
    "    \n",
    "# a dictionary of each of the two new attributes in the G_carall graph is generated and saved. \n",
    "bcount_pop_den_attr_dict = nx.get_edge_attributes(G_carall, \"bcount_pop_den_attr\")\n",
    "print(bcount_pop_den_attr_dict)"
   ]
  },
  {
   "cell_type": "code",
   "execution_count": null,
   "metadata": {},
   "outputs": [],
   "source": [
    "ox_to_csv(G_carall, PATH[\"data\"] + 'copenhagen' + \"/\", 'copenhagen', 'carall')\n",
    "\n",
    "ox_to_csv(ox.simplify_graph(G_carall), PATH[\"data\"] + 'copenhagen' + \"/\", 'copenhagen', 'carall', \"_simplified\")\n",
    "\n",
    "ox.save_graphml(G_carall, \"../../bikenwgrowth_external/data/copenhagen/bikedata/G_carall_graphml.graphml\")\n",
    "\n",
    "with open('../../bikenwgrowth_external/data/copenhagen/bikedata/edges_dict_bcount_pop_den_attr.pkl', 'wb') as f:\n",
    "    pickle.dump(bcount_pop_den_attr_dict, f)"
   ]
  },
  {
   "cell_type": "raw",
   "metadata": {},
   "source": [
    "lanes = ox.graph_to_gdfs(G_carall, nodes=False) \n",
    "world = gpd.read_file(gpd.datasets.get_path('naturalearth_lowres'))\n",
    "ac = [0.04 if (pop_len_attr_dict[k]) == pop_den_attr_unassigned else 1.0 for k in pop_len_attr_dict]\n",
    "ax = world[world.name == \"Copenhagen municipality\"].plot(color='black', edgecolor='black', figsize=(50,50),bgcolor = 'black')\n",
    "#bikelanes.plot(ax=ax, color='red')\n",
    "lanes.plot(ax=ax, color='blue', alpha= ac)\n",
    "#bikelanes2.plot(ax=ax, color='red', alpha = 0.3,linestyle=(0,(5,10)))\n",
    "plt.axis([12.469380, 12.652281, 55.625802, 55.741728])\n",
    "plt.show()"
   ]
  },
  {
   "cell_type": "code",
   "execution_count": null,
   "metadata": {},
   "outputs": [],
   "source": [
    "Audio(sound_file, autoplay=True)"
   ]
  }
 ],
 "metadata": {
  "kernelspec": {
   "display_name": "OSMNX",
   "language": "python",
   "name": "osmnx"
  },
  "language_info": {
   "codemirror_mode": {
    "name": "ipython",
    "version": 3
   },
   "file_extension": ".py",
   "mimetype": "text/x-python",
   "name": "python",
   "nbconvert_exporter": "python",
   "pygments_lexer": "ipython3",
   "version": "3.8.2"
  }
 },
 "nbformat": 4,
 "nbformat_minor": 2
}
