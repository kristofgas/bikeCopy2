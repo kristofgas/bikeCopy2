{
 "cells": [
  {
   "cell_type": "markdown",
   "metadata": {},
   "source": [
    "# Step 1 - Prepare network data\n",
    "## Project: Growing Urban Bicycle Networks"
   ]
  },
  {
   "cell_type": "markdown",
   "metadata": {},
   "source": [
    "This notebook downloads bicycle and street network data sets and prepares them for analysis.\n",
    "\n",
    "Contact: Michael Szell (michael.szell@gmail.com)  \n",
    "Created: 2020-06-09  \n",
    "Last modified: 2021-03-10"
   ]
  },
  {
   "cell_type": "markdown",
   "metadata": {},
   "source": [
    "## Preliminaries"
   ]
  },
  {
   "cell_type": "markdown",
   "metadata": {},
   "source": [
    "### Parameters"
   ]
  },
  {
   "cell_type": "code",
   "execution_count": 1,
   "metadata": {},
   "outputs": [
    {
     "name": "stdout",
     "output_type": "stream",
     "text": [
      "Loaded parameters.\n",
      "\n"
     ]
    }
   ],
   "source": [
    "debug = True # If True, will produce plots and/or verbose output to double-check\n",
    "%run -i \"../parameters/parameters.py\""
   ]
  },
  {
   "cell_type": "markdown",
   "metadata": {},
   "source": [
    "### Setup"
   ]
  },
  {
   "cell_type": "code",
   "execution_count": 2,
   "metadata": {},
   "outputs": [
    {
     "name": "stdout",
     "output_type": "stream",
     "text": [
      "Loaded PATH.\n",
      "\n",
      "Setup finished.\n",
      "\n",
      "Python implementation: CPython\n",
      "Python version       : 3.8.2\n",
      "IPython version      : 8.5.0\n",
      "\n",
      "Compiler    : Clang 9.0.1 \n",
      "OS          : Darwin\n",
      "Release     : 18.7.0\n",
      "Machine     : x86_64\n",
      "Processor   : i386\n",
      "CPU cores   : 8\n",
      "Architecture: 64bit\n",
      "\n",
      "Git hash: b795eaefba9eb6349c319ca07997ebd31e033f57\n",
      "\n",
      "osmnx     : 0.16.2\n",
      "networkx  : 2.8.6\n",
      "pyproj    : 3.4.0\n",
      "fiona     : 1.8.21\n",
      "geopandas : 0.11.1\n",
      "geojson   : 2.5.0\n",
      "osgeo     : 3.2.1\n",
      "csv       : 1.0\n",
      "watermark : 2.3.1\n",
      "shapely   : 1.8.4\n",
      "numpy     : 1.23.3\n",
      "igraph    : 0.9.1\n",
      "matplotlib: 3.6.0\n",
      "sys       : 3.8.2 | packaged by conda-forge | (default, Apr 24 2020, 07:56:27) \n",
      "[Clang 9.0.1 ]\n",
      "pandas    : 1.4.4\n",
      "\n"
     ]
    }
   ],
   "source": [
    "%run -i path.py\n",
    "#%run -i setup.py\n",
    "%run -i setupCPH.py\n",
    "\n",
    "%load_ext watermark\n",
    "%watermark -n -v -m -g -iv\n",
    "import statistics"
   ]
  },
  {
   "cell_type": "markdown",
   "metadata": {},
   "source": [
    "### Functions"
   ]
  },
  {
   "cell_type": "code",
   "execution_count": 3,
   "metadata": {},
   "outputs": [
    {
     "name": "stdout",
     "output_type": "stream",
     "text": [
      "Loaded functions.\n",
      "\n"
     ]
    }
   ],
   "source": [
    "%run -i functions.py"
   ]
  },
  {
   "cell_type": "markdown",
   "metadata": {},
   "source": [
    "## Load carall graph"
   ]
  },
  {
   "cell_type": "code",
   "execution_count": 4,
   "metadata": {},
   "outputs": [],
   "source": [
    "G_carall = ox.load_graphml('../../bikenwgrowth_external/data/copenhagen/bikedata/G_carall_graphml.graphml')"
   ]
  },
  {
   "cell_type": "code",
   "execution_count": null,
   "metadata": {},
   "outputs": [],
   "source": [
    "btw_length = nx.edge_betweenness_centrality(G_carall,  weight='length')"
   ]
  },
  {
   "cell_type": "code",
   "execution_count": null,
   "metadata": {},
   "outputs": [],
   "source": [
    "btw_bcount_attr = nx.edge_betweenness_centrality(G_carall,  weight='bcount_attr')"
   ]
  },
  {
   "cell_type": "code",
   "execution_count": null,
   "metadata": {},
   "outputs": [],
   "source": [
    "btw_pop_den_attr = nx.edge_betweenness_centrality(G_carall,  weight='pop_den_attr')"
   ]
  },
  {
   "cell_type": "raw",
   "metadata": {},
   "source": [
    "btw_bcount_pop_den_attr = nx.edge_betweenness_centrality(G_carall,  weight='bcount_pop_den_attr')"
   ]
  },
  {
   "cell_type": "code",
   "execution_count": null,
   "metadata": {},
   "outputs": [],
   "source": []
  },
  {
   "cell_type": "code",
   "execution_count": null,
   "metadata": {},
   "outputs": [],
   "source": [
    "with open('../../bikenwgrowth_external/data/copenhagen/bikedata/btw_length.pickle', 'wb') as y:\n",
    "    pickle.dump(btw_length, y)"
   ]
  },
  {
   "cell_type": "code",
   "execution_count": null,
   "metadata": {},
   "outputs": [],
   "source": [
    "with open('../../bikenwgrowth_external/data/copenhagen/bikedata/btw_bcount_attr.pickle', 'wb') as y:\n",
    "    pickle.dump(btw_bcount_attr, y)"
   ]
  },
  {
   "cell_type": "code",
   "execution_count": null,
   "metadata": {},
   "outputs": [],
   "source": [
    "with open('../../bikenwgrowth_external/data/copenhagen/bikedata/btw_pop_den_attr.pickle', 'wb') as y:\n",
    "    pickle.dump(btw_pop_den_attr, y)"
   ]
  },
  {
   "cell_type": "raw",
   "metadata": {},
   "source": [
    "with open('../../bikenwgrowth_external/data/copenhagen/bikedata/btw_bcount_pop_den_attr.pickle', 'wb') as y:\n",
    "    pickle.dump(btw_bcount_pop_den_attr, y)"
   ]
  },
  {
   "cell_type": "code",
   "execution_count": null,
   "metadata": {},
   "outputs": [],
   "source": [
    "# btw_dict, og for btw in btw_dict normaliser!"
   ]
  },
  {
   "cell_type": "code",
   "execution_count": null,
   "metadata": {},
   "outputs": [],
   "source": [
    "btwlist = [btw_length,btw_bcount_attr,btw_pop_den_attr,btw_bcount_pop_den_attr]\n",
    "for betweenness in btwlist:\n",
    "    max_x = max(betweenness.values())\n",
    "    min_x = min(betweenness.values())\n",
    "\n",
    "# normalize each value in the dict\n",
    "    for k in betweenness:\n",
    "        betweenness[k] = fn(betweenness[k], max_x, min_x)"
   ]
  },
  {
   "cell_type": "code",
   "execution_count": null,
   "metadata": {},
   "outputs": [],
   "source": []
  },
  {
   "cell_type": "code",
   "execution_count": null,
   "metadata": {},
   "outputs": [],
   "source": []
  },
  {
   "cell_type": "code",
   "execution_count": null,
   "metadata": {},
   "outputs": [],
   "source": [
    "#normalisation\n",
    "\n",
    "fn = lambda value, x_max, x_min: (value - x_min) / (x_max - x_min)\n",
    "btw3 = betweenness\n",
    "# In each inner dict\n",
    "\n",
    "# find min and max values\n",
    "max_x = max(betweenness.values())\n",
    "min_x = min(betweenness.values())\n",
    "\n",
    "# normalize each value in the dict\n",
    "for k in betweenness:\n",
    "    btw3[k] = fn(betweenness[k], max_x, min_x)"
   ]
  },
  {
   "cell_type": "code",
   "execution_count": null,
   "metadata": {},
   "outputs": [],
   "source": []
  },
  {
   "cell_type": "code",
   "execution_count": null,
   "metadata": {},
   "outputs": [],
   "source": [
    "#This plot is edge betweenness centrality based on the 'bc_len_attr' attribute \n",
    "lanes = ox.graph_to_gdfs(G_carall, nodes=False)\n",
    "world = gpd.read_file(gpd.datasets.get_path('naturalearth_lowres'))\n",
    "\n",
    "\n",
    "ac = [btw3[k] for k in btw3]\n",
    "#ac = [0.08 if (edges_dict[k]) == meancountfraction else 0.8 for k in edges_dict]\n",
    "lc = [btw3[k]*20 for k in btw3]\n",
    "\n",
    "ax = world[world.name == \"Copenhagen municipality\"].plot(color='black', edgecolor='black', figsize=(50,50),bgcolor = 'black')\n",
    "#bikelanes.plot(ax=ax, color='red')\n",
    "lanes.plot(ax=ax, color='blue', alpha= ac, linewidth = lc)\n",
    "\n",
    "\n",
    "plt.show()"
   ]
  }
 ],
 "metadata": {
  "kernelspec": {
   "display_name": "OSMNX",
   "language": "python",
   "name": "osmnx"
  },
  "language_info": {
   "codemirror_mode": {
    "name": "ipython",
    "version": 3
   },
   "file_extension": ".py",
   "mimetype": "text/x-python",
   "name": "python",
   "nbconvert_exporter": "python",
   "pygments_lexer": "ipython3",
   "version": "3.8.2"
  }
 },
 "nbformat": 4,
 "nbformat_minor": 2
}
