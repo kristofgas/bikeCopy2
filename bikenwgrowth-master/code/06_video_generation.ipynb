{
 "cells": [
  {
   "cell_type": "markdown",
   "metadata": {},
   "source": [
    "# Step 6 - Making videos of the plots\n",
    "## Project: Growing Urban Bicycle Networks"
   ]
  },
  {
   "cell_type": "markdown",
   "metadata": {},
   "source": [
    "This notebook takes the plots from 05_plot_results and creates videos out of them. Run a kernel which has opencv-python available!\n",
    "\n",
    "Contact: Michael Szell (michael.szell@gmail.com)  \n",
    "Created: 2020-09-02  \n",
    "Last modified: 2021-03-10"
   ]
  },
  {
   "cell_type": "markdown",
   "metadata": {},
   "source": [
    "## Preliminaries"
   ]
  },
  {
   "cell_type": "markdown",
   "metadata": {},
   "source": [
    "### Parameters"
   ]
  },
  {
   "cell_type": "code",
   "execution_count": 1,
   "metadata": {},
   "outputs": [
    {
     "name": "stdout",
     "output_type": "stream",
     "text": [
      "Loaded parameters.\n",
      "\n"
     ]
    }
   ],
   "source": [
    "debug = False # If True, will produce plots and/or verbose output to double-check\n",
    "%run -i \"../parameters/parameters.py\""
   ]
  },
  {
   "cell_type": "markdown",
   "metadata": {},
   "source": [
    "### Setup"
   ]
  },
  {
   "cell_type": "code",
   "execution_count": 2,
   "metadata": {},
   "outputs": [
    {
     "name": "stdout",
     "output_type": "stream",
     "text": [
      "Loaded PATH.\n",
      "\n"
     ]
    }
   ],
   "source": [
    "%run -i path.py\n",
    "\n",
    "import csv\n",
    "cities = {}\n",
    "\n",
    "\n",
    "import cv2\n",
    "import os\n",
    "from tqdm.notebook import tqdm\n",
    "import itertools"
   ]
  },
  {
   "cell_type": "code",
   "execution_count": 3,
   "metadata": {},
   "outputs": [],
   "source": [
    "cities = {'copenhagen': {'nominatimstring': '', 'countryid': 'dnk', 'name': 'Copenhagen'}}"
   ]
  },
  {
   "cell_type": "markdown",
   "metadata": {},
   "source": [
    "### Functions"
   ]
  },
  {
   "cell_type": "code",
   "execution_count": 15,
   "metadata": {},
   "outputs": [
    {
     "name": "stdout",
     "output_type": "stream",
     "text": [
      "Loaded functions.\n",
      "\n"
     ]
    }
   ],
   "source": [
    "from shapely.geometry import Polygon\n",
    "import igraph as ig\n",
    "%run -i functions.py"
   ]
  },
  {
   "cell_type": "code",
   "execution_count": 21,
   "metadata": {},
   "outputs": [],
   "source": [
    "attrlist = ['length','length_attr', 'bcount_attr', 'pop_den_attr', 'bcount_pop_den_attr']"
   ]
  },
  {
   "cell_type": "markdown",
   "metadata": {},
   "source": [
    "## Generate Videos"
   ]
  },
  {
   "cell_type": "markdown",
   "metadata": {},
   "source": [
    "### POI based results"
   ]
  },
  {
   "cell_type": "code",
   "execution_count": 31,
   "metadata": {},
   "outputs": [
    {
     "name": "stdout",
     "output_type": "stream",
     "text": [
      "Loaded functions.\n",
      "\n",
      "grid betweenness\n"
     ]
    },
    {
     "data": {
      "application/vnd.jupyter.widget-view+json": {
       "model_id": "344061dac0ab4e2d9a7160523b0d6785",
       "version_major": 2,
       "version_minor": 0
      },
      "text/plain": [
       "Cities:   0%|          | 0/1 [00:00<?, ?it/s]"
      ]
     },
     "metadata": {},
     "output_type": "display_data"
    },
    {
     "name": "stdout",
     "output_type": "stream",
     "text": [
      "Video copenhagen_GTall_poi_grid_Bq.mp4 generated from 40 frames.\n",
      "Video copenhagen_GTabstract_poi_grid_Bq.mp4 generated from 40 frames.\n",
      "Video copenhagen_GTallcover_poi_grid_Bq.mp4 generated from 40 frames.\n"
     ]
    }
   ],
   "source": [
    "%run -i functions.py\n",
    "# Run all parameter sets\n",
    "poi_source_list = [\"grid\"]\n",
    "prune_measure_list = [\"betweenness\"]\n",
    "parsets_used = list(itertools.product(poi_source_list, prune_measure_list))\n",
    "for poi_source, prune_measure in parsets_used:\n",
    "    print(poi_source, prune_measure)\n",
    "    \n",
    "    for placeid, placeinfo in tqdm(cities.items(), desc = \"Cities\"):\n",
    "        try:\n",
    "            imgname = '_GTall_poi_' + poi_source + \"_\" + prune_measures[prune_measure]\n",
    "            generate_video(placeid, imgname,'mp4')\n",
    "            imgname = '_GTabstract_poi_' + poi_source + \"_\" + prune_measures[prune_measure]\n",
    "            generate_video(placeid, imgname,'mp4')\n",
    "            imgname = '_GTallcover_poi_' + poi_source + \"_\" + prune_measures[prune_measure]\n",
    "            generate_video(placeid, imgname,'mp4')\n",
    "#             imgname = '_GTalloverlapbikeable_poi_' + poi_source + \"_\" + prune_measures[prune_measure]\n",
    "#             generate_video(placeid, imgname)\n",
    "#             imgname = '_GTalloverlapbiketrack_poi_' + poi_source + \"_\" + prune_measures[prune_measure]\n",
    "#             generate_video(placeid, imgname)\n",
    "        except IndexError:\n",
    "            continue\n",
    "        "
   ]
  },
  {
   "cell_type": "code",
   "execution_count": 18,
   "metadata": {},
   "outputs": [
    {
     "data": {
      "text/plain": [
       "< cv2.VideoWriter 0x1629d9650>"
      ]
     },
     "execution_count": 18,
     "metadata": {},
     "output_type": "execute_result"
    }
   ],
   "source": [
    "vid"
   ]
  },
  {
   "cell_type": "code",
   "execution_count": 32,
   "metadata": {},
   "outputs": [
    {
     "name": "stdout",
     "output_type": "stream",
     "text": [
      "grid betweenness\n"
     ]
    },
    {
     "data": {
      "application/vnd.jupyter.widget-view+json": {
       "model_id": "d2eea21c1e014acb910e2438f9fe9cad",
       "version_major": 2,
       "version_minor": 0
      },
      "text/plain": [
       "Cities:   0%|          | 0/1 [00:00<?, ?it/s]"
      ]
     },
     "metadata": {},
     "output_type": "display_data"
    },
    {
     "name": "stderr",
     "output_type": "stream",
     "text": [
      "[ERROR:0@2518.208] global /private/var/folders/r8/tq2ln28d2vg5b08rjdywrcvc0000gn/T/pip-install-cvwnutiv/opencv-contrib-python_d57ebb28ed39408bb70a38e46aab657d/opencv/modules/videoio/src/cap.cpp (597) open VIDEOIO(CV_IMAGES): raised OpenCV exception:\n",
      "\n",
      "OpenCV(4.6.0) /private/var/folders/r8/tq2ln28d2vg5b08rjdywrcvc0000gn/T/pip-install-cvwnutiv/opencv-contrib-python_d57ebb28ed39408bb70a38e46aab657d/opencv/modules/videoio/src/cap_images.cpp:253: error: (-5:Bad argument) CAP_IMAGES: can't find starting number (in the name of file): ../../bikenwgrowth_external/videos/copenhagen/length_attr/copenhagen_GTall_poi_grid_Bq.webm in function 'icvExtractPattern'\n",
      "\n",
      "\n"
     ]
    },
    {
     "name": "stdout",
     "output_type": "stream",
     "text": [
      "Video copenhagen_GTall_poi_grid_Bq.webm generated from 40 frames.\n"
     ]
    },
    {
     "name": "stderr",
     "output_type": "stream",
     "text": [
      "[ERROR:0@2518.893] global /private/var/folders/r8/tq2ln28d2vg5b08rjdywrcvc0000gn/T/pip-install-cvwnutiv/opencv-contrib-python_d57ebb28ed39408bb70a38e46aab657d/opencv/modules/videoio/src/cap.cpp (597) open VIDEOIO(CV_IMAGES): raised OpenCV exception:\n",
      "\n",
      "OpenCV(4.6.0) /private/var/folders/r8/tq2ln28d2vg5b08rjdywrcvc0000gn/T/pip-install-cvwnutiv/opencv-contrib-python_d57ebb28ed39408bb70a38e46aab657d/opencv/modules/videoio/src/cap_images.cpp:253: error: (-5:Bad argument) CAP_IMAGES: can't find starting number (in the name of file): ../../bikenwgrowth_external/videos/copenhagen/length_attr/copenhagen_GTabstract_poi_grid_Bq.webm in function 'icvExtractPattern'\n",
      "\n",
      "\n"
     ]
    },
    {
     "name": "stdout",
     "output_type": "stream",
     "text": [
      "Video copenhagen_GTabstract_poi_grid_Bq.webm generated from 40 frames.\n"
     ]
    },
    {
     "name": "stderr",
     "output_type": "stream",
     "text": [
      "[ERROR:0@2519.593] global /private/var/folders/r8/tq2ln28d2vg5b08rjdywrcvc0000gn/T/pip-install-cvwnutiv/opencv-contrib-python_d57ebb28ed39408bb70a38e46aab657d/opencv/modules/videoio/src/cap.cpp (597) open VIDEOIO(CV_IMAGES): raised OpenCV exception:\n",
      "\n",
      "OpenCV(4.6.0) /private/var/folders/r8/tq2ln28d2vg5b08rjdywrcvc0000gn/T/pip-install-cvwnutiv/opencv-contrib-python_d57ebb28ed39408bb70a38e46aab657d/opencv/modules/videoio/src/cap_images.cpp:253: error: (-5:Bad argument) CAP_IMAGES: can't find starting number (in the name of file): ../../bikenwgrowth_external/videos/copenhagen/length_attr/copenhagen_GTallcover_poi_grid_Bq.webm in function 'icvExtractPattern'\n",
      "\n",
      "\n"
     ]
    },
    {
     "name": "stdout",
     "output_type": "stream",
     "text": [
      "Video copenhagen_GTallcover_poi_grid_Bq.webm generated from 40 frames.\n"
     ]
    },
    {
     "name": "stderr",
     "output_type": "stream",
     "text": [
      "[ERROR:0@2520.614] global /private/var/folders/r8/tq2ln28d2vg5b08rjdywrcvc0000gn/T/pip-install-cvwnutiv/opencv-contrib-python_d57ebb28ed39408bb70a38e46aab657d/opencv/modules/videoio/src/cap.cpp (597) open VIDEOIO(CV_IMAGES): raised OpenCV exception:\n",
      "\n",
      "OpenCV(4.6.0) /private/var/folders/r8/tq2ln28d2vg5b08rjdywrcvc0000gn/T/pip-install-cvwnutiv/opencv-contrib-python_d57ebb28ed39408bb70a38e46aab657d/opencv/modules/videoio/src/cap_images.cpp:253: error: (-5:Bad argument) CAP_IMAGES: can't find starting number (in the name of file): ../../bikenwgrowth_external/videos/copenhagen/bcount_attr/copenhagen_GTall_poi_grid_Bq.webm in function 'icvExtractPattern'\n",
      "\n",
      "\n"
     ]
    },
    {
     "name": "stdout",
     "output_type": "stream",
     "text": [
      "Video copenhagen_GTall_poi_grid_Bq.webm generated from 40 frames.\n"
     ]
    },
    {
     "name": "stderr",
     "output_type": "stream",
     "text": [
      "[ERROR:0@2521.297] global /private/var/folders/r8/tq2ln28d2vg5b08rjdywrcvc0000gn/T/pip-install-cvwnutiv/opencv-contrib-python_d57ebb28ed39408bb70a38e46aab657d/opencv/modules/videoio/src/cap.cpp (597) open VIDEOIO(CV_IMAGES): raised OpenCV exception:\n",
      "\n",
      "OpenCV(4.6.0) /private/var/folders/r8/tq2ln28d2vg5b08rjdywrcvc0000gn/T/pip-install-cvwnutiv/opencv-contrib-python_d57ebb28ed39408bb70a38e46aab657d/opencv/modules/videoio/src/cap_images.cpp:253: error: (-5:Bad argument) CAP_IMAGES: can't find starting number (in the name of file): ../../bikenwgrowth_external/videos/copenhagen/bcount_attr/copenhagen_GTabstract_poi_grid_Bq.webm in function 'icvExtractPattern'\n",
      "\n",
      "\n"
     ]
    },
    {
     "name": "stdout",
     "output_type": "stream",
     "text": [
      "Video copenhagen_GTabstract_poi_grid_Bq.webm generated from 40 frames.\n"
     ]
    },
    {
     "name": "stderr",
     "output_type": "stream",
     "text": [
      "[ERROR:0@2521.985] global /private/var/folders/r8/tq2ln28d2vg5b08rjdywrcvc0000gn/T/pip-install-cvwnutiv/opencv-contrib-python_d57ebb28ed39408bb70a38e46aab657d/opencv/modules/videoio/src/cap.cpp (597) open VIDEOIO(CV_IMAGES): raised OpenCV exception:\n",
      "\n",
      "OpenCV(4.6.0) /private/var/folders/r8/tq2ln28d2vg5b08rjdywrcvc0000gn/T/pip-install-cvwnutiv/opencv-contrib-python_d57ebb28ed39408bb70a38e46aab657d/opencv/modules/videoio/src/cap_images.cpp:253: error: (-5:Bad argument) CAP_IMAGES: can't find starting number (in the name of file): ../../bikenwgrowth_external/videos/copenhagen/bcount_attr/copenhagen_GTallcover_poi_grid_Bq.webm in function 'icvExtractPattern'\n",
      "\n",
      "\n"
     ]
    },
    {
     "name": "stdout",
     "output_type": "stream",
     "text": [
      "Video copenhagen_GTallcover_poi_grid_Bq.webm generated from 40 frames.\n"
     ]
    },
    {
     "name": "stderr",
     "output_type": "stream",
     "text": [
      "[ERROR:0@2522.996] global /private/var/folders/r8/tq2ln28d2vg5b08rjdywrcvc0000gn/T/pip-install-cvwnutiv/opencv-contrib-python_d57ebb28ed39408bb70a38e46aab657d/opencv/modules/videoio/src/cap.cpp (597) open VIDEOIO(CV_IMAGES): raised OpenCV exception:\n",
      "\n",
      "OpenCV(4.6.0) /private/var/folders/r8/tq2ln28d2vg5b08rjdywrcvc0000gn/T/pip-install-cvwnutiv/opencv-contrib-python_d57ebb28ed39408bb70a38e46aab657d/opencv/modules/videoio/src/cap_images.cpp:253: error: (-5:Bad argument) CAP_IMAGES: can't find starting number (in the name of file): ../../bikenwgrowth_external/videos/copenhagen/pop_den_attr/copenhagen_GTall_poi_grid_Bq.webm in function 'icvExtractPattern'\n",
      "\n",
      "\n"
     ]
    },
    {
     "name": "stdout",
     "output_type": "stream",
     "text": [
      "Video copenhagen_GTall_poi_grid_Bq.webm generated from 40 frames.\n"
     ]
    },
    {
     "name": "stderr",
     "output_type": "stream",
     "text": [
      "[ERROR:0@2523.673] global /private/var/folders/r8/tq2ln28d2vg5b08rjdywrcvc0000gn/T/pip-install-cvwnutiv/opencv-contrib-python_d57ebb28ed39408bb70a38e46aab657d/opencv/modules/videoio/src/cap.cpp (597) open VIDEOIO(CV_IMAGES): raised OpenCV exception:\n",
      "\n",
      "OpenCV(4.6.0) /private/var/folders/r8/tq2ln28d2vg5b08rjdywrcvc0000gn/T/pip-install-cvwnutiv/opencv-contrib-python_d57ebb28ed39408bb70a38e46aab657d/opencv/modules/videoio/src/cap_images.cpp:253: error: (-5:Bad argument) CAP_IMAGES: can't find starting number (in the name of file): ../../bikenwgrowth_external/videos/copenhagen/pop_den_attr/copenhagen_GTabstract_poi_grid_Bq.webm in function 'icvExtractPattern'\n",
      "\n",
      "\n"
     ]
    },
    {
     "name": "stdout",
     "output_type": "stream",
     "text": [
      "Video copenhagen_GTabstract_poi_grid_Bq.webm generated from 40 frames.\n"
     ]
    },
    {
     "name": "stderr",
     "output_type": "stream",
     "text": [
      "[ERROR:0@2524.357] global /private/var/folders/r8/tq2ln28d2vg5b08rjdywrcvc0000gn/T/pip-install-cvwnutiv/opencv-contrib-python_d57ebb28ed39408bb70a38e46aab657d/opencv/modules/videoio/src/cap.cpp (597) open VIDEOIO(CV_IMAGES): raised OpenCV exception:\n",
      "\n",
      "OpenCV(4.6.0) /private/var/folders/r8/tq2ln28d2vg5b08rjdywrcvc0000gn/T/pip-install-cvwnutiv/opencv-contrib-python_d57ebb28ed39408bb70a38e46aab657d/opencv/modules/videoio/src/cap_images.cpp:253: error: (-5:Bad argument) CAP_IMAGES: can't find starting number (in the name of file): ../../bikenwgrowth_external/videos/copenhagen/pop_den_attr/copenhagen_GTallcover_poi_grid_Bq.webm in function 'icvExtractPattern'\n",
      "\n",
      "\n"
     ]
    },
    {
     "name": "stdout",
     "output_type": "stream",
     "text": [
      "Video copenhagen_GTallcover_poi_grid_Bq.webm generated from 40 frames.\n"
     ]
    },
    {
     "name": "stderr",
     "output_type": "stream",
     "text": [
      "[ERROR:0@2525.358] global /private/var/folders/r8/tq2ln28d2vg5b08rjdywrcvc0000gn/T/pip-install-cvwnutiv/opencv-contrib-python_d57ebb28ed39408bb70a38e46aab657d/opencv/modules/videoio/src/cap.cpp (597) open VIDEOIO(CV_IMAGES): raised OpenCV exception:\n",
      "\n",
      "OpenCV(4.6.0) /private/var/folders/r8/tq2ln28d2vg5b08rjdywrcvc0000gn/T/pip-install-cvwnutiv/opencv-contrib-python_d57ebb28ed39408bb70a38e46aab657d/opencv/modules/videoio/src/cap_images.cpp:253: error: (-5:Bad argument) CAP_IMAGES: can't find starting number (in the name of file): ../../bikenwgrowth_external/videos/copenhagen/bcount_pop_den_attr/copenhagen_GTall_poi_grid_Bq.webm in function 'icvExtractPattern'\n",
      "\n",
      "\n"
     ]
    },
    {
     "name": "stdout",
     "output_type": "stream",
     "text": [
      "Video copenhagen_GTall_poi_grid_Bq.webm generated from 40 frames.\n"
     ]
    },
    {
     "name": "stderr",
     "output_type": "stream",
     "text": [
      "[ERROR:0@2526.022] global /private/var/folders/r8/tq2ln28d2vg5b08rjdywrcvc0000gn/T/pip-install-cvwnutiv/opencv-contrib-python_d57ebb28ed39408bb70a38e46aab657d/opencv/modules/videoio/src/cap.cpp (597) open VIDEOIO(CV_IMAGES): raised OpenCV exception:\n",
      "\n",
      "OpenCV(4.6.0) /private/var/folders/r8/tq2ln28d2vg5b08rjdywrcvc0000gn/T/pip-install-cvwnutiv/opencv-contrib-python_d57ebb28ed39408bb70a38e46aab657d/opencv/modules/videoio/src/cap_images.cpp:253: error: (-5:Bad argument) CAP_IMAGES: can't find starting number (in the name of file): ../../bikenwgrowth_external/videos/copenhagen/bcount_pop_den_attr/copenhagen_GTabstract_poi_grid_Bq.webm in function 'icvExtractPattern'\n",
      "\n",
      "\n"
     ]
    },
    {
     "name": "stdout",
     "output_type": "stream",
     "text": [
      "Video copenhagen_GTabstract_poi_grid_Bq.webm generated from 40 frames.\n"
     ]
    },
    {
     "name": "stderr",
     "output_type": "stream",
     "text": [
      "[ERROR:0@2526.717] global /private/var/folders/r8/tq2ln28d2vg5b08rjdywrcvc0000gn/T/pip-install-cvwnutiv/opencv-contrib-python_d57ebb28ed39408bb70a38e46aab657d/opencv/modules/videoio/src/cap.cpp (597) open VIDEOIO(CV_IMAGES): raised OpenCV exception:\n",
      "\n",
      "OpenCV(4.6.0) /private/var/folders/r8/tq2ln28d2vg5b08rjdywrcvc0000gn/T/pip-install-cvwnutiv/opencv-contrib-python_d57ebb28ed39408bb70a38e46aab657d/opencv/modules/videoio/src/cap_images.cpp:253: error: (-5:Bad argument) CAP_IMAGES: can't find starting number (in the name of file): ../../bikenwgrowth_external/videos/copenhagen/bcount_pop_den_attr/copenhagen_GTallcover_poi_grid_Bq.webm in function 'icvExtractPattern'\n",
      "\n",
      "\n"
     ]
    },
    {
     "name": "stdout",
     "output_type": "stream",
     "text": [
      "Video copenhagen_GTallcover_poi_grid_Bq.webm generated from 40 frames.\n"
     ]
    }
   ],
   "source": [
    "# Run all parameter sets\n",
    "poi_source_list = [\"grid\"]\n",
    "prune_measure_list = [\"betweenness\"]\n",
    "parsets_used = list(itertools.product(poi_source_list, prune_measure_list))\n",
    "for poi_source, prune_measure in parsets_used:\n",
    "    print(poi_source, prune_measure)\n",
    "    \n",
    "    for placeid, placeinfo in tqdm(cities.items(), desc = \"Cities\"):\n",
    "        for attr in attrlist:\n",
    "            try:\n",
    "                imgname = '_GTall_poi_' + poi_source + \"_\" + prune_measures[prune_measure]\n",
    "                generate_video_custom(placeid, imgname, attr)\n",
    "                imgname = '_GTabstract_poi_' + poi_source + \"_\" + prune_measures[prune_measure]\n",
    "                generate_video_custom(placeid, imgname, attr)\n",
    "                imgname = '_GTallcover_poi_' + poi_source + \"_\" + prune_measures[prune_measure]\n",
    "                generate_video_custom(placeid, imgname, attr)\n",
    "    #             imgname = '_GTalloverlapbikeable_poi_' + poi_source + \"_\" + prune_measures[prune_measure]\n",
    "    #             generate_video(placeid, imgname)\n",
    "    #             imgname = '_GTalloverlapbiketrack_poi_' + poi_source + \"_\" + prune_measures[prune_measure]\n",
    "    #             generate_video(placeid, imgname)\n",
    "            except IndexError:\n",
    "                continue\n"
   ]
  },
  {
   "cell_type": "code",
   "execution_count": null,
   "metadata": {},
   "outputs": [],
   "source": []
  }
 ],
 "metadata": {
  "kernelspec": {
   "display_name": "OSMNX",
   "language": "python",
   "name": "osmnx"
  },
  "language_info": {
   "codemirror_mode": {
    "name": "ipython",
    "version": 3
   },
   "file_extension": ".py",
   "mimetype": "text/x-python",
   "name": "python",
   "nbconvert_exporter": "python",
   "pygments_lexer": "ipython3",
   "version": "3.8.2"
  }
 },
 "nbformat": 4,
 "nbformat_minor": 2
}
