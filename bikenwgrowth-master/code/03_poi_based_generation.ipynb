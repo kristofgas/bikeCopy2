{
 "cells": [
  {
   "cell_type": "markdown",
   "metadata": {},
   "source": [
    "# Step 3 - Points of interest based bicycle network generation\n",
    "## Project: Growing Urban Bicycle Networks"
   ]
  },
  {
   "cell_type": "markdown",
   "metadata": {},
   "source": [
    "This notebook follows the transit-oriented development approach of palominos2020ica or a grid approach and applies cardillo2006spp: Take the greedy triangulation between railway/underground stations (or other points of interest created in 02_prepare_pois). This is the cold start bicycle network generation process which creates bicycle networks from scratch.\n",
    "\n",
    "Contact: Michael Szell (michael.szell@gmail.com)  \n",
    "Created: 2020-06-18  \n",
    "Last modified: 2021-01-23"
   ]
  },
  {
   "cell_type": "markdown",
   "metadata": {},
   "source": [
    "## Preliminaries"
   ]
  },
  {
   "cell_type": "markdown",
   "metadata": {},
   "source": [
    "### Parameters"
   ]
  },
  {
   "cell_type": "code",
   "execution_count": 1,
   "metadata": {
    "scrolled": false
   },
   "outputs": [
    {
     "name": "stdout",
     "output_type": "stream",
     "text": [
      "Loaded parameters.\n",
      "\n"
     ]
    }
   ],
   "source": [
    "debug = False # If True, will produce plots and/or verbose output to double-check\n",
    "%run -i \"../parameters/parameters.py\""
   ]
  },
  {
   "cell_type": "markdown",
   "metadata": {},
   "source": [
    "### Setup"
   ]
  },
  {
   "cell_type": "code",
   "execution_count": 2,
   "metadata": {},
   "outputs": [
    {
     "name": "stdout",
     "output_type": "stream",
     "text": [
      "Loaded PATH.\n",
      "\n",
      "Setup finished.\n",
      "\n",
      "Python implementation: CPython\n",
      "Python version       : 3.8.2\n",
      "IPython version      : 8.5.0\n",
      "\n",
      "Compiler    : Clang 9.0.1 \n",
      "OS          : Darwin\n",
      "Release     : 18.7.0\n",
      "Machine     : x86_64\n",
      "Processor   : i386\n",
      "CPU cores   : 8\n",
      "Architecture: 64bit\n",
      "\n",
      "Git hash: \n",
      "\n",
      "geojson   : 2.5.0\n",
      "matplotlib: 3.6.0\n",
      "sys       : 3.8.2 | packaged by conda-forge | (default, Apr 24 2020, 07:56:27) \n",
      "[Clang 9.0.1 ]\n",
      "csv       : 1.0\n",
      "pyproj    : 3.4.0\n",
      "numpy     : 1.23.3\n",
      "osmnx     : 0.16.2\n",
      "shapely   : 1.8.4\n",
      "watermark : 2.3.1\n",
      "fiona     : 1.8.21\n",
      "igraph    : 0.9.1\n",
      "geopandas : 0.11.1\n",
      "osgeo     : 3.2.1\n",
      "pandas    : 1.4.4\n",
      "networkx  : 2.8.6\n",
      "\n"
     ]
    },
    {
     "name": "stderr",
     "output_type": "stream",
     "text": [
      "fatal: not a git repository (or any of the parent directories): .git\n"
     ]
    }
   ],
   "source": [
    "%run -i path.py\n",
    "#%run -i setup.py\n",
    "%run -i setupCPH.py\n",
    "%load_ext watermark\n",
    "%watermark -n -v -m -g -iv"
   ]
  },
  {
   "cell_type": "markdown",
   "metadata": {},
   "source": [
    "### Functions"
   ]
  },
  {
   "cell_type": "code",
   "execution_count": 3,
   "metadata": {},
   "outputs": [
    {
     "name": "stdout",
     "output_type": "stream",
     "text": [
      "Loaded functions.\n",
      "\n"
     ]
    }
   ],
   "source": [
    "%run -i functions.py"
   ]
  },
  {
   "cell_type": "code",
   "execution_count": 1,
   "metadata": {},
   "outputs": [],
   "source": [
    "attrlist = ['length','bcount_attr','pop_den_attr','bcount_pop_den_attr']"
   ]
  },
  {
   "cell_type": "markdown",
   "metadata": {},
   "source": [
    "## Routing (shortest paths) der ligger også en nnids_bikecounts fil man kunne bruge"
   ]
  },
  {
   "cell_type": "code",
   "execution_count": 4,
   "metadata": {
    "scrolled": false
   },
   "outputs": [
    {
     "data": {
      "application/vnd.jupyter.widget-view+json": {
       "model_id": "2e2ae3d2e9ec4ae98827dcf486e37ef9",
       "version_major": 2,
       "version_minor": 0
      },
      "text/plain": [
       "Cities:   0%|          | 0/1 [00:00<?, ?it/s]"
      ]
     },
     "metadata": {},
     "output_type": "display_data"
    },
    {
     "name": "stdout",
     "output_type": "stream",
     "text": [
      "copenhagen: Generating networks\n"
     ]
    },
    {
     "data": {
      "application/vnd.jupyter.widget-view+json": {
       "model_id": "01704babc3aa4850beb9605ff939234a",
       "version_major": 2,
       "version_minor": 0
      },
      "text/plain": [
       "Greedy triangulation:   0%|          | 0/40 [00:00<?, ?it/s]"
      ]
     },
     "metadata": {},
     "output_type": "display_data"
    }
   ],
   "source": [
    "for placeid, placeinfo in tqdm(cities.items(), desc=\"Cities\"):\n",
    "    print(placeid + \": Generating networks\")\n",
    "\n",
    "    # Load networks\n",
    "    G_carall = csv_to_ig(PATH[\"data\"] + placeid + \"/\", placeid, 'carall')\n",
    "    # Load POIs\n",
    "    with open(PATH[\"data\"] + placeid + \"/\" + placeid + '_poi_' + poi_source + '_nnidscarall.csv') as f:\n",
    "        nnids = [int(line.rstrip()) for line in f]\n",
    "    \n",
    "    # Generation\n",
    "    (GTs, GT_abstracts) = greedy_triangulation_routing(G_carall, nnids, prune_quantiles, prune_measure)\n",
    "    (MST, MST_abstract) = mst_routing(G_carall, nnids)\n",
    "    \n",
    "    # Write results\n",
    "    results = {\"placeid\": placeid, \"prune_measure\": prune_measure, \"poi_source\": poi_source, \"prune_quantiles\": prune_quantiles, \"GTs\": GTs, \"GT_abstracts\": GT_abstracts, \"MST\": MST, \"MST_abstract\": MST_abstract}\n",
    "    write_result(results, \"pickle\", placeid, poi_source, prune_measure, \".pickle\")"
   ]
  },
  {
   "cell_type": "code",
   "execution_count": null,
   "metadata": {},
   "outputs": [],
   "source": [
    "#mangler lige at lave folder til attr\n",
    "\n",
    "for placeid, placeinfo in tqdm(cities.items(), desc=\"Cities\"):\n",
    "    print(placeid + \": Generating networks\")\n",
    "\n",
    "    # Load networks\n",
    "    #G_carall = csv_to_ig(PATH[\"data\"] + placeid + \"/\", placeid, 'carall')\n",
    "    for attr in attrlist:\n",
    "        G_carall = csv_to_ig_custom(PATH[\"data\"] + placeid + \"/\", placeid, 'carall', attr)\n",
    "\n",
    "        # Load POIs\n",
    "        with open(PATH[\"data\"] + placeid + \"/\" + placeid + '_poi_' + poi_source + '_nnidscarall.csv') as f:\n",
    "            nnids = [int(line.rstrip()) for line in f]\n",
    "\n",
    "        # Generation\n",
    "        (GTs, GT_abstracts) = greedy_triangulation_routing(G_carall, nnids, prune_quantiles, prune_measure)\n",
    "        (MST, MST_abstract) = mst_routing(G_carall, nnids)\n",
    "\n",
    "        # Write results\n",
    "        results = {\"placeid\": placeid, \"prune_measure\": prune_measure, \"poi_source\": poi_source, \"prune_quantiles\": prune_quantiles, \"GTs\": GTs, \"GT_abstracts\": GT_abstracts, \"MST\": MST, \"MST_abstract\": MST_abstract}\n",
    "        write_result(results, \"pickle\", placeid, poi_source, prune_measure, \".pickle\")"
   ]
  },
  {
   "cell_type": "code",
   "execution_count": 5,
   "metadata": {
    "scrolled": true
   },
   "outputs": [
    {
     "data": {
      "text/html": [
       "\n",
       "                <audio  controls=\"controls\" autoplay=\"autoplay\">\n",
       "                    <source src=\"data:audio/mpeg;base64,SUQzBAAAAAAAF1RTU0UAAAANAAADTGF2ZjUzLjIwLjAA/+OAxABXdFZkAU/IAQMA4FyHGA7gLYKsNWLmIYLgQguB0KBkqxmgdCgia94bG/kORixunjcvt4YVKSkw3K3bYgzhrjkP4/jkNYZwsdd7X3ff9/3/f+NxiMQw7DWGGM4dycqUlJSUmG69PGIxSUlipSQw/jO2ds7a+77/v+5bX1SImFnDACMQQxAgMAvRgYAALMIoMsfx/H8chyGvuW/8bp6eVxuH38fyHJZSYYf/6wpIw/kOVWtpiJiMQdyWWObzwqUkYjEYfxyGcKnVOmOmOiugHQfU3gevb1KIxDD+NYZwmOmOmOiuiuiumOsdia7FhExExFBGWUsPwApuo4YyhvTHVUdERuLGcQBiAMGWnLTlpy05bcvGgHQfLaFyC8CARFRFRIhQRljlq3lqzBDMUUwwS46m793tSh2GcMMYg1yWZblbttbZ2ztnbvu47DWGcLsYgzh3JZbp4bcty3Ld+H5fLIxDD+RiWUghgOSzmbzmkzeTxGSwGAOQCTMaBFvfReY/h4ZHEbr9eZiBeY0GD+uXzArCjMIQIEw2w29aw5+j/+OCxDZoNC7uX53zAgygcjCEDXMFUIowiAHce6zxzwyMCwFkw2g1TCDAYMGYLQIEKx3lZsW+YW8jCLECJQMwYDgLAimBSHAYLAvPf5ll/OYb1owhA8jAnCNBoBZg1AFGCYBMYHINxgbAt/rX6/f659f/MIEFIwkRKTAvDyMWsjQ2gBBzEwDpMKUJ4xEwATAdA0//uZ/////9///zAVCrMDIEEwQQSg4WAwcQLTCDBpMEUGMwrSCTBiDJMRIFAwTgZQqGV3/3rX1Lv///+/1+WX/5gfgFmE+E4YEIIpgCAwmBIUIYyYsoCA8MCICcwRgrDDpBUMRMeAwnBazFiGdMqYisyWO/P//3//////Qf//r/////+sZpxnZj5CjmCEDYYAYRhgng8GBYFOYVgOpgeB3mFqOOaHSgxiyiBGAAF6YIgXRiHCYmD+DGYBIJ5gkh+GA+ASYIwOJhNCJ3v/////H//////6L/////y//////+tKGhM3ajVTcvAyiNrDPVIMAzMhZi8U1DUDqbo6N7K2Bsyh1oCTq310JVgEV5IIhxW//jgsQqYUxifAHZ2AEe2Ps4k7coRDMWXAryWyp3ZBFYHh5TCNzjxwto66Hsc6A2JvUyFr9G7bfOpYWg0ancCBqVwlaKN/HR1D0NOI3WnbLDCGkjZRFYAjsrmWiOkxVkaVSqCZKMzdS0wAMUigqYCoShiX8TRL2KLrGXi99aD3YikMaS8eukft5qSFPw6bkPwvORwttI1B77PawBCYDiFSgHBaRyeKSi0VXOYr9335c9xX/ghlEMt0ackKwJkLMGkpXGAiqAddSP6ZCSDlJqtslwqdurTmxtOTAd9QBuZahN5N0cBlKwQADoaQiSE0hFjCRwCmZtsudUjGVAYiA0W1PKTZe+KtacKk29WOzFlyvkkIId2HmCMfVpaklkUACdZjAGZESmLggcUDQ+sxFB32mPGwhgbYGlxNFhFdPRuqnSjq7nyi7t3H4qybrSmINJYKoHfbg3jS3MTneNMimgB1YIcRokmYO7cipOnASI1kiBAwRpZateGVQsNg+ZXavJTMuSjy11Ll9X5icOPWg8pJGVPl9mWqwJpJnPO+q+2uuW7EP/44LEOWFcYnTNW+AB9x8YFf5YGERFsagrQI04ycrBXkAoAjriPEvlgr+M2fRuTvr2c6MhUAStpSdTKp1uzqvxDzWHuVujUdVRfVo7+NkbveaRCmtyBYdjjdGvQ7G85FDhc5UhiI8mGgbLHva2xFtI3DkFPNQTTXIJabfoIHc6HnpduMtzbqnzNPSrnB2WjQPDrQWYrmSvYMMgNPncskdp9qsaglUsiellsZgGmfVOa7DrSpahuDBAl2shK5ZgFBhQGkgkfkrqVpKdLvoquo4zKWoSSUSx6YoyJX5blWgiD5YBgQJDcV3NMF9Aaycu6w5OZXLInakdeGFhlrNOZSXdbxqkPONbibWYbT0DgcYHCBl8FDQYLcAIXK1rFf2cFQCwhSoqgBAMw27KWBNYawDQMlUutWVY0Dq2tERsXnDj6MHfZz1q8kcAuyy1OV+mnza/n/aotS9DUtgVOzBZIY68CG1D2QKANLVQImDDbK1yyKvGraypU6g6sYsCUr3dcZlAQE1YVHloqxobsQQCLwUlNXZK2KSPPRNea+1qB3kdpjMz/+OCxEhqHHZkAZzgACCHF5swdZyIs0tIVBM6kOJj0kpRfSYZ+9EESt9V8JepjK/SXSIR7ddmriNhZkMABS5j8PJ7VG5S6boGhFuXTJQmZ7EwjBCnpVDTAlYy7wwJzJwSS9LMr+a0+q6k5woADLQXSZXejgzxgw6AXHXKnqmC3QwQEUkWHpIL6WKxByGfvfTv0IBMXKTzXu+rnNLkTitEflVEt/KlNWyqXoLOmW7T/CwpQUDA8m7ROkBgOX6JgoIwKYAeU0y2EtlJQsIQLHmjP7BSw7jqRV4SRKPPwyB5iECjwMT9ZlJWcNREYFHA8Y4ChgZsB3jDg4IwMrKwotshi4jDyiOjQsS8hYgAEEtEYoj7D1sFN4qgFiEvlNMypiYoAjFo9QRPKoEmk4UQa8/04sIEDoOAAQBH/jyGCvxIBgUBmMw4sdHBBtg8ujSsThNkVYpBdTslpUHYt/+jSwl1S2Kai9f/21fppDEG4qZKMeIyoTSNBg8MJdA5J3W5ruQykLWWGsqbHImXrZh5HJ/GUokSIWbTxeBOlKNHxCN3FhXvl//jgsQ0ZmxqfAHZ4ABYfmLQA8yN8Ja4u5ojto8KfWK7DM3ua8IgI9l9ZihTLb0DNMf1+3+gNeKbTD3MizMmMyZk0Ras4ziOnKGet9eeJWGZWGi6uofjie5fxtYEQTOwlsupt09Wil2TA5oMTAVMWA5PDrKWIJdP+kjI2kvA6ENuhAL0SmAofcOUuE5dnB5q7V4W2ixY0qZvywCTCACBgJY6JBp5nsCwBxXUxJlcBL6UUVTnF5txbhSrte+biKJyYJiMFltQ4AOk85gYHiwLTQUyWkl6iW/sAo7TMDrlLMoJAAAQgAq5MBgAGggwiCB0OmCgeYYDIWAIEAp0pvGxRUYWCY0MASDxwFl5EdU52YuKqaUL+acqiyJwnvYCsVlrdkVmXMALnEQHXWZAEYJAhhkJPmFAGJAJy3ETRYi5pfZpTd4dKAnF3VU1YIj84MPL/iMOuMv+9BMveN51AZI6DaP2taMpqMMUmmauSituk3GWVJ7lPEFRYFBgUm8zuMzkoygJJFN9WRZrvqnf+UrBPa2F4XQdBC4LThlZSndO4KIzJln/44LEL2SUYmwA3jjcSsTW2LstVhXilQnS11K5urAIpFEk1B1YFN2tWyqFrLeqMRaCHaQbbm8ESUdZWuSCwMZ4WFMiqKzreWq1xYVQJg7ttJi7JYbQ4Sxirvv8+LSHnERFglJJfR+M3lApSEAAhAJiFjhYCodFxNUQqp0jHJUxkzW3yVkYspcrp3ohKHVZe3qWD9RRNWNvjLXZRQyVWSLUgoeMBsw2BeioEKCU1MuElU15sqljouE4swkExJaqtksVI6TD2nltJOvkxwBHXCoCMBAVIxBLg0xY6/4kqvDrqF7XdT1f1bLjLCrgTBizbJBGBwc8KQgiAZholHYWcZECwWAJZgmESnCVrjMWS5QxWKk4zJf8HtZXi96Yr2K6lTP0xGsL8dgqC02CACgJiABlznEcJAYjW1VeUAsokDFooX6RBaBNQ4lUxFO1iUPq/b5UzsISokxeAn+ZI+zZnSSHfdBEtJkSSUxAinKzNqrtupUSQAjsbM0NA9iDOVluW1hYlmcZw7js237beG2krjh58U8sq4hgRg6zGckWu0cnIDjI/+OCxDFYFGqBgMv43F+jFgVA6j1FnPM40KU6qTyG8hB4E8L4WwnChc1851ut1YpHJELTMX2qVQlXMKZQszztekjfoQrRKF8REBibEPEfJVEZENcorxv2xN0WFGLgURB5FTB+YNh6jbotzOXwX33YcB+IdllPqVUscjz0Sl6H0ga+/NyicRZCtJcqZVwjM5DqO2yuffR59Urry+vLmhw+8cvdd4KWMK2J2IKKpOk4afaccAKaS192gQ5clHZe4CpIinogEh5x2NAQCIUIdy746ATDJPMRxcySLxIFpfoS2Hw/ffSUvuqeUVMaWjgN35t9JA9MbXIut10lhQLmAwxOmAQKFwDDSgbltiYhBrlsqgp/GlNcs24Cbg5lBqDoflExKXXgONsPll2RS2HIxQPS4+4bpII3BclanG6e71U9SxTZYWDoo+0Kk0xuLKmWNah21E2Sta1JFbUwB+PwBWC9C+hnLY21odqpVSXP1VYsnjGQhHJFrTUz9zJAfwuTmQY/iHF2OKHREptPmi+OJcF3X1CO5uHlhrME7jmbzudquKJyM//jgsRlWYxifADT9t1ayZI4vp0ty7GQSdIUPMdUbsuGyJhxm6hKWsu23JujTpNWUyk7vMqfpMZu78uTVmYJiU38Cx+NOrHm59it6AWkua/oyCAoSVRCgKNArcmTXGlrCsthqo1qDIAeFxIPkbWmkOjFZM+DcgqKqWt9PVFDWTRVgSpmXMpWGdpuUvdFlr+U72LBMHfjB0mPsiXKiCAC8/ISNjHFUzBgNmgWAygAfRc8Ct0k7En0Z1F32a89L/e+zksRZq/xdl+EcjKS4Kghg4MsYRALHl2vzFXSgliLgKDO4y5uT7uy3ruOtEGuwIzqMye84rEX4lkdgprM63KmgZ4IyrlULEGwKZQzJn9jUqoJ+wqYUCCMGUwhxrcbcGBmXP6+UASxsMcn3djrZaCXw7yXRd3mfpXWoeqv7L5qJSl+H7i79yyEUjZH85SSp42Irchp7GzRuOu/HIKjci3OQTRMRb2adiZpJJdu3pp9qsRh9pz/z9IumHpW/uUBwy+7WW5TDoXXRn29c6mgdD0w5pRofpu8CVJtu0PxPOkdOFQLJGj/44LEk1e0YmwDW9gDsAtxeyVODEnRcxuKdMZfa3J5JUi0qrx9e40KzKMqzLNNlHpY79eme34jEMXilr8sQg2EN9LICHApndCoC9C6Xfa7FJc3GZikYcuBIhSOXIXZgJtYo/boCoMmdC0wREHHK8higstwSAVqr5aa+zE15vxK3Jhh327Q78bjTuzskh9woq0N9zATE1QNFgmJIal5lD1zMqdhm7UEvWixJCSu1qy60cXhbq0lNaTWmIwy5reaWlOts1qQTjT463abWlBz+RZYF3mbQZB8OyqaE4EmBTV2Uw4NM/HBkBUzg0KCgEA0KkTX/ipWMqYJ1o0Krv1VHABVU0EAEAIJMGCWHH3sP2AhJArXjAYGBwFRPdmDHUfhiD11kZUM0Q2cUTaKxsdEAAAQpoYi8dRutIBhiYhApaAkAYcBpaFQKglTxSRYirNKWjN1fh/Zi+BAEwMverAFgEkAhJVyjIDQGp00lRQKBONQAl4VAugGBwTbouCqX7LTjIUMCFUwALh0UDQOHgoqciDr7LCggVm1AGIAeBASnaQgZ9Ht/+OCxMl6rHZ0AZvgAGUQ7VhMiQ4qwsnXY/CeZfUgAMONuWwBwNMRgsRC0GhICgdXI0EAED01xwBMpa2mEYOIZg4YAAFJhN1oIOVUhlV7qsTkzzy5aCCAwIBnVEIHZOFwOQgFQkwgEjBYLAgSMPhcwiCQYEDB4fMNiIGjsSLhgbXrJSHd5RYxiFUCAsSQYAUNSYKPSMAcRCcwwBDPBOCDSXEd9ORWBChek+z0IHpcQIAi51jgoFqpLoVsgDR5U/gkFo7BgTGAilqQAMwEBAcTQCfghimGguTBkwKEGAGEQ4YYALEUx0ND/YjHAyQAckAyCRVyCJkQBFxiI4mGgqJARmDTASASgEhwADAImOBAO3j2q/cNWOCv/ygHlQNjAKRPFQYyP/9DZBdpJUBy0S6FO4IT3IQTxO9A0KjTzv4ymkbnSPVCocm25OW8MRaZDTTq4CDPrTwxDb8Py4Lwu7ea4zB14nDVPIY5LZdFKj9XIYqQ8uR741Xflrj+Q1anKaMvo7ClNJSsOkbsQ1x2Hjlj+PLKo2/EAvCw9vYYmb2L2yRRJv/jgsRzV/xefAHa4AC+5LJ3ob2IwK4iqyAoyCHTDgTU8nUzp9uyeefiIYe8EPRKihyegJ031l0BPtGHccbKWuwsPA1tTitOtyEIGZKKgBXK0lrRB/JDMuE4LSWmuyv10pl9aN2m9p3bfVppELEfk/WsQ827WVhYVC386/UDz8ulr8Oy7MDRlpTNYzK1L3uZgscVBhiyiGgR8YbBiYUBI/IZKYtNZ1ao5yldySOCvR0nhgWCnud6H78uf0qAkIY6IyWyl1Z2GlzkEtwjchT4d9d0oXVLHhonGfh/pHAEoe+JP1GKR/qZh07LIZfFvZWo616Nu5ybU7g6t1AjWoMM1R8eCGpe5bqzjkXX7f2Lvo7cBytTRjrnmmI0g1CkVYQOIxmjOnlEuigT5NGxCFecKZMdJFscW40DHTjOjCvLZBOdlfQFyok6mUOQ1nSaEKk/VepbKRlIeab9GqpSFhTxRj+OQyLvE6pEYYRXNA3W4ublvG5TLy9ZnBmVgsbRMdB7XNdRnrQ7FG/NW67l+lppuldbKEwJOutBUEOs8riu5PyxiKf/44LEqFeEZnwA0/bcupeUFBbtdzrwAzhdjezlJGIpB8gkDX5JQQ9BEub2leCB8g4Sp0GUUFLFsxmIu+/cFxF45e8i5IFhh38nIQkM1xdNDMeBgSAl62xAYBO1QzIhIxwYFihKxERTR/51stmkUwgiKto19r79zDkOwrBQNgYe/scEQyVSAGgqKYQFs7cC4/79vu1uA4ZfBl8N0r/xPsZf99IHdNqcblsEvLadeG3CoYZnoAfl8oRAuDkvzGpBQt3pMKNMQU1FMy45OC40qqqqqqqqqqqqqqqqqqo6ImLQw1FPV7HBjbJXZo1KWmwBE52JupI3JgVdM4cxbw2gC0yxcTbJikpkk9U6+uoyrPJ8XEvBqIayKLSAMpDVpCiDPTxVTDiK/Zk+vocrESulChbEqUOPJ5mJDcE6ojiMWihNLm6hKHqBBPE4Tc5G6Kq5RDjIOsCMpNgMGtmvNelsIaOy1kLOmDt8w2TS9pkZkk071d/IGiTYXka85GNagdulnmetdRAL5tGVWL9LKft3GQt6/MxEp2NyyUuVSQDLX7tSarAj/+OCxMdXNGKEAMv23TIGBMUWKsMrGXxRGfV4Z9u1R9IGdbbSWo1nVjTgCgGkiw1FVSkLgQyFAoNBQCfMAm3lUyhxfVxVytGlDQ37WCpHDcCAoIZ0zJgUDNexYi+6RyHIHASK5mQuDAFLkvFLGUsBaDBbmwFBTbMyfyWv/SSp2ppxs6ksi8FNKgn36eaQMOjOdx/qaA1KHtfRvpFjK39h2GpaNgngB2YoCCPAQDC4yINd6ZhkDQWVKjfqWp0pCrUa9VbV+mxzRgAChwNasMAZYN2njU1Zqne9DC1bXIUGSp0ylNyXJxvOoZD7MaJpTJnGXy3zsv+/sno0aY5FotH0HYIh1FJS5UbOVNkiljqPqNoq4QytlONusYaWrAzPTAZfEW7N/KS+zprKZZBbBkViySTa1hACzJzHAQJSXa8tFRdyE6noSGj6Rqz1hWqM/eVZSwzBmur+VSS6WSXFMFANlEMx6Eu7IR0BpKQpFEvMUElCcYJBQYB3QpIuwKHWnw07bLmuqzwVDbuR18UX2ctMh+CwUCjGY0TlLxUrhGAAXL3eXP/jgsT/ZsxqYANc4ADNZa63GSuGl67EuVPCYaiDujgDTFa5Gi7yv6cqhMwuYjwOKMUDoHF1BZS2MobF1EwlfJkoirWUhAEAPxJ33b5ZMDrdfhrbQC7ygQsHDWouARiMHgBAUnZjEC0rK2DJ8CoCg9di/woBE5y8LMS4Kh0SVw0F+CyoUAJbVkCQStygzluwwamjUDtoqYtw4pedJEFAIIAT2sxYAleyuc7VODAWMDX4MFBQ1eLRwMoNNlQhVIBhyIQFGmuqkjgAAQcEIDaYzpU7oNiMHwMTJcdANJ1wPhGS7b3vqYRBaBhPLyGAQStGXOp0xaFI9p1obvAzhKgEggFAcMBwDC4I4xNorhtfgEug2OHqODbxgSBpQCJgKAaBqC7IIhWc6G1fW3Wb9ymuNs1aZf4cAkAgAu9aRgeDaxHkaVGmfEoHmD4KRBMBWNrSx17AIE0NzFAAncSsmVhaEhBAHBCCRwFRvSEBIDgoIB0BV/K1suh5wpfSl10nm5R6C33d9r6mbtMhTnWWJAKAQLQrZWYAgKEAcYBgKYEgCOAEAgL/44LE+H3cdmwBnOgATBQDCQFAoJrymBoRCIB5TA9ZraCqpS+U+8dPEFkJjMSCpGoRpjgYAGSl0jAIDEVJMYEAIYBAEHAYJBGYDA4YMAEYFjiCgAZaDANMEAZFgdMIgVBQLmEANhgAiMIDAAHTBMaDDEWDAwRTGangUfK93mh16oy0qIp6iELE820gFy6Z5XUglcqsxkIFzFAEAiKDyQMv2KGDALGGQRg4GzCIElyiwBmDwLAoFHRMCgIBwAL8Ew8FQtCAAMAwPh8tstISFEwFHgysBEw+DQwMDUwuCcWDlJcKCOBhNCwAsoGQhd6CF4PG/r+f/uTQXzA0C2vqk//MBwNAIIF1hoJgSESfykhBORZ8GHP2p01OAYZvU0fjV2GnrmnnlV9xH6eGlbqtBeqdT+v5Bb6vtMMpYk+7OXQgZyYcnY/G6G5OOzEZDdnYhK2SP+4Mdf6dj0vbBSwY93KrSoJkM6wdsbcZ2kjktctgTqPs3eMM9sw1GpfBMUgRmKgMQwgOXOS4r6NEXMgmCqkj8tZfdmCaGagevAj6w9IHoZ3C/+OCxJVYbGaEw9nYACMvSznKGZVDMvl+cfgPKLuy+VhvqZ2hGCBgEz0GA8zVcmjnXKlzKbVBTQ9Vn3vfycrQFL4/B7xg0QSGUodRJ0BANl/WlRJpa6rUpdVsUPRZxJE8yii33cdJYyCIuEl2YGDGDkB7KebgnmVBaOBfJOVrkOKJr0a+6D/MBfWBLlNJJdTQxAjlW6RxVNA4CMpL4ireAgVIlxXUZM3CJuxG5BSr6U/Fm7Mtk0CcX9SxluMCxZwX8aG7XJXK3FdWSwbBiqbtQE4bTIn8PS+avZ01GIIGR/VAUj5VRqDRqDXrglrEjjzMoxCX9bI7SXbay6ZHHIIUDDejQOAqwUrYfKGnAOXIaaLPFcE7ReGwuZPzUNeOdZgYBBMaSYEWssy4VTiumw3TuJAN4UhRK40UuMsnRJ3IktG86kukSBjHgqhkhqNRrRvx1ASlxEDf1zVso0DoGY2yp4pFKuVWgqRPBNrnuZO7EGcxmBoJZBGpZKIq6UuZAiErbWZayhlbeyymgOSp1hhSxcvK1GRvBDbYJVA9yrIp+RyGGf/jgsTIXExieOzT9t2G59yElIbYVBMMtJMEH17MHdVazexOlhl/IxUl8leiNx5ZjW5QztmSRL9MIdFy1qSxYUGjpzmCbaNmDAzYS1yyZDDULdGlbnKpfPPq6EZaK+0NwC/DO3CTLZRAoJQTOxIiEl+BhSs8HB4WBEtS6QNBE+VbQwUQQggCYksRwkJSv09Q4WTrXkXHLcyMKB6zlF2JNFm4RMwLm7r+UDku87DtvvMyWIw688TGqh/ImEdMvVCxY0cdVe1I1tcDFoxBM/GZlhrRHjf1pRERnZfdAE5TetPoHIcunhq3prspl9lPZYN4Ge13IfylcB+X6dFpzx8U1kbxyh+oZyiMHupXgh44am17Ns9r/OvGoYddw3meaOsveNmC0WdNzoI4yWjexbKY7Ymm2HRYMpWioCQYcHzLDAOcS7zdlhk+Y8qNM1YZpr9t1f5w4m48rdxrNSUus5LWLkBPC6zLZFKn/uxRU9IQg4GJE3IkDhVTZFNZiRSmLOJa0p8brGm6yKNL3gJub/O8nLadJDmChZS5AUFwcLgiuFtpiMv/44LE62GcZnwAxjbc2CvSzN/GroKjoAjupwh8k4NARggOAQJiZiASYSHBULHjwwwrMWZjp9M/VGMQEy4hADKUtAabDEBNdSUftxJxrytzmvoxJikUa2nAmQvAs0YkEggQMSKQKMGAhJEWIBkpmpqwsKd5YVDhA61USXEbI3FljFkhW5Nuy5qsUgZiLC45L20XJBcPNLlEFyBRdL5iTxtzWtjm61RYBtOVCCcYCJgQCMSikNLtgFSlijvO6k43AvsrHLH+WsvR9IKtNKchACYCBokAW5KZF32kq0u1DDQm/ZoXqm2DLWkSlLKGySVyEtlTJjvumCmKiy6i/lKhIBMmVyW9oV4tSZCzZbTvJks1k8HyqXsgiSfL9Rttn5YC1pvmvPs2Bu0VV1Dykl5MuT8UnGkk1F2hxZ/2BJh0Jhs+kRRQvjDsNCUdo3Rh1YrksmnLC11orVdpmzjOYqitFXLVF+IBkho1BMypovZvki5AFACVQqX+QWUwWsq1CS12RONxQJYy/nilTmx5uc0lU1+lmWlLXMNjRs4oAU8F1MdHgjG2/+OCxPll9Gpoo1zgAqSg0Lb6G4uoKsDEWRQ8X+WCWMzKNtwd0uapkBg8YYAIBIgzjjToHCDiHCAwIA3BkZdIv0sZ60hXmZE7TBqRa226wOyJpUN3YiHANDFBc0mQC5xgIDrEMAgZBK058Upm5JzO0po95hEAAIDYQh9VjrSRXXamirCYEBLWmmNuXBXCy9uMdfVrDgLrft9wYASYDS1NYHABy0QkAbxs0gC/bT7AvHg8fWBIsFw+SGDCtVgVNpBGYyBhiERvYVgpMyMGCwmNCuCW9IAGu1BcKggxMHDHQ2RQEQICACBgMuRBGjaiqzVWlWJtQEE1A3fUpXuxxEJW+6ztHtHNGowwBigAtOb9Q9uSvS/O3PWLHXBhhopfBL5vm7uwy4u++0wylADFo1LJSjO4i6HHVtSPZslwWgMDBIMBAyBYQPBFmwVKooKAwBNLZCqSCwcCnkMAAU1MBRAB4HV204CgVUxg4MGXEYDnSZEGhhoSDQwQAOokmtZTNZRMAFDiQPEIbTswYeKgGHEQUNVbV1LDAkUCwvag37OUu4kYTP/jgsT2fNx2XAGc4AAG1tA8FBBGARgsweEzHpVMhhMxQHlwL7RGLmGEhWPAwQAEgAbrAIHparqEYESdMysJwWQIYx4wCDjAoCDgUsGtp30VX1ZYBQAYrU5goEKCGGwSYNDJgEMmVBYYwEgOCg8BoFRTMxFgzUejNhOPo+83oAEc7DYkl4dYgtosAkFUhezvt66zNE+0EKuEnVdG8AyLBoKAhmCRzEX6k4jCBl8mr5RwfVfyaqhqZqaqdLKB0CGTBIAiG2CBDAoHAwrSQMUnM0OgTS41YQYSDRhgBKGmCQWPAMEAgwgBgUGEiGvlswcAygQl4f/1Vlb3xIAQjNC//wSAzAYBgxZAXAKfagtMg814qjIxNBb6flVI1mmbvK4AllFArPnWlblQtGWHSJFeUrXa30ZZ8192p+5Fvfjk9OxF6XueGK0bYXd6772RNncMuG9jSoan3BlEM7uS6edldkNQ3B0olkbfaVPfZfF84ChujmHJmXtmJDH3+h1pED1qJwHadJr0PL4QDGRnocEsthtxnegCNXWvsRjL/O2+8HRKwy7/44LEl1h8YogB2dgBfOxAkZr2pdDuoRK8ZVL3muOy5Kjo4BMJCwKylrLSWcNsy59pbHYdd5lL+9fiRQyuzGW1aJrwcQJfMMbdQZo4kESuckUVb6Ho8z13GUuqsCia15dScymyRxeJBaBmXIdTDks1T2NHGlMgsBrKVUSjlrD5uIxm0uGl5ciT0P9C3SUyY9TslL2gABAAOClAukAQQvEhOXa/t52YZgV+X1a6uZRGkfCkj1inYlK4rKYhyOwLDsViTfUMNt0tNKcZMdg701YjEW5OzROVDsuAT+A0DXIoH3jTE3YnrDyQ/KnZl7wv2/z2vo3NqiGsQdgKJGqw5USjUYfrCcD5UECNGR2V5uSni5xUJVjobKvRSvC8DSOVsQyGo2VnT8AuQ/0q+XJuOZouCkQ4wivYjeYzSWjrnEFZXNLJ5nMer4IEQ9Gl3ISqPZa0uHHLMlCBW97FwuJG2kQRK3Bfh0q0+5jq1clyyWy282/juq5qTLptRd5mL9PfBdt7CQAjQ7h0cBrNo8/C5pVT4wRRXpXROHE2zzD9N0nmsv1O/+OCxMpX5GZ4CtP43LOgUI3CUFVgeNQ1WGPS+LRl/XlgKWu3EKdsC/LWSb0eo2FJ7JgooxkwAJTKcVIhTAiN78wEnMrc09tZt8YxQQBOxCORKJvm0mltNZawJANOSUGewCTAJmQkGHxbCzVzoOgKHGkp54XHUbC/axbryNXa5CWssxaDDbiK1R1abpPIy1yGkOVBcFqzuFR1IHeyAIU+MnoaNTjPw5eWYSXWOz2NpON66DvtiYEvZ+XFe9sDpMpXshhF4TFBGEDHVAWTHhrkTAjMhjay2vsLWEaa9rLYq4DR0eOpDx16l2MQlbYgwaHBYiYEAsgg6DqKnWJEGbrDv+weGEZH8YRVgR/C6dLTxiGWkQLK0xS2Kx3IUsi7oKwStKhk68FQOiX1RWLKAwDBoIY8CGyhxkZGEDRQHhgIket8AAClKv2xPonQr1ga92aLAsGTHaG8b5upPNYTcXpJFnuRKFtrXcpSxpAYAGMCDWEZVhC4kYBgInQsey+zQKRlEYlrNU05Al1YXq5TeDIG09IEAgoUCYNTAVwYsEM/WckIVf/jgsT/ZrRidADWNt0DFgSgSof9oywoYDrwEYCVgwJCVHCYJQjMSFAsPixcZAOAg8AEOZHkn5voJDl2JVIAS37kqzKQAIGt5aciVwxNnrbIQPuoouhOtYBbqsDe2DFUEHLxm4qXLTvf1DRgbnrhVXTQX6xacQQJYtTLmOCgHLSI2oHto3CeZeyhb6ppmhi0NqrqiLILnWMtMQgadLQlGGBreTkg2YceG1UEJ5RUIgUKArAIKTOac/MCtJYU97vUik2OszSKlLAFor8L6UomR4AJxhJoK4oQlKgKZlmgE6NNJiwujuDmLknyeFzQk/yhCUP1GGadqGMwj6MJsTZjUKZKLBPRgCNJcIcdj0TYW4nJPwjoZpcUIJ0K8oDMEOQK7LySEkJ3IlFgfR4sZhmk2yXa8lpGAwICEYYvAiwaRasEKjMGKSTleBW6ISJrLLnoUGV0rp/2dOnYlz8OO6MoYcz9gkMvWBgKsVeQBAhEHk2wQDQMGW9fF5VMn/nYpku5xotA9ViEVbuttvX2QyXctYw6JgMBl2RZTaGR4I3FF34blHL/44LE+WQcanCi2/jcB1+vpHFlITneQREwJWHAwRZk4SIEilCoxGDjBYUMP742yRBYDkADDA6W6LpPEXtU6bKkihKQOEYCUzdpl8CwqNwq5EFXDIEBwCL9DINMfFAs0YABpMCVYpYpF6USVSo0p1U0BNZVPCV+iEDNlZsXmVTWCRSWCa/kXWUOe1gEUY+4OOatzUkhV0K8YfJkOz9uYxNsz0SC5mo/UJTDQqMeBIoBagrcm4q2pcKBKVOxZadSPOsEQANuiMzbK2IExYDcY6zdnyU8WbRr7pNq7kHuU1FdrTFxQRuBVTP0vRQ9KFgqwCqrHHYR2YIuZHhQJH6i411TaDH1cklAjLpuK11oqmYanMptDrEpap0u12FT4OurA05yoaTNVLGIbMAAterYVlpAKcLRVRUPUHEQHMinsHCR0UvXkVMnqzOVp8tZ7LlUm/XG4ErLqPfKFzpYutACOygdA7DHkv5cnE1BsLOGZAQBGLgq1skAZflL1PVORezrqbs3faCG/f9a7OY4w0eBTRXmTGaUpsAACY8ErdC+hEA2fsiC/+OAxP1mPGpYAVzgAMBZOrErbEWpwmHZA88HM+R+S6VWaknpLkVVbgCDlTgQJBwzQsMv1sxIIiYfDgHEADRJcVsKmLDUcXNYs2qE5ezqNShhrq2Z1xovNp3NSQmGFBIYbPoYDWLM3BoEVIspkTTYEfNoyqsvm1gH3XovRB6BXVTqdVSDZ3aSZhmDpI2GVQuJrtYK0pl0BQ0XFVO4wYD1cSIcAKRMiqw9RzrGzKkT4qEBzthxgILrgIgQyOVtdl22Jonq5YcghYIwR2FBkYyQCSJOsaCQYA2DOgXHCoBLpNKQmsYHgSrG/LZ4OuQ46j7AgE06cydDSS1g6B1qoYuXDc/EZJtG172VNeXIxNBd/opCEOziO/m66gEMv+2hECn4YuiwFgC/KbDsPJIUhmyKDqNQy6yRgkAAEMFSoPrXlAjAK9nVMHCA0EEUmXSQ2RzKgKVwjyDRMZJEq6S5aVKpY4zR+4KfhqSgiwgQG1FAwAGDwKgElKf6+h0CP8FAOIREYfFpEPQMAXuQiYQiSoMrEvxWERgsmGAXAa4HoT7ZYoyl/+OCxPh2THZ8AZrgAEFsAcM2lIiK1F5AwECAHGJBkY8EBkk7qIFthoAgABhADXuYJBJe8tUIQEYLCQWCJgYDGQxIZD66TTG2tN+YoApgQLjQEL6CoDQlKFCIEgkGmCQAZCrJnsgkQWTHgaUKbrTR/UdGhMLAMw4FgUEGlmAgMJABpZbCBXHNdiIBANEFLkiASayU7FDCAGEn8Y5CDdVpAIbF9gKDDAoCQBqYMuNxgwSDo6AIg4oEBIWArzlACMdCAaFCZqU6VacS0FZnHYKhSvRpaa6toGAa3//2fpADABGgCxZov/7bpsTiYKcCKaopADDVMEu3Qwlr0MSCLu5yXRKWQ5DMxFXDhbZZx+W+c5NGROQ67dYw/bWJLSvZTQLCaWG43SQM5MDZODRUj8y+Lv+o870gnoVL39ikHcYlD1aYnHua6yVYWWuQ5Tnv5LMXGnYR3rxNrT8jcP1JuvBjQLEJizE4edpsb0TwquCoIIwBu7FIEwhqj9+ZTDksfB6oGvv7elEXlcvvP80OljVTBy5VFnl1ZWEAgDDyHy45dLbMO//jgsSzVzxegC3a2AHIOiO4RjEYzDkSsQC3OWtn0vZkQcTQ7IkmYOZCqWw7MMy2AazoxWOvE6z9Q60lrjiwNBMCoyoKs5QSmBD5sW0aGZAIaQlL3fdW5yWmvyzF1L7XYEd6ht2H8ppmAXRcVyJtwBCGGYj6UKpRIgbkxhIZjkQBwI1d6EiEwVV1uEgCnMpB3XGL5NbmQwHJgZyW3WW8D9NZgJ6L0Q+SNBgFpCsMVhT5PSo9PResDz7KQ4WvJDMs+XzWO86UDhMra+gDY1Rt2i8ti0/HF8CSNAnghplEgE0JYK4B2LAko6Eo4C46Q4OI6SwC6C0DHSDAOlAD/LGfYmgGvBYzlQBPiwKBJizEsQ4OMaI7h1BgA8zoDgAsAnC+ARRLg3jZTBEr7GUQH1bZGuxejrC/CHDFE8DeRChdB55eXZAoWavBlBwnc1hGRDBMRIRnCb8sl89Kfa248Qcd5YflT7rQhqmbu5VOsDEk3msStx3XnyoUI1JjjwGZSAo1rfQfbnF4Ej6ga25W+lh1plmyylgW4TjbRRjYMJQ4XZGWAe7/44LE62JEZnAA0/bcJ4NJbOoGmTbZIp0/D6PoqopQgAFggvmsMrpO4CARgg4YgSAokMOECsJMgMDlXQ0RJNZOTEQseDk9CIEUvtqxQ5D2SmjYGcsPZxIoq6bE0H1Y061Wu4FAoKAxxoNNtJR9UPS0TSWAfRz59XaibzluIo+jN1B3PmYs8jsQ60l53rdhRKFww48TyYY3RrCgiciEhVZsCUiuE3Itt7W2iNw+F4zopJdqcNNdd9UDdVrS4YAwxSJgtIZ+9SaMgyUxZ+NIWDIHg7CPie7OUpl9uS5qjzzN7PN1Y4sDFFDmYMXnl3LTaat1usqZQk0g0ldPJVKSlrsq2qKtzsIo1VqqOJrNJe6NNbjMYelqrWK7EX/kjXWZQMzlrqqq5WlM7iLupePiwGBHocJwmqKmRbL+mWAWAjMjMhC+70Nnc9pyqSrldUV6GXcSqglS2jrSRk1KkTJGoxJYGmcZ63pe5VYtNJgqFisMhAJIAayldQEAaA1fqcrBW/Yy9rjs9TNhpQFpDuKoxZ/K0Yj5hAOGCwAy0HBIt0YFAy9U/+OCxPdlRGp0ANY43Bpd82zyLOi1lfavFHmnpzFqmUrlAAHHgK7ztPUjcAQ0hQW9M6ekzEDDEIAEIADBMo4l7AKYzOYUu6CE+2aN+X+bm/0w97MGDtkd6AB0AGGQcYFARnMMGCQgBQ0DhEikgBc2MvUsMnUtVsTnkwCeVn0PO0oE15gz1twd95U+XFpmYuBB7svy5rSpYqs1tOYUAsRaxK6GFKPu0w6H6eW8TEFNRTMuOTguNFVVVVUgfClkQQp6wuYcDGCATq1nXmWCQS+zWnCgG0vJG5aa7JC6bnqXP61hezqui4DG20pJttkfVgrzMmJJrS9WmJsxZ5DbRJfcclsjR34euHG7s0dNrD9R922sxmB3KcqLyNqbSlb2COpAicsRZk152V3L3TdjLOGRtBijawLKHEutOZy/V5ZaveSZ9Yk0rJBEZWtJKRqSMRjEulMqiEUdaLzUdiLBGtQxAyjCVraMXf5S5WNlij7XWaROnb1wXUUmIQdkT0MD49kLnZdDHY83sNRqK16O9BU1Ty+SSqFrqMTC1CX6cBIUiDleJv/jgsTpX5RmcZdb2AB9CrCp5ryiymD/vS/Djs1js89aobzKEnQABtTHQdZghJjIoQ3EfXstFjjMYdna8bgJ2nalkzpoEejdFdjWT4RiGFjJXgVBJkFZjXA4CRnKoImE3IWJkeAYAsK6vIwECS8L1hgMYEFuyW+TUgJKowUJMCBTBhVVALAaaYkAhBLMReHbMyw6RwZAMtZc47qtclnGZP/G51UbgEBppzKZSCnEohbVpzHkiAgPDDlBDSXGsKHgALX5J3tnAgMIAdBoQ6ExMFcPvxDkAFr1zrrcMKgUYRAPFV1SW1ebHGWBJWCQBsShxPFMkKgCVgEOAi+2FSKrztg4A1rIDFVC7EMlrgEGTMzAwAwYCMIdZx5i63eFR9rbtvw66PYQBaNEhMFQGlLygIASUBEBMBua7JUAQwUAV/OUr+l5wMB5fkwZCUxjBMIDQAgeGAmhoYIgCBANLwGA4rmCgvI6pDCMCBwA4Ina0Tlb84L1WzNYS5wKCKSp0GHAABgMABheEJgyCIQBYjAMLgdToJyEAEOylTKQKDJVEwwPA0z/44LE/3tsdnQBm+gACgBUjahl6cE2Kk1EIDijyz7uxoZHwWAtQBZTGQUE4gBUwhA9QwaAtNMwbA8wSB8xDCswMBQ0xO8uaiWk6CAQKBVMEgzDATMFglDgHQ3CwIl1CoKZgUAJg5AoYH0urymHIAh2PtxHhQv1GvwA059JbNQ/DxoKRJCDgkIxgYAANAEwEAEwZAtbBhqD5hSE5MA5gKAaIQCCglAYwKARcAJAMDAXIjbkQDAUEVHWTggAUV2QlkUARkgN5iQDYJAUaA1bIkGqIw0A4KAgwABUcAagp3409mf/4sBaEh7QYACdLL//wQAYNAYSB4HBkWgCgAIJyBzVUzWpSlyZXD0fhp9IVATZcmRqlgSKTD2T0NL5ciXgoa5Vf3oguNQ+/Dvwt54eqT8HR1y5mvbmbcAR2TKZK6cVobTWSxF+Wu3n1tQ09czQNJfuQMofGDqjgy2Izl2Pw7M0tC1h0I1Wk2sXRgVeLTn+el77bnMDTJeWBQqxg4JX7KpvUg+H3jvRqPtxvSlcrUGvWqGDJdHcZfDbnw65smlOToKU/+OCxKZX5GqAA9rYArEVKUfQcCNJR2ZbyCnzkkb1Vwkkvl7DoeiUim3ckcnmWkMSMFDm2UETFQCgwBZ64MMP7CIq1Kda7Dlt5X63EneqS50VhUZUhU5VdmMDp3C4cyoGRiwkNEQOzlxX9cmVMWjDlQNAVyEW5dF5VDrvQ1twHgRyAoYZyPrvXUkiXtaQqJnTYncUrVUYeWxRtf122cxGFsDaDGNvy4bip0sId+jdeAWlTr60b85Q8sC5TvTLcXldFjkklFi9qkxBTUUzLjk4LjSqqqqqqqqqqiAENwErERnOWQ5kQgGXuSvd+IsriA6WRQQ675Q4w9rZSwwQ3SwFtQldF2YkPWFcukixowu+TMQ5TLtPrh63KCEtQjm3lDdKlTK7UWaPOWw9U64E+WT1Q2Oo3Z4HAT5Qx1upVJmsFseMCoci7oZRQH2XmhdNkstV2YsYBw+uh7IJduWRmA2V0z6ShyXw1N4PxKJm401+O0cPMPcOEuU4L/xdxX8g0lCmcsvL6IB2XN49r5138hmrBEVeenuNGhuUrsYnL7a7aAwIRf/jgsTJV8RmfCTT9txdsASXn3AZRGIJZPKGtyiBn6gWAFA2nLkX+yBOhnaCdk44AISBABmGABUADeeI2wsAQCrpT60opB0IyiK825vBOWG9nWxw27T8NJTXYmvdcSBRggeBqIiAy8COKF7LW2kTYmaNxQlrOeR0eKWq+YtF4ATvkdO/s8rcnOtVkLT4VJo3GoceF9YjDzHKjqRiB5q1OS+H6fMiAnhYZy40BLS/0fSdXI279uEoW7SFLNohGpUxhQJ/VOIMJhkqyCS9V0l8Wnukiura+jDIPtphUbS30Wfbbm1J22eppLJhTouBE2gKAxJ9E5S5UFsMa2iglwxJjLNiwBQOB40+rc5mQqKNLVxBrcXVsM6iTguwTKmVkQpNZutxeLFkwF5Iuvw3sFtwWGhhiJgNBA4AOGyWMO0+jc1EHgSCaO4z5NosVqawjjRfKXNdZlBKHCVISWQOnG25QiGlDHDLkiwABQ3AoEAIHL+ILOOIQGmwj8p+CHSfN9ViS5rybjGZQ88DPvBC9hAAjAIdLVMRDAKrCIQUPAhP1M1XSTz/44LE/2jcangqzjjclsytvFMnlQxk4qBCYDFygUIlhSypEATB4eIg2YIBphADqGmKEiFJ4aqM4YCUiwICgaDETWQPs+SaKwSgCXd5crD3VIgC8TBkr0HboyABoAhYFGCwEYTBBjwWGKQ8CQyBgyQgYSALDWtIjQQWxelJZtHUHgUmimaqZi8MLEZ87VMjOzeRSZUMea6gq0hSURZWs1hTlNjS4U2WFaRAia654Yd+N2O1BAI5AKTAwMMJBRhUEpdPgrc6alLLVkq5X5GINclp7lQY6jsrJZGw1O9u6ICP9JDK4mxsUbA4zkuvTSJTG47Ce081mQR53mtxtrDFriQ2aupC0VaNSEphNrCn4brEWIoquS5CKMOrF+Ir9tKVqYsTYDDjIkbmDSOHYrFFsvE/IoBULIFbZ1WVQ05EqYeh+YFOZEVH5VE0SHmsXayc23hguBG7gIDO891JNtnpolxwoS0JSKKLNb6aTzp3RNy2FoxkwJW+CASChKrArp24ZUg1BtWW0zWZQ/8XXayKlelrVLFIDZ4ARoikkq0FBctUsAi0/+OCxPBjpGpopVzgAM4dtgj8pmxGPvlAEYX2m27y5FZXdZkisXOHgiMgQMA5hA4mVL+a6CBgkFGCgCDgCy1MZgLmqAtukalRDTPnTaW8EWgpxoWsd/lmP+2haww4WDFYBT6d8wEByYCkwBUNYKSANUK501RAAUwy+RaJpSCFgjZVkKiTGibA1Vg4BQ4yxh7W250DkuwzeKIKs9VQbImbB6qkUyWnJWePvL5B1Q2eGAAEeMEq3DFExMUmxL91Q4KSgxAGzDg3BQFRtXqgqCjeg2thkZc9RVtF6AIchATCwIT6L7KVtbxmWXP2Y3C5ikSlYBLtsfdVX0PKZMCYZAia0DuWCQWOhEBBsxKG0+C8TsS20/j8tKYI6j5qbBxsBQTAQfEAbMXhMUADarzUeqfKljQw1qGVpQlp68S/yVkqMNBYwkDlMU0UwmbumFBaZYDheVPlg7KWvca4CAYZqDqLqtyX7nsIAwALlGPFMZWEhgcHGFSCY7CphoPOE68nZ2lgzJJMEBkvbPKlboqF2GmTLYJ6PkIWVenIq+lMUBoIElK9z//jgsT2fIx2YAGc4ACoOBJiEHlQCCABGKS2ZNCoYAoymiwF3DBITAQFLostU1e1uKMii4sEwBP3xT9ZgwMDCR42cMQIgY5T/osQAWQMYL8DAEdABkUAGRhAYjD5hYKGVBwYzH4OZi+zGInMWlMxEWDRa9ODJMAhELABqMrdxmDc0HQSEDRIVEgEs1MVpqCspXK1vbODNoJeEiAbnJgP9K42jaYUGTsuUy1Xxet+VrrsgF9DoqjMKDYIMRgkCs+MLAQwSCzBQUKyOaIRRqglGXB8YjIZi4gGNxEFy2ZXBJfIwCLygZQA2zDSqAGxIAv/xIBuiqdKJNdoP/5MJzDY7MHgAwiLDHwODgeqPKWMiPRUFhQD4SZZ8skECK5VaARyDDOTAClAnCSeTtMMCJ4ywBBwQOmtEYBI8X0B0rR5TrAQhBQJJgEXuDAOjKXkTkZRBbIhoMsUEggi4kUW2Q1U1hpI9rrnFskSlegwCoc0c2lr5Z7AycxEBWKPemgkYsZrSwgsIggIwQgo5DiINJ9Ihw0zUuGgspsqRy2sqzMhFg8IgGT/44LEmHw8dnQBmuAAgNAAoNhhsEgwCAIEAqYBwBAQaCAAYHHJiUqIbZrqL3BYDL0nwgIgqoioHYOHAppojArT0iS5yqTxrvBpHEIOLfmDgG9AXCAAAbrlgAsdWLIwAIjCoRBACky2WiiQFh5ey6UBYoA3YEAFXu47oiEDotigFbIYYFZhAPIwlUKGBwCEAMsBMDA0QAAKBAyZyFrigBR2MCgYwiPjD4QBQaKgFSTCoGTWSygVJkxl7nUYamSqoYHFosFA4PNJedtFbSEAqWFAUAnQPhi4eD4kIjAoKXRSpxgIFkINAUuDA2DAAn0juLApIguGgRIguMgw7WXDAIpEADVOqVkIgAJgsDAIKmKiMYCDCVbTxUEq0MCZfGUOgIAZlcMGCQKhOfV0nQRNdwRg4wkZy0qmyq6VqCzutcawl+6xgYAs0TlAQ5MHgQqAz/9KhUAQCEtRwHrc//HgAqkSgxRchAM1AgKQACHeAg4DLXtlcOvy2shWCd+GnfrSCRPrLYFdBx4elsBTTJX0cZqzZYJhENSB1KKVSiUxtqkQdBxn/+OCxDxW/GqBb9rQAPYHemGoeXROUFiozuSzMMyi3DD+SahjG6aVMolT2z1Zf1LfxaY8z7unVazH5Ez51YhMTVrj8P1ATyuQybUfsPtGZWpcZ96CgLXYeYFTano/DM9LJRDDjQw/8281BB+VyOR6PsNl8EWYHh5/mvP/BlUUGKWtahoiB1qeV28odvw9dlVFBbszMcf5y2HTDXm+dUYHSeUpkvcumzD8uikCuPumjMrs26V/aG68L0RphyqyDy0k7jMsj14BvikurhMZls7DcNQ1IJTPSiYhjcTrPNfkT/RyjZcvGCy5pyQBdJmStD4l8lklgFJhoEuNKYOMKYORSr7dhPpNJsINDo5reV0PB2kYpaOhHWtSCdiUeiUWp7Dcrr+TUEQxahmCYvN3+goANi0BCT7Jn3dhu8c7RNcZWvpxHTfutInnaY1twBF0uWA2BaCbKxuV5b4yJfRGu6ddtcVGoeqFw9RCGwjwRJbzyNM4mZSvHOE8aEY67CoS9n/Hb1REVrY+Q5jUrxLule8MsmzAzp5pRiIVp5nWS520sUBu8//jgsR1V1RiiLDD9tyyo8kaFUFPKE9oJa/kRa+sBHXnq25Vafy7MS96oKhu1blblwdF6s/KsX/iDqNLVSDghLx11goq6D6uE/MKh+Q2pmT3Y3TPpPQy+0NwxE4LLlrwe9pCqiK79w24kbeCYgSbZA1lgTevtAK5VTF7S+SKpdYCAIQDGBAJhQGYGgHFAxnyiYuGF0UjFH14N2dl+H7WEhtrFRszVnnb1NdtG3cRm7NWOp5EQKTDRhIsDAcLgiLDBnmZS15iLlRl2oq4TzvLH4JtzLpQy+1NDcPQbeZpGJ9pDxOrPVMHHgh/W5wlrdNuGLEavO3F6hspEgQvJMMtgZrT7v7DL7Q8/kBs8ea07zkschcRk9dyXpLYvPJX6ZsxJ0oBj8AYzMONP0/LKnmm3JlEcgOKV1BmltNay8tNDbRmzvzJH/f6N0L+2YAavi1pVZt3ggOegleLeNjRycZnUPOS4MFO0+92KyZnNKyaG3FZtj2YnlhmQBxdCBG0mJNzgZ3l1SpwGVR+ebnZsPvDDKnanXbiDPmJNtVeaPPjD9SSxi3/44LErFfsWngBW+ABulE1QqGuUKAkSBL2s5a66tNF5Y8czMSZaTDpdKbMDNu1qV7ojCQFcFpakUhi5ytcM1MLUPKDQ9PS2zNXmdYQEXmZtTNWVMr5hAABJAJjYc0MajweAxdxXzrLJo21diTQU8zKWmLqZ9A9h3Wu0ruOM/1M9CsI6BwcrVyPCuys8NiNspsSP4o+7BneZNK2Wvy9ucOvurC70FqYvLHewY9jWnPgWHZM8UYkEy8jwOG2FucRlBqtAhIAB84DAQDHzheWvPwCEwuE4fT1AQMUDLcu6g84gMA4QBjAQRWOFwAKg4cAz2IWKpGEQW1pRsIBq6VzprgoPLFZImkzdJyKpHJ0MjL3BYBoI1IDAATRVsZgq1aaJ7EWWA4DJJVHjCAI35c4iAYsFGMBgTQSp6CQGd5Mlka8YS6RQE070ETYHtLALUgshk7BmTusvalUwfRUCihfBAqSJYBUCC1yGQM0VZ7AnaRBe0ZHZlMeIBlyIHN61PUqFQiJQRHkualiw2ZWCXS9KOYJAQ0BgCODA4TYygB4X6jzImiu/+OCxOF3tHZcsZzgAArQHASYBDJgoGCQDf9azFocDgAyBfaRjXS/IkD24AkBiwPVoag2RFAxOIjBYmaEgevZ3gMEEsxwDMqMgiEQAFkpdVrphYQgIEmCwEv1OlOhmahpgMAFkzCsFUfTABQBL3BcNEAMW218OAyRyeK7R0PGOAcZCgJ2QFjQaHQEQgZdKAQAAFZhgkWGPjGAgaj6XRIQGtGjBoMHguGBkuGLeVl7NFhXPUktJ1i2ZokjCwvX0WwVqQFK7YozRSC6hqOmBAcNBBDNX6iinkDxEEQc4F/jQMIACBgeTBJWBFRTlz0BkhbElc3VqoACP/5exQJM9GtAEz//9AIoG9bY2KR9EbAEUtCn6k46zOoHhtvl3MjfmWv8112nKm30XMzdPV+FzJ6KKvi/FNJWX0teRRuNw5C7mnybjHmHNI29UQaO+i53co2cSdxXziD/vr2IVrMxTzcAPJPTU9K5mgp5LDVK+L8zsMtGaMvmBI08c09M3OrQktuY7TVG2Z/Sl6QYhGAAKDr/P/YZTSM2gdVrTpqcsxSGIPep9f/jgsSXWWxiiAHY2AByYpBL8QmBsY499dz5fUh9pLxRotSDQBiLRxYSZkvlR9krdl3RymljlOjD9aAH1qsrnaGzHHRHg8SAXZYwmGTBLbTLnv9GIlC4BZ4zaHXNYbGG7pepmopISi3yCMAApgAOoKpodYYnPmACBQMEoZrcdxpMPyZ3WkOfI9wtukNR+IsZir9MWao7SMwQBFgDMyAi8ABDlb2UqbNs+7AXpkDgLDPEzaAIediedmHYy6VWMw3TsmjLtRtaMDsVp33h1xneZixp3oVDkhdSRT+cgqIJ6gKoFRqauS7T7tpLKzjr5ciWuTLIGtsghL9NOLNWn6EecDwYWNVmM/er55LarHpS5dohln9DXBGFguT0uOm7Ily9kGczehnOfSJP6Mvv0NRo6G5RFiNSU5W0vZYnrGh6MhMJLgwD1Y4hrqI6o4cRJyxk6JcuIjDTPYozAxGQ0SWmUsES6xLIZf13G2gt+JFOyRxKV8ZVLYZc2XccpmjouC6MKddprbxmAgoBDAwBfB9x4LRSGpupSRzCAZyWR+Cq92Pw5PL/44LExlfkanwC0/je370qn4BMKAG4mizBmisyrncd7jW4ap2yv85jI3mjsAMNkKi2TuSOWNOfC6DSAaTmhiAMEwNhbV1IQLVdV+Xzea1EcoAiFaB3La64DU3jeFlajyKxhQeGAAmgSbENAByFNX4olEJCzFmyFblKpstb1DNhq8nsibxtTsSRojSoi5SlzztP+B6R6HdahRP29GL7QzHY25MTkNy/2ikSJKmBgGtZ5wMAJQykVBBf5DNlsJgFhifMoVczZAmshBEuh0YvBhjMxQsCQLVnW4rlWxYRgql6qYKApysOzxY6wEH3IFbKjYhzL8rSSZRtVaxtekTdmBoys+BZLDCQQwZ1RRLjqPuKvBdruIoqpEQaoYt9n4dyVLSUcF8rfVgaOsPD68qYROVOoS56QsOKnSRgcYAgYAzGDtMzgsuasQHA+H2+liwZZlMl3X8VqX9JobgRPotsz9SUCNnL5O+thxUn3fLfL9YFACw691EDCIADiY2cqAMiAC02GO62ZkLJ2kPM/Kv1ZXwdlz3bV4rsBAoiAzPFgX9BJEUy/+OCxPtmRGJkAOY43XiCoHV6WlYY8qJD0r7Xg1pBmU2JtcrSXhf9+R4EvNTp+JfF6S/amxggKmvR+cqGqMaHBpbXEL5XLXeWAiVl+XIWUiY1xJVdrP2Lz8Fs9kbuhcAGI2gLEFmkWFgmp94LsNQU6zTEzy+Serd2yLDQeiusCWACkkl1ImCqFdghJqGkTi2bXmrtdl72tgUSXUGARt6RezQ1a0cmCQOiOyMMBAMj2WqiEAjLjOooFtR8EgiASMopsKVTa8iJF1VUflFXhSkW+/jBHXTUWrJIeSoYMzhy7UHpVJPNdcJnlSA1gqRy17QSpJpqwK3XYZ0rY8bcloLBLzlUqmmCRdZCVimDe3l/wS9rI1TQSj0PFayxRSbZYzCBkjSmJSqSujTwh5U3lrs4YlDjFJOsR4yADEQHMhHYFSdrsSRPWFYPSs1S+VHA7UoywN1YwlvEos2jPW0htmEBswXHSCwDcwvvAbKFM2HvOBRGhC8LplA0YDLV8OZKaR95S+7pv05EBMqVgXIzMMCbes0icFmCyS+cPOSEAcu0k3AKsf/jgsT3ZSxmaKTeONw+7xxRqGTcYBUeVw7sdkKSisMrWzNMEexwEJgAAZizHiT1T8YCsNXKAHehqBIqsG2GvDMPO1k5bOmkNdTAcRc0MrCMwEC4AxEwX2YDAiuUOSFLFS4JhMCjwJJg4BAUIwKqgsMWSUAJg0kkMA9CwwOAR4MgIGBgQLQAwDGBwQ4wBDZZ9pS5naaVDarmdM4FgGzp5FPtGlrXJMoeuR3IXRf4SpCwG/pfhQJFOYZQLCMTXQvZJi6py0dr0qL4MSWizpVq5k4B2Sd6kX5KgGGyNwlK23T3Disih0HDYk1yWelarE5DQV3N0auzph6DLiptOtSO8y1mDvvcpWp5obEAoNiS705E7IfYMy6OItMlZzKB0CQbyP2sxK9k7EG9W42NYN5KIiWq2AGsLDs0dtZCgJEDTD8kMTgxuKHdHxX6xFozdZQyfa2nQsV2meMDssKXvCGkr9ddrShoYDRkAwOSACVpDXWmpgDoEHgoAgk+CCIu6y6OscTrfZpkD3JcyRnLD7KfjI2KtEYWoEq1HBVcFFgwWAy+6Gr/44LE92SMZmQA3jjcYHA6TTB7S8V5uss9mjMEgkw0kkyWXMgYFbLbIykwHf1CBOMRAQvMYNABiD+mWyyGAVTgtYm/SyyFspwtRFdLksDxc9dK31iyBsz+z6USYwIBIiLhnQSs4X0nDDcKYKh0h5oTdUfkSVpRG4rDKXAV2tV1WFtNZKt0v2poy1FAmAbAE0kmktX+c9Xb1yUv01FkVxWlrTd6edLvLF0qCCTgvQYDSlpAAV/NhWiwdtUrFjsvWRRMmYeQAF/WbytlA8C/qzIGZUGwum1twFTNu4q92wqGOFGEPRgBD1kMZaQwUmBcSLypdS01hVyM0HhlFWuxVgDeJBteZu16VqVjqyzn3X7PTDY2luI57kCAd+kmFTsHU/ClftClKQLGG3UHbu+6Vws+37uSdtZay+SQ06AVUwkgGfR5ljN365Ekb1GIZcNcyXi/2lymHXXW7JVmswm2utBLTmDQo0UEgRYBKZdamriDgIJiGLAJfr7FAne+Uu4j4y9ZziRdbErStZ0td2G1UkzldzkLpYYnMIyQDgszZDgLCEOF/+OCxPlkxGpgoOZ43Gn0+rN2AS2nXpASgS7IKQ/loQBW5tQVPcjpbkmBMHFQHAoMoETIf7NqIZkSfy24BbVJWKOyoum8pmrYWvaUnAspc0DM3fnNN1lqgadQoBjFC3EADWe2qgSLUNtHh+BpeowsZl7qLPYGr1Zb7KpMqZE6IoAUJY8AItJnReFoMonGuK0sEUydhnC7Vh4y7aBTX2gLzXczVN5oNbEFwRkBhUEqarpRCaur9R5TBOmOOKqml0ocplDk+9Tto3MYLyqYhY4iAGZQugJuihUPxVJlYOWuMqVLxOg0gRybnYR+cfrcIwkIpeQqAVh0E+6iuGAo8urLnB48SKFRNCKr8ZwmKXVexOtTy7WwQtoTPUVpS0JwFmrpYs29WNtq0dcr0qnIhu2+CplKXUWS3zQzAsLCscI6zMkAB23UdqAi0rF1Tt2T6Xywt7mdJdv3Ajfw0pm3CNN1T0AwXt8gQRrYqyVFOQqiJgIXuz8UAVLJ5Erp9S1icnagoayZhz7qrI7CgDrLX6w1bS+IMqJiGAoEQ7BzlGAYUmBYAP/jgsT7ZlRqXADmOtzNmSP09iYrc1MmvIPqW0yp1WL8YYBQAVXglzGYGAgBpgtQSXCwXmXUMmigVCwcInomuHDUIrsxTviiw0SZ6XdaGg3OqrtUg+UNaSHQBISDBsLjBAKAMKUWauv1rLKVPLMGQAVvkqKAGABqKxYJSPRCZ3C2KpvPspqAgCTqXqwNOlsyaSk2XOW6bKUxWvT7qp8tJa7Gi9cggdj616/ZXuof+MSCC4TA5X6MCFSB7tOgJAYvwztItr76Kqr5WOwiMKcQ0vlmESMAm5JNrQh5HNXKXzftOaFDCqi42IK+XU8ajqV74R594oo8wJ+EqlKGusiQ5L7bVXTCX6UNaCsRkY0Ut/LGLRpU7fSVZKuXIW8u9YdwHUjbd1Qvw27arpc6MNq3ZAKkUypgKqrhqWpjRRcKtphMCgaCq3KZBUFTywLBGiOM9zcIKbu4jKlJFuk+oeay0lvVf23gYc66YkRWUXlZs5LIneYSCga15XKwoYBUi5xUE3EmYxRlKDLX0jlVE13Ka0wlfunhSEikCOQmg4UAiQRHgmz/44DE9mMMalQA5jjc8bV/19J2J3Lsd5gKSysE4iOxpuKXEJTDao0iQLGSASYFgGAZ2fUMoKFltEdMlTK6zktW1JBZLRPNSLoppKUp0vooY/K/mxU8aXQjcPGshADTWzqrW6VxYm8aYy5GDITXSZlHXlYcjcja192m4KAMZbcqABMaRJfPG15lbVXyhtsjwOiOA1Eh7F4LZUEUBX4+zK1Vm1n+VSEZyrmMKwWchsoQGgEAKPrCodSwBipC7lYVANOdly5WEpevegDaAvtBp1ECAOSNnhhONpaXCCy3mdrudQsAZmgUzZdq11doLK3xxJFQNYBANK4s+NJkrhqjWZGnUX6jbvPxF37QuZKj015TKCHUlzNEJ7qQtvEeoynnQJUwRFWdK4SJelVSw4LFX7aFfaCzVyWvK3BYAmDDiCpI2NriOyiic6CRrDBqRvljKQUzb1dCqkaaYu9hjeJmubIHuacr554eep3HmcdHZYi7ncVKyKHiEAOm/bXXvYEvRoUcZwxh5F+MDaC1lIqqnzGpOrDDK2k6SUAgwIEwGEYGup7/44LE/WUUZkwC7jjcbLQqBWetRDAknmlcFQGpmj2y5Y4kAXDSVetOdGcDAlhzM02TLibPqBNFddyQrEGBqOOWWAeqdpsUSlcZursNFbuXwkUOKAoUNUdV/WiAokgYEvy0d1nVa28cdcROaFxqJtFU5QfXhIGbTacT5M7DAM1lkysEgfxezsF+0mkhlbXhY1i3RLcsy1uWoNGJgK11S2ecpPluVlVMQU1FBImA+XEDmEArhANiwCug9gBADJXlRB4iA52nJW+gEccQgAwZQ1hI5TaGKdoU4X5DADWMfYsYuguyFn6eocY4jlLaCgMEgwxBVk+sCSE6eidCMc4DREWCtHcHMJ6JQUgl7EY+T8Q4MQWcSxIQwEcCvMouQhxJEAG+EjQ0TyCPgmNIw7A/hkncXkHaYDSi1Kn6XKrFQCrOZoAqOM9L7O06TYHfoWERNWmBmcSZGlnClxfiGVNWNpGqOl22XkwUpqjzDqsMSjMlbRAENAyasMs1bop0+LbwbI4w7rtsNZi1iy1lORkLow2riVNN8SBElxECt1S0UQc5VpKA/+OCxPljnGpMrOv23CtqCQCgCyYmDQR/2GSMsipiGAcJeQVBzGAUeKWUAULMCBU0H2X2BcAo7TAwJa60GWSNGRYR2UUqR2U+Wbui6K1IkXiclrbL3jRwlaQCxUtxIBfR3UrV7MUWFTAZdDrXX/V0yJTNmMPVUjGI06ai2lVZmMOhIILgJeiKbKJpZtx3VD1KGjMwX+9ihwsXylmrLXhdWJT2SiBqul2gAMhhCHJhyGZiSEZhiCZguAqtSi6QBZMIAAcAVFNS97UOSETgplqmKoEB6PSQrTy/zNLMPRNfy35fF0qVYFPMCEZEaYHaZBiRC/ou9y8LMGvww9ORcjbOCiq3NQdQNTN4nckCVTwKDPg1dSRbVkq6FNomxJyel5YEn1DVL5Yjm4r9t6n0sZNweVLGPolhwWdwEtYmEkKWAsqBh2xld6RS3kR1VVNGmv44TOmkpHShMRYF0S7rktwZy1hu7bL2huu0lsVAucRgak3zXsgRUrhEPPAupexdNS54oeUHgdda65G464XsVWSSbmsMyQvy98GhYBTlaAw4HASLgf/jgsT/ZqRqSALuNt6DS9zBQRA4SHSQMEgNMOkfpRRUReFMYBFzeiwTGkTV+A4hQRrdXGkE4Rg8MRSrwrdZ80xxJEhe18rBUO6rWhUkHRFobnJ0NjSoL6OuyNoaZqYhfcqAbjsnLVNkR7pLSI6xIdYg8qtrH0uWIKwsgfxP1VrRlhFUl3L3X+h+4Nwum2rQ1GYeWYtCHofZzOJovKYWEOApq776JXNJsdoJhhP0wxKEMREydNgzLHQw5BovmPAxFEVEOghABmiVaQg8Ab1KGl9WyoewtL9kZVCo2gnGAIWqvBhx8CAkGAT4HuysmAXNR8U5XmqBnqZi/lvN6hilqo7DybDC4HFkStMNmj4QWreyNMhBWVw09rQiYYqgrK0RYjjvooutZlSwqOjTk12wrqVqUca8ipCn6VWko8VQtpb6CylyJYgkSWdEYRWhn5dJkjdFgFhWJNJkaCNXam4hAKdKAusp5Kp6F6QKvtFdzGaJfqqOHOx0v8mG+/XhTyYIqJt1M2JNGkSFjSFUE42hrfXY5qf0fgRbS2GUNMYskWv4tqH/44LE+WckakQA7jTccCxUv4OAYdWiFQK104VZGcuk1yMspUVZ+WqSoSTUETdZmmOuVZ6bqj5bh51cVGhGXpBnxPpRN7ckArNLrWgxmj4mK/g4LUuUwbqvFcivI8nJWDAakJY3i/UJTEn4LfucgLdtkK84goasOnykXAcGthJgqRz1LDtyazDiqS8VbBos1lVdrAiBMrSDY8hMaS+U8tFhyXiNDBRKgCgiXDTVX0F6byoXuxIMxCIYEhQ+ZgWBQ0BYXBFdoIAGVrtgpXIkCbSAMBTcn1TPTLRMiyMTNFuKNiqJehJTEW41xdwBfWdSCoHTZi8OllWdPK7kPMdXQBDP6kVLk0X5aiW6VVUxW8p9334dVrCC5cqVCIKjEQaWv6dQPFqkSlaFvKCulAgsRZqkVmNCcGdSMZbDJcxeK10eAMaHU3njhlF1FVeSaIjIZQq5gwAhfmUq2NGShVQVtcUu00GnUHLsKEv3RrzjCf0Rhwo5DYotbDxx5kK+YshWugBU4zNpiw7zs2WuoNAiQz8JooDRUC93KTXQVXyqQVGtZoax/+OCxPFmJGZAAO4w3VjyNrRmSvQrLDrF1YSoduJe+ULBrFbstJHdrTnpwLAhUaJ6wyGwOI5aplYRICOSBgBUQVaw1QdM+arUikh1Hij46J7mAJDI8KWRNS9BZNNVy3VLpQFztiSldJKedvGEA0YuE/oXInwHBSqY07zSlTp6KwpULXcEu2XnSvLOR1DAcDLXEWmvpTlZJAALkZENLQkBYjOFVS7SXK5AQ1LYVsRALWpsNUd6SiOBRAARjCC5gwAoCBNQSlXIlmTAcq8WABZQYEJaVcJEBSOiMw4BapESVWqwF50j0whGgHLhxPtY6hjSlHVUEdCZDDEcy8jyMBYI4cEO8tlY6mDNE7G0SKUcKBr+DkNvTMBZsWCIOOpDamz9tca0+64qVtVZpCzYtkPCFAF7Ua1YkNxrE+pmyxlK/MFC2vLTfFWFz0b0X18OzB8RdYDGK9S/We6A8Wquiu8zKHxJAVrrBLTZe5cJZCylr6cjhhBKK0JUdZOhwfRf6mqPS2kSErGhw4sZNxEda8rWDbq4C/S4I822MKBpjLzbruIyNv/jgsTtZVRmRADuMtyUy+nsvepmhCXlSVhtiiSyejGkOjkxOFOCqegUHX2gbEVYJcomnQnmv5T5cdIcvgpTD6eLE0zE5WhPHSsnHAkM0nkOjnJcP88ylC+QwtW1BEzxAMWeWCa43wQWwWCnbR1X4WvTWYgluhUuC0hOR4RzDAEBb3Q0XwQvihMS1laxfWH0q1b7S+lgJlg0ehrj3KbLMXaXEbk4oKRT7TCPUcRiMvh1ZBcpUsgqBoPwIxMxYB1GRfRg0AhdFoLDjAgARAACWDSmSPUPADDatxUAOXp0LiTkVhDhzhdpgSPKrGlLISNUbUk1MuU6ygooJmIyB/R4rdW5pWMFZynYjigOTEXSkSzxPKaWHiMNIRO7HaVDsrSgge6DSUan0PV1KUrFcFa8CN+PKSjWKjej6sE05VkwXPhlkCCN3cmyKlgZZCl4KHE2vFpmoKBF2l1pUNSY8DRQ1alSd0YgNcida7F0l7VBk5BV0ZS8eBMjOHk7XpbuwJKAuGNML1wMxFKtGRLF/2pqqMpiiQiUDgJxLJXuTBX0sMzFxGf/44LE7GRUakSo7jDcjkKGrqQCqbtUZowxdrAyUMZgZnipEOC8EJZb5UMBLSLBGhwM48AvGpWjOtdpUVcWQvIwinUeaazpoxIN1loqZroHJOFD7R2WoQsca6X4a1kqvAigzU2lrbQyQEN3YuSHY016Dhaz1piuwwR9HzSSTqUHY4y1iS12KQ61yRzL8r8Z71LFIxjagCZTxxIoEpUqqzZb8QWkmmI2iBznplrAqrrRdaR36kIE8GOCYajIt0GgtQpysQYIrKHCBIk30JK/BwBl9JpMuCAGGQHZeTSEjpDoASQCt6mCCYgC7g8sRKIgs5TrdNExyWgSd/wx7pw2yx5U51lpiq2r4hoimhILi3lBU5EJyy2dp6twVkXpASSbL0qmitWhpiCDtMuAkGTBbWTMYTGXazBdpIdfJeVnVAhAra1wuKxcME/jfslQzfOBi+LnKGIqMFZsigu5jz6lu3EonlYeke1F/JUupOx11A1msQBwTGWgt4058VJtwR+jbjtwW0t1+VIoSY6XvAgCkVJ0rrRhxnCW4klK2HQw+sysx6F4/+OCxO9kLGZEwO4y3S+GAsBpWCVorBDoFvEDnKLbq5RRTZTLYOipDcFNMEg76c6NKGyxC/rcoZUvjrEUOMw6yXUQUqVysGpQMCDyTEy47FmkJYw+wJMajVGytTpbr7r9kLY1rp6o/pbuwpo9lKneoOOgMQhh/iYlWhOUiFYOykdGZW9xedWx5bQiBnExG8QTJoq7ftqDJGYLFYimNGFvMFZkE4r4FR0wS7rB33fobWpH35L3ihIgEAhIATBcCQgHhUC2imAIIF2Y2RAG15fogAhXL6wK9y0oS10Oej83RpyZxaIuqWvYctNeM2UHiSEpoKZqV6pldDxS5iEhBdiiF694NL3Qy+jNok6KRCcq1lptQXwvwW8FVkomHFyUhZU7SiK8Y2qBuLcmGEKHJbrNLNTxdti7LEPWpEQkj2QsSTSEYH+a4pY3RE5ajhIzFvUPSVSPDPGtLmXsqExEclQRh6EhSaNbMlTq3s7a0sZRtX4XC3FNdur/FqyCLqJJKxOUmGjUPGYQr94Wto+PrImPToXCprwvlDTEFgFz0qYkVTXh5v/jgsTzZXxiRCjuMN3mrckOodTKUpvsQV1Clit+yBQFvFSIpQKv+bfxMRiq6nzQhdBmKWrYIfT+QANqnUOGEQ1OWkq+VqR7YmoK1ogI9jNGVqeVesOs96ouyxKNd8IVRg+AkUWno0iQUo3cVI6LO0rkE7X0M40o0RCT0g1NqGlYXiTpVmTFVlpxQCAOKAQCj7jw+qtZXuqYuWreNXRASvgcQFWEIYGkrzITXHnmGu9OOwAvMHBIMSiCZ0gMBQzpxqELUKwGEQAMPkRgAAoAAIZAlny6oQXTUHWFnV6oSFFldpWKwKmL/K8LrrlQ1RPKBZKgJTtc5h6aSww8E3NkjZXgUkouicnZDzN1ispaIqovpx0qVU1mNJcpAi2rWVXJpJdSdFFkCwYXCbklcyxAAIwBUGoiczVGNMBpSikSHh0HneVzDqg7kpMIiK0ImvSyxXrBkxU6ksVB1crkV+yhmaT6gCaUpSOWqnnBYoCg+vN+FfNNXYvSUOgu+OJVqGJmWWGJls2VeiEnA1tXrwdSJmmmJ1kwacq1xQGAk0UXHqaPYbj/44LE8mVMakQBXcgASpdDF8Je8zXWuMAdCLM1gRNZjooI08s2siC0FFSy1/2gqbtWuKqq6cNDgmmrYxlRlIp8Fnjx6El/GaOlABKYPSxJcjrkSajbW1DXJXk4TAC7qmbE2TSddqrk1EfCYBaidCfztrfm3LgdVJ+1fO4iwp1DkJSdUdd1qTgsdlDEU3msKaum19MFnKY8MKgjKmBbpVoyEg+z84RlZKMMieYaSTdq0tUAgg/YCwxaBU88Q0xHD8xTLoy7HQwHAImAgx3FMxuEAw1CYRgQYEA+QA0TCAKAGYPhMYUhcY80LClODkBjUFBozBAFEGTOM3BoMFFBpoXoNEWNAcQqRtX4YEchNWSkKISpgBZZAyAAyh4WTJiFQggNX0miXFRVEY1iw0GDJoJCAYOYkmwtIkIVGRAmFBsxLYgAH1eJgBYhIkgoskRABYAWYDggKBmLBqTiQsHBwoEEIabqXBaU419VYDJSIiikAlqtawSfqAMwoRiZoR4kJdkEljCAlijwIEljDgGdsiTGLrLyLxLqqAIyPCBgQpaDDyRw/+OCxPF59HY8C53QAMA4NBAEFH1iMrBg9JmKAUEYMCFGYIBhYIDh4gIiIOYEW7UW3MqUx1E0vDMrlBAGOg4OiOmkzQu8qYACwQVQ+CChjj4iAESIDLFyKDrAAlANcgcKZMk1GA5Knmg8QlEBIsXRtRNQCq3OWCAMSlzhJpJ1OUzJAM78pC5BCgGJAYIL1pnMBYmXVEIMkKqYI4GlDGJGQYMhQhulWWhTQEAxMADES+QWAl0zIBgKAL5iIYgHXQDDIhACxdVyXoYDBouwlVQOVL665YRMtZZzAL8wzKpWra+0PoY3QsDL8mTglqjNgf/y/Zf0kPirM2xJh3/9WqrapSywChEyMQ9Pg/Og5JwUPm0cmqEmDXHFjES0zbI26wzYAYCmQIiQ0AljRoiYKYUoZcgHCkQTBA0zQqGMeQB+gLwAiKYV0FSTUR4ATCwtiijp1DVDM3F9FtISsqY0mcV0JCnwbIGExSfCbJcICAQnmENAwoEfQao+wqQAkxhXQwTxN4epLE9DUmU2oay4fPo12I5jSUU8GieUS8QYhSqUp0ui/P/jgsSeVbxltAHaeAAuTISoXJCm1DXE/idOJ/GkorvXuHz2LRiQ5RQy+kJZy2lxdH8aTOPkNSqxJRDUqX4epNiugqU2N0Q1GoonS0T0TVaOUuLpPHU7P0gqqbVay4fPo12JDlFGgq2ZTIdEOY0lFd7pTIdAOY6o6dQ2Y/idOKmQ5RT1r7VrX43lhZZUNQ1xhK6dOnS/OU0WVuV06lNGdOqGieUUc5ScuSdUMRPIdOfpOXJSoa4wlc+3BfRpU6aJ0vC3C3Gi4kxBTUUzLjk4LjSqqqqqqqqqqqqqqqqqqqqqqqqqqqqqqqqqqqqqqqqqqqqqqqqqqqqqqqqqqqqqqqqqqqqqqqqqqqqqqqqqqqqqqqqqqqqqqqqqqqqqqqqqqqqqqqqqqqqqqqqqqqqqqqqqqqqqqqqqqqqqqqqqqqqqqqqqqqqqqqqqqqqqqqqqqqqqqqqqqqqqqqqqqqqqqqqqqqqqqqqqqqqqqqqqqqqqqqqqqqqqqqqqqqqqqqqqqqqqqqqqqqqqqqqqqqqqqqqqqqqqqqqqqqqqqqqqqqqqqqo=\" type=\"audio/mpeg\" />\n",
       "                    Your browser does not support the audio element.\n",
       "                </audio>\n",
       "              "
      ],
      "text/plain": [
       "<IPython.lib.display.Audio object>"
      ]
     },
     "execution_count": 5,
     "metadata": {},
     "output_type": "execute_result"
    }
   ],
   "source": [
    "Audio(sound_file, autoplay=True)"
   ]
  },
  {
   "cell_type": "code",
   "execution_count": null,
   "metadata": {},
   "outputs": [],
   "source": []
  }
 ],
 "metadata": {
  "kernelspec": {
   "display_name": "OSMNX",
   "language": "python",
   "name": "osmnx"
  },
  "language_info": {
   "codemirror_mode": {
    "name": "ipython",
    "version": 3
   },
   "file_extension": ".py",
   "mimetype": "text/x-python",
   "name": "python",
   "nbconvert_exporter": "python",
   "pygments_lexer": "ipython3",
   "version": "3.8.2"
  }
 },
 "nbformat": 4,
 "nbformat_minor": 2
}
