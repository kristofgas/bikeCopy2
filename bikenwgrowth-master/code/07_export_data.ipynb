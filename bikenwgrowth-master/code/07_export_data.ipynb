{
 "cells": [
  {
   "cell_type": "markdown",
   "metadata": {},
   "source": [
    "# Step 7 - Exporting graphs and data for external visualization, further calculations\n",
    "## Project: Growing Urban Bicycle Networks"
   ]
  },
  {
   "cell_type": "markdown",
   "metadata": {},
   "source": [
    "This notebook takes the produced graphs or data from previous steps and exports the data in a format in which it can be used in an external visualization, or for further calculations.\n",
    "\n",
    "Contact: Michael Szell (michael.szell@gmail.com)  \n",
    "Created: 2020-09-25  \n",
    "Last modified: 2021-06-26"
   ]
  },
  {
   "cell_type": "markdown",
   "metadata": {},
   "source": [
    "## Preliminaries"
   ]
  },
  {
   "cell_type": "markdown",
   "metadata": {},
   "source": [
    "### Parameters"
   ]
  },
  {
   "cell_type": "code",
   "execution_count": null,
   "metadata": {},
   "outputs": [],
   "source": [
    "debug = False # If True, will produce plots and/or verbose output to double-check\n",
    "%run -i \"../parameters/parameters.py\""
   ]
  },
  {
   "cell_type": "markdown",
   "metadata": {},
   "source": [
    "### Setup"
   ]
  },
  {
   "cell_type": "code",
   "execution_count": null,
   "metadata": {},
   "outputs": [],
   "source": [
    "%run -i path.py\n",
    "%run -i setup.py\n",
    "\n",
    "%load_ext watermark\n",
    "%watermark -n -v -m -g -iv"
   ]
  },
  {
   "cell_type": "markdown",
   "metadata": {},
   "source": [
    "### Functions"
   ]
  },
  {
   "cell_type": "code",
   "execution_count": null,
   "metadata": {},
   "outputs": [],
   "source": [
    "%run -i functions.py"
   ]
  },
  {
   "cell_type": "code",
   "execution_count": null,
   "metadata": {},
   "outputs": [],
   "source": [
    "# Run all parameter sets\n",
    "poi_source_list = [\"grid\", \"railwaystation\"]\n",
    "prune_measure_list = [\"betweenness\", \"closeness\", \"random\"]\n",
    "combs = list(itertools.product(poi_source_list, prune_measure_list))"
   ]
  },
  {
   "cell_type": "markdown",
   "metadata": {},
   "source": [
    "## Igraph picklez of simplified carconstrictedbike networks"
   ]
  },
  {
   "cell_type": "code",
   "execution_count": null,
   "metadata": {},
   "outputs": [],
   "source": [
    "for placeid, placeinfo in tqdm(cities.items(), desc = \"Cities\"):\n",
    "    print(placeid + \": Exporting carconstrictedbike to picklez\")\n",
    "    \n",
    "    # Load existing\n",
    "    G_carall = csv_to_ig(PATH[\"data\"] + placeid + \"/\", placeid, 'carall')\n",
    "    with open(PATH[\"exports\"] + placeid + \"/\" + placeid + '_carall.picklez', 'wb') as f:\n",
    "        G_carall_simplified = simplify_ig(G_carall)\n",
    "        G_carall_simplified.write_picklez(fname = f)\n",
    "    if debug: map_center = nxdraw(G_carall, \"carall\")\n",
    "            \n",
    "    # Load results\n",
    "    filename = placeid + '_poi_' + poi_source + \"_\" + prune_measure\n",
    "    resultfile = open(PATH[\"results\"] + placeid + \"/\" + filename + \".pickle\",'rb')\n",
    "    res = pickle.load(resultfile)\n",
    "    resultfile.close()\n",
    "    \n",
    "    if debug:\n",
    "        fig = initplot()\n",
    "        nxdraw(G_carall_simplified, \"abstract\", map_center, nodesize = 0, weighted = True, maxwidthsquared = 500/100)\n",
    "        plt.savefig(PATH[\"exports\"] + placeid + \"/\" + placeid + '_carallweighted.png', bbox_inches=\"tight\", dpi=plotparam[\"dpi\"])\n",
    "        plt.close()\n",
    "    for GT, prune_quantile in zip(res[\"GTs\"], tqdm(res[\"prune_quantiles\"], desc = \"Growth stages\", leave = False)):\n",
    "        if prune_quantile in prune_quantiles: #[0.5,1]:\n",
    "            GT_carconstrictedbike = copy.deepcopy(G_carall)\n",
    "            constrict_overlaps(GT_carconstrictedbike, GT)\n",
    "            GT_carconstrictedbike = simplify_ig(GT_carconstrictedbike)\n",
    "            if debug:\n",
    "                fig = initplot()\n",
    "                nxdraw(GT_carconstrictedbike, \"abstract\", map_center, nodesize = 0, weighted = True, maxwidthsquared = 500)\n",
    "                plt.savefig(PATH[\"exports\"] + placeid + \"/\" + placeid + '_carconstrictedbike_poi_' + poi_source + \"_\" + prune_measures[prune_measure] + \"{:.3f}\".format(prune_quantile) + '.png', bbox_inches=\"tight\", dpi=plotparam[\"dpi\"])\n",
    "                plt.close()\n",
    "            with open(PATH[\"exports\"] + placeid + \"/\" + placeid + '_carconstrictedbike_poi_' + poi_source + \"_\" + prune_measures[prune_measure] + \"{:.3f}\".format(prune_quantile) + '.picklez', 'wb') as f:\n",
    "                GT_carconstrictedbike.write_picklez(fname = f)"
   ]
  },
  {
   "cell_type": "markdown",
   "metadata": {},
   "source": [
    "## Igraph to GeoJSON"
   ]
  },
  {
   "cell_type": "code",
   "execution_count": null,
   "metadata": {},
   "outputs": [],
   "source": [
    "for placeid, placeinfo in tqdm(cities.items(), desc = \"Cities\"):\n",
    "    \n",
    "    print(placeid + \": Exporting streets to GeoJSON\")\n",
    "    Gs = {}\n",
    "    for networktype in networktypes:\n",
    "        Gs[networktype] = csv_to_ig(PATH[\"data\"] + placeid + \"/\", placeid, networktype)\n",
    "        Gs[networktype + \"_simplified\"] = csv_to_ig(PATH[\"data\"] + placeid + \"/\", placeid, networktype + \"_simplified\")\n",
    "    for nw, G in Gs.items():\n",
    "        G_geojson = ig_to_geojson(G)\n",
    "        with open(PATH[\"exports_json\"] + placeid + \"/\" + placeid + \"_\" + nw + '.json', 'w') as f:\n",
    "            geojson.dump(G_geojson, f)\n",
    "    \n",
    "    \n",
    "    print(placeid + \": Exporting simulation results to GeoJSON\")\n",
    "    for poi_source, prune_measure in combs:\n",
    "        # Load results\n",
    "        filename = placeid + '_poi_' + poi_source + \"_\" + prune_measure\n",
    "        resultfile = open(PATH[\"results\"] + placeid + \"/\" + filename + \".pickle\",'rb')\n",
    "        res = pickle.load(resultfile)\n",
    "        resultfile.close()\n",
    "        if debug: pp.pprint(res)\n",
    "\n",
    "        for GT, GT_abstract, prune_quantile in zip(res[\"GTs\"], res[\"GT_abstracts\"], res[\"prune_quantiles\"]):\n",
    "            GT_geojson = ig_to_geojson(GT)\n",
    "            with open(PATH[\"exports_json\"] + placeid + \"/\" + placeid + '_GTbonly_poi_' + poi_source + \"_\" + prune_measures[prune_measure] + \"{:.3f}\".format(prune_quantile) + '.json', 'w') as f:\n",
    "                geojson.dump(GT_geojson, f)"
   ]
  },
  {
   "cell_type": "markdown",
   "metadata": {},
   "source": [
    "## Railwaystation POIs gdf to GeoJSON"
   ]
  },
  {
   "cell_type": "code",
   "execution_count": null,
   "metadata": {},
   "outputs": [],
   "source": [
    "for placeid, placeinfo in tqdm(cities.items(), desc = \"Cities\"):\n",
    "    try:\n",
    "        poi_source_here = \"railwaystation\"\n",
    "        poi_gdf = gpd.GeoDataFrame.from_file(PATH[\"data\"] + placeid + \"/\" + placeid + '_' + 'poi_' + poi_source_here + '.gpkg')\n",
    "    #         pp.pprint(poi_gdf.geometry.x)\n",
    "        with open(PATH[\"exports_json\"] + placeid + \"/\" + placeid + '_poi_' + poi_source_here + '.json', 'w') as f:\n",
    "            geojson.dump(gdf_to_geojson(poi_gdf, poi_gdf.keys()), f)\n",
    "    except:\n",
    "        print(placeid + \" did not work.\")"
   ]
  },
  {
   "cell_type": "markdown",
   "metadata": {},
   "source": [
    "## Grid and railwaystation POIs to lat/lon list"
   ]
  },
  {
   "cell_type": "markdown",
   "metadata": {},
   "source": [
    "Given [placeid]_poi_grid_nnidscarall, fetch and export x,y (lat,lon) from [placeid]_carall_nodes.csv to [placeid]_poi_grid_latlon.csv."
   ]
  },
  {
   "cell_type": "code",
   "execution_count": null,
   "metadata": {},
   "outputs": [],
   "source": [
    "for placeid, placeinfo in tqdm(cities.items(), desc = \"Cities\"):\n",
    "    if check_extract_zip(PATH[\"data\"] + placeid + \"/\", placeid + \"_carall\"):\n",
    "        for poi_source_here in [\"railwaystation\", \"grid\"]:\n",
    "            with open(PATH[\"data\"] + placeid + \"/\" + placeid + '_poi_' + poi_source_here + '_nnidscarall.csv', 'r') as fin, open(PATH[\"exports_json\"] + placeid + \"/\" + placeid + '_poi_' + poi_source_here + '_latlon.csv', 'w') as fout:\n",
    "            \n",
    "                fdata = np.genfromtxt(PATH[\"data\"] + placeid + \"/\" + placeid + '_carall_nodes.csv', delimiter=',', usecols=(0,1,2))\n",
    "                for line in fin:\n",
    "                    poiid = int(line.strip())\n",
    "                    fdata_lineid = np.argwhere(fdata[:, 2] == poiid)\n",
    "                    fout.write(str(fdata[fdata_lineid, 0].flatten()[0]) + \",\" + str(fdata[fdata_lineid, 1].flatten()[0]) + '\\n')\n",
    "\n",
    "        os.remove(PATH[\"data\"] + placeid + \"/\" + placeid + \"_carall_nodes.csv\")\n",
    "        os.remove(PATH[\"data\"] + placeid + \"/\" + placeid + \"_carall_edges.csv\")"
   ]
  },
  {
   "cell_type": "markdown",
   "metadata": {},
   "source": [
    "## GeoJSON Linter"
   ]
  },
  {
   "cell_type": "markdown",
   "metadata": {},
   "source": [
    "https://geojsonlint.com/"
   ]
  },
  {
   "cell_type": "markdown",
   "metadata": {},
   "source": [
    "## Copy selected videos, plots, and results"
   ]
  },
  {
   "cell_type": "code",
   "execution_count": null,
   "metadata": {},
   "outputs": [],
   "source": [
    "copyfiles = {\"plots\": \n",
    "                [\"_analysis_poi_grid_betweenness.png\",\n",
    "                 \"_analysis_poi_grid_closeness.png\",\n",
    "                 \"_analysis_poi_grid_random.png\",\n",
    "                 \"_analysis_poi_railwaystation_betweenness.png\",\n",
    "                 \"_analysis_poi_railwaystation_closeness.png\",\n",
    "                 \"_analysis_poi_railwaystation_random.png\"\n",
    "                ],\n",
    "             \"plots_networks\":\n",
    "                [\"_biketrack.pdf\",\n",
    "                 \"_bikeable.pdf\",\n",
    "                 \"_biketrackcarall.pdf\",\n",
    "                 \"_carall.pdf\",\n",
    "                 \"_carall_poi_grid.pdf\",\n",
    "                 \"_carall_poi_railwaystation.pdf\",\n",
    "                 \"_MSTabstract_poi_grid.pdf\",\n",
    "                 \"_MSTabstract_poi_railwaystation.pdf\",\n",
    "                 \"_MSTall_poi_grid.pdf\",\n",
    "                 \"_MSTall_poi_railwaystation.pdf\",\n",
    "                 \"_GTallcover_poi_grid_Bq1.000.png\",\n",
    "                 \"_GTallcover_poi_railwaystation_Bq1.000.png\"\n",
    "                ],\n",
    "            \"videos\":\n",
    "                [\"_GTabstract_poi_grid_Bq.mp4\",\n",
    "                 \"_GTabstract_poi_grid_Cq.mp4\",\n",
    "                 \"_GTabstract_poi_grid_Rq.mp4\",\n",
    "                 \"_GTabstract_poi_railwaystation_Bq.mp4\",\n",
    "                 \"_GTabstract_poi_railwaystation_Cq.mp4\",\n",
    "                 \"_GTabstract_poi_railwaystation_Rq.mp4\",\n",
    "                 \"_GTall_poi_grid_Bq.mp4\",\n",
    "                 \"_GTall_poi_grid_Cq.mp4\",\n",
    "                 \"_GTall_poi_grid_Rq.mp4\",\n",
    "                 \"_GTall_poi_railwaystation_Bq.mp4\",\n",
    "                 \"_GTall_poi_railwaystation_Cq.mp4\",\n",
    "                 \"_GTall_poi_railwaystation_Rq.mp4\",\n",
    "                 \"_GTallcover_poi_grid_Bq.mp4\",\n",
    "                 \"_GTallcover_poi_grid_Cq.mp4\",\n",
    "                 \"_GTallcover_poi_grid_Rq.mp4\",\n",
    "                 \"_GTallcover_poi_railwaystation_Bq.mp4\",\n",
    "                 \"_GTallcover_poi_railwaystation_Cq.mp4\",\n",
    "                 \"_GTallcover_poi_railwaystation_Rq.mp4\",\n",
    "                 \"_GTabstract_poi_grid_Bq.webm\",\n",
    "                 \"_GTabstract_poi_grid_Cq.webm\",\n",
    "                 \"_GTabstract_poi_grid_Rq.webm\",\n",
    "                 \"_GTabstract_poi_railwaystation_Bq.webm\",\n",
    "                 \"_GTabstract_poi_railwaystation_Cq.webm\",\n",
    "                 \"_GTabstract_poi_railwaystation_Rq.webm\",\n",
    "                 \"_GTall_poi_grid_Bq.webm\",\n",
    "                 \"_GTall_poi_grid_Cq.webm\",\n",
    "                 \"_GTall_poi_grid_Rq.webm\",\n",
    "                 \"_GTall_poi_railwaystation_Bq.webm\",\n",
    "                 \"_GTall_poi_railwaystation_Cq.webm\",\n",
    "                 \"_GTall_poi_railwaystation_Rq.webm\",\n",
    "                 \"_GTallcover_poi_grid_Bq.webm\",\n",
    "                 \"_GTallcover_poi_grid_Cq.webm\",\n",
    "                 \"_GTallcover_poi_grid_Rq.webm\",\n",
    "                 \"_GTallcover_poi_railwaystation_Bq.webm\",\n",
    "                 \"_GTallcover_poi_railwaystation_Cq.webm\",\n",
    "                 \"_GTallcover_poi_railwaystation_Rq.webm\"\n",
    "                  ],\n",
    "             \"results\":\n",
    "                [\"_existing.csv\",\n",
    "                 \"_poi_railwaystation_random.csv\",\n",
    "                 \"_poi_grid_random.csv\",\n",
    "                 \"_poi_railwaystation_closeness.csv\",\n",
    "                 \"_poi_grid_closeness.csv\",\n",
    "                 \"_poi_railwaystation_betweenness.csv\",\n",
    "                 \"_poi_grid_betweenness.csv\"\n",
    "                ]\n",
    "            }"
   ]
  },
  {
   "cell_type": "code",
   "execution_count": null,
   "metadata": {},
   "outputs": [],
   "source": [
    "exportpath = PATH[\"exports_json\"] #\"/Users/misz/Dropbox/supervision/2021ceciliamorten_bikeviz/data/\" \n",
    "for placeid, placeinfo in tqdm(cities.items(), desc = \"Cities\"):\n",
    "    for k, v in copyfiles.items():\n",
    "        for filename in v:\n",
    "            try:\n",
    "                shutil.copy2(PATH[k] + placeid + \"/\" + placeid + filename, exportpath + placeid + \"/\")\n",
    "            except:\n",
    "                print(\"File not found: \" + placeid + filename)"
   ]
  }
 ],
 "metadata": {
  "kernelspec": {
   "display_name": "OSMNX",
   "language": "python",
   "name": "osmnx"
  },
  "language_info": {
   "codemirror_mode": {
    "name": "ipython",
    "version": 3
   },
   "file_extension": ".py",
   "mimetype": "text/x-python",
   "name": "python",
   "nbconvert_exporter": "python",
   "pygments_lexer": "ipython3",
   "version": "3.8.2"
  }
 },
 "nbformat": 4,
 "nbformat_minor": 2
}
