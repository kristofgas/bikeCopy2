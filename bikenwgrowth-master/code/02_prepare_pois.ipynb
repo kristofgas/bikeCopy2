{
 "cells": [
  {
   "cell_type": "markdown",
   "metadata": {},
   "source": [
    "# Step 2 - Prepare points of interest (POI) data\n",
    "## Project: Growing Urban Bicycle Networks"
   ]
  },
  {
   "cell_type": "markdown",
   "metadata": {},
   "source": [
    "This notebook downloads and prepares points of interest data to be used for bicycle network design, snapping them to the networks created in 01_prepare_networks:\n",
    "* railway stations/halts ~~and bus stops~~\n",
    "* grid points\n",
    "* ~~high population density points~~ (not yet implemented due to unreliable density data)\n",
    "\n",
    "Contact: Michael Szell (michael.szell@gmail.com)  \n",
    "Created: 2020-07-07  \n",
    "Last modified: 2021-02-22"
   ]
  },
  {
   "cell_type": "markdown",
   "metadata": {},
   "source": [
    "## Preliminaries"
   ]
  },
  {
   "cell_type": "markdown",
   "metadata": {},
   "source": [
    "### Parameters"
   ]
  },
  {
   "cell_type": "code",
   "execution_count": 1,
   "metadata": {},
   "outputs": [
    {
     "name": "stdout",
     "output_type": "stream",
     "text": [
      "Loaded parameters.\n",
      "\n"
     ]
    }
   ],
   "source": [
    "debug = False # If True, will produce plots and/or verbose output to double-check\n",
    "%run -i \"../parameters/parameters.py\""
   ]
  },
  {
   "cell_type": "markdown",
   "metadata": {},
   "source": [
    "### Setup"
   ]
  },
  {
   "cell_type": "code",
   "execution_count": 2,
   "metadata": {},
   "outputs": [
    {
     "name": "stdout",
     "output_type": "stream",
     "text": [
      "Loaded PATH.\n",
      "\n",
      "Setup finished.\n",
      "\n",
      "Python implementation: CPython\n",
      "Python version       : 3.8.2\n",
      "IPython version      : 8.5.0\n",
      "\n",
      "Compiler    : Clang 9.0.1 \n",
      "OS          : Darwin\n",
      "Release     : 18.7.0\n",
      "Machine     : x86_64\n",
      "Processor   : i386\n",
      "CPU cores   : 8\n",
      "Architecture: 64bit\n",
      "\n",
      "Git hash: \n",
      "\n",
      "osmnx     : 0.16.2\n",
      "matplotlib: 3.6.0\n",
      "geopandas : 0.11.1\n",
      "csv       : 1.0\n",
      "shapely   : 1.8.4\n",
      "pyproj    : 3.4.0\n",
      "pandas    : 1.4.4\n",
      "osgeo     : 3.2.1\n",
      "networkx  : 2.8.6\n",
      "igraph    : 0.9.1\n",
      "fiona     : 1.8.21\n",
      "sys       : 3.8.2 | packaged by conda-forge | (default, Apr 24 2020, 07:56:27) \n",
      "[Clang 9.0.1 ]\n",
      "geojson   : 2.5.0\n",
      "numpy     : 1.23.3\n",
      "watermark : 2.3.1\n",
      "\n"
     ]
    },
    {
     "name": "stderr",
     "output_type": "stream",
     "text": [
      "fatal: not a git repository (or any of the parent directories): .git\n"
     ]
    }
   ],
   "source": [
    "%run -i path.py\n",
    "#%run -i setup.py\n",
    "%run -i setupCPH.py\n",
    "\n",
    "%load_ext watermark\n",
    "%watermark -n -v -m -g -iv"
   ]
  },
  {
   "cell_type": "markdown",
   "metadata": {},
   "source": [
    "### Functions"
   ]
  },
  {
   "cell_type": "code",
   "execution_count": 3,
   "metadata": {},
   "outputs": [
    {
     "name": "stdout",
     "output_type": "stream",
     "text": [
      "Loaded functions.\n",
      "\n"
     ]
    }
   ],
   "source": [
    "%run -i functions.py"
   ]
  },
  {
   "cell_type": "markdown",
   "metadata": {},
   "source": [
    "## Download and wrangle data"
   ]
  },
  {
   "cell_type": "code",
   "execution_count": 4,
   "metadata": {},
   "outputs": [
    {
     "data": {
      "application/vnd.jupyter.widget-view+json": {
       "model_id": "bcf22f41836d4fa3ae5830e07cea283e",
       "version_major": 2,
       "version_minor": 0
      },
      "text/plain": [
       "Cities:   0%|          | 0/1 [00:00<?, ?it/s]"
      ]
     },
     "metadata": {},
     "output_type": "display_data"
    },
    {
     "name": "stdout",
     "output_type": "stream",
     "text": [
      "copenhagen: Loading location polygon and carall graph\n"
     ]
    }
   ],
   "source": [
    "# Load all carall graphs in OSMNX format\n",
    "G_caralls = {}\n",
    "G_caralls_simplified = {}\n",
    "locations = {}\n",
    "parameterinfo = osmnxparameters['carall']\n",
    "\n",
    "for placeid, placeinfo in tqdm(cities.items(), desc = \"Cities\"):\n",
    "    print(placeid + \": Loading location polygon and carall graph\")\n",
    "    \n",
    "    if placeinfo[\"nominatimstring\"] != '':\n",
    "        location = ox.geocoder.geocode_to_gdf(placeinfo[\"nominatimstring\"])\n",
    "        location = fill_holes(extract_relevant_polygon(placeid, shapely.geometry.shape(location['geometry'][0])))\n",
    "    else:\n",
    "        # https://gis.stackexchange.com/questions/113799/how-to-read-a-shapefile-in-python\n",
    "        shp = fiona.open(PATH[\"data\"] + placeid + \"/\" + placeid + \".shp\")\n",
    "        first = next(iter(shp))\n",
    "        location = shapely.geometry.shape(first['geometry'])\n",
    "    locations[placeid] = location\n",
    "    \n",
    "    G_caralls[placeid] = csv_to_ox(PATH[\"data\"] + placeid + \"/\", placeid, 'carall')\n",
    "    G_caralls[placeid].graph[\"crs\"] = 'epsg:4326' # needed for OSMNX's graph_to_gdfs in utils_graph.py\n",
    "    G_caralls_simplified[placeid] = csv_to_ox(PATH[\"data\"] + placeid + \"/\", placeid, 'carall_simplified')\n",
    "    G_caralls_simplified[placeid].graph[\"crs\"] = 'epsg:4326' # needed for OSMNX's graph_to_gdfs in utils_graph.py"
   ]
  },
  {
   "cell_type": "markdown",
   "metadata": {},
   "source": [
    "### Railway stations/halts and bus stops"
   ]
  },
  {
   "cell_type": "code",
   "execution_count": 5,
   "metadata": {
    "scrolled": false
   },
   "outputs": [
    {
     "data": {
      "application/vnd.jupyter.widget-view+json": {
       "model_id": "10343a95ce574dcd9caab5ccfd6e87fe",
       "version_major": 2,
       "version_minor": 0
      },
      "text/plain": [
       "Cities:   0%|          | 0/1 [00:00<?, ?it/s]"
      ]
     },
     "metadata": {},
     "output_type": "display_data"
    },
    {
     "name": "stdout",
     "output_type": "stream",
     "text": [
      "copenhagen: Creating POIs\n"
     ]
    },
    {
     "name": "stderr",
     "output_type": "stream",
     "text": [
      "/Users/Kristof/opt/anaconda3/envs/OSMNX/lib/python3.8/site-packages/osmnx/utils_geo.py:281: ShapelyDeprecationWarning: Iteration over multi-part geometries is deprecated and will be removed in Shapely 2.0. Use the `geoms` property to access the constituent parts of a multi-part geometry.\n",
      "  for polygon in geometry:\n",
      "/Users/Kristof/opt/anaconda3/envs/OSMNX/lib/python3.8/site-packages/osmnx/utils_geo.py:375: ShapelyDeprecationWarning: Iteration over multi-part geometries is deprecated and will be removed in Shapely 2.0. Use the `geoms` property to access the constituent parts of a multi-part geometry.\n",
      "  for poly in multipoly:\n"
     ]
    }
   ],
   "source": [
    "# Here POIs are downloaded and matched to the network. To ensure consistency, we should download POIs only once, then load them locally. For now we leave it as is, as POIs are not expected to change fast.\n",
    "\n",
    "for placeid, placeinfo in tqdm(cities.items(), desc = \"Cities\"):\n",
    "    print(placeid + \": Creating POIs\")\n",
    "    \n",
    "    # We need the carall graph and location geometry\n",
    "    location = locations[placeid]\n",
    "    G_carall = G_caralls_simplified[placeid]\n",
    "    \n",
    "    for poiid, poitag in poiparameters.items():\n",
    "        gdf = ox.geometries.geometries_from_polygon(location, poitag)\n",
    "        gdf = gdf[gdf['geometry'].type == \"Point\"] # only consider points, no polygons etc\n",
    "        # Now snap to closest nodes in street network, save the nearest node ids\n",
    "        nnids = set()\n",
    "        for g in gdf['geometry']:\n",
    "            n = ox.distance.get_nearest_node(G_carall, [g.y, g.x])\n",
    "            if not n in nnids and haversine((g.y, g.x), (G_carall.nodes[n][\"y\"], G_carall.nodes[n][\"x\"]), unit=\"m\") <= snapthreshold:\n",
    "                nnids.add(n)\n",
    "#         nnids = ox.distance.get_nearest_nodes(G_carall, gdf['geometry'].x, gdf['geometry'].y) # This could be faster but does not seem to work correctly\n",
    "        with open(PATH[\"data\"] + placeid + \"/\" + placeid + '_' + 'poi_' + poiid + '_nnidscarall.csv', 'w') as f:\n",
    "            for item in nnids:\n",
    "                f.write(\"%s\\n\" % item)\n",
    "        \n",
    "        gdf = gdf.apply(lambda c: c.astype(str) if c.name != 'geometry' else c, axis=0)\n",
    "        try: # For some cities writing the gdf does not work (i.e. London, Manhattan)\n",
    "            gdf.to_file(PATH[\"data\"] + placeid + \"/\" + placeid + '_' + 'poi_' + poiid + '.gpkg', driver = 'GPKG')\n",
    "        except:\n",
    "            print(\"Notice: Writing the gdf did not work for \" + placeid)\n",
    "        if debug: gdf.plot(color = 'red')"
   ]
  },
  {
   "cell_type": "markdown",
   "metadata": {},
   "source": [
    "### Grid"
   ]
  },
  {
   "cell_type": "markdown",
   "metadata": {},
   "source": [
    "Using code from: https://github.com/gboeing/osmnx-examples/blob/v0.11/notebooks/17-street-network-orientations.ipynb"
   ]
  },
  {
   "cell_type": "code",
   "execution_count": 6,
   "metadata": {},
   "outputs": [
    {
     "data": {
      "application/vnd.jupyter.widget-view+json": {
       "model_id": "5a9e23b117554c0e91c2edd7a8294f29",
       "version_major": 2,
       "version_minor": 0
      },
      "text/plain": [
       "Cities:   0%|          | 0/1 [00:00<?, ?it/s]"
      ]
     },
     "metadata": {},
     "output_type": "display_data"
    },
    {
     "name": "stdout",
     "output_type": "stream",
     "text": [
      "copenhagen: Creating grid\n"
     ]
    },
    {
     "name": "stderr",
     "output_type": "stream",
     "text": [
      "/var/folders/r8/tq2ln28d2vg5b08rjdywrcvc0000gn/T/ipykernel_3254/2211241327.py:55: DeprecationWarning: This function is deprecated. See: https://pyproj4.github.io/pyproj/stable/gotchas.html#upgrading-to-pyproj-2-from-pyproj-1\n",
      "  transformed_sw = pyproj.transform(p_ll, p_mt, sw.x, sw.y) # Transform NW point to equidistant\n",
      "/var/folders/r8/tq2ln28d2vg5b08rjdywrcvc0000gn/T/ipykernel_3254/2211241327.py:56: DeprecationWarning: This function is deprecated. See: https://pyproj4.github.io/pyproj/stable/gotchas.html#upgrading-to-pyproj-2-from-pyproj-1\n",
      "  transformed_ne = pyproj.transform(p_ll, p_mt, ne.x, ne.y) # .. same for SE\n",
      "/var/folders/r8/tq2ln28d2vg5b08rjdywrcvc0000gn/T/ipykernel_3254/2211241327.py:73: DeprecationWarning: This function is deprecated. See: https://pyproj4.github.io/pyproj/stable/gotchas.html#upgrading-to-pyproj-2-from-pyproj-1\n",
      "  fx, fy = pyproj.transform(p_mt, p_ll, new_points[:,0], new_points[:,1])\n"
     ]
    }
   ],
   "source": [
    "for placeid, placeinfo in tqdm(cities.items(), desc  = \"Cities\"):\n",
    "    print(placeid + \": Creating grid\")\n",
    "    \n",
    "    location = locations[placeid]\n",
    "    \n",
    "    \n",
    "    \n",
    "    # FIRST, determine the most common bearing, for the best grid orientation\n",
    "    G = G_caralls[placeid]\n",
    "    bearings = {}    \n",
    "    # calculate edge bearings\n",
    "    Gu = ox.bearing.add_edge_bearings(ox.get_undirected(G))\n",
    "\n",
    "    # weight bearings by length (meters)\n",
    "    city_bearings = []\n",
    "    for u, v, k, d in Gu.edges(keys = True, data = True):\n",
    "        city_bearings.extend([d['bearing']] * int(d['length']))\n",
    "    b = pd.Series(city_bearings)\n",
    "    bearings = pd.concat([b, b.map(reverse_bearing)]).reset_index(drop = 'True')\n",
    "\n",
    "    bins = np.arange(bearingbins + 1) * 360 / bearingbins\n",
    "    count = count_and_merge(bearingbins, bearings)\n",
    "    principalbearing = bins[np.where(count == max(count))][0]\n",
    "    if debug: \n",
    "        print(\"Principal bearing: \" + str(principalbearing))\n",
    "\n",
    "\n",
    "    # SECOND, construct the grid\n",
    "    G = G_caralls_simplified[placeid]\n",
    "\n",
    "    # 1) Get lat lon window, with buffer for snapping outside POIs\n",
    "    # https://stackoverflow.com/questions/7477003/calculating-new-longitude-latitude-from-old-n-meters\n",
    "    buf = max(((2*snapthreshold) / 6378000) * (180 / math.pi), \n",
    "              ((2*snapthreshold) / 6378000) * (180 / math.pi) / math.cos(location.centroid.y * math.pi/180)\n",
    "             )\n",
    "    cities[placeid][\"bbox\"] = location.buffer(buf).bounds\n",
    "\n",
    "    # 2) Generate abstract grid points in window\n",
    "    # https://stackoverflow.com/questions/40342355/how-can-i-generate-a-regular-geographic-grid-using-python\n",
    "    # Set up projections\n",
    "    p_ll = pyproj.Proj('+proj=longlat +datum=WGS84')\n",
    "    aeqd_proj = '+proj=aeqd +lat_0={lat} +lon_0={lon} +x_0=0 +y_0=0'\n",
    "    p_mt = pyproj.Proj(aeqd_proj.format(lat=location.centroid.y, lon=location.centroid.x)) # equidistant projection\n",
    "\n",
    "    # Make the area larger to account for tilted grid\n",
    "    deltax = cities[placeid][\"bbox\"][2] - cities[placeid][\"bbox\"][0]\n",
    "    deltay = cities[placeid][\"bbox\"][3] - cities[placeid][\"bbox\"][1]\n",
    "    enlargefactor = 10\n",
    "\n",
    "    # Create corners of rectangle to be transformed to a grid\n",
    "    sw = shapely.geometry.Point((cities[placeid][\"bbox\"][0], cities[placeid][\"bbox\"][1]))\n",
    "    ne = shapely.geometry.Point((cities[placeid][\"bbox\"][2]+enlargefactor*deltax, cities[placeid][\"bbox\"][3]+enlargefactor*deltay))\n",
    "    \n",
    "    # Project corners to target projection\n",
    "    transformed_sw = pyproj.transform(p_ll, p_mt, sw.x, sw.y) # Transform NW point to equidistant\n",
    "    transformed_ne = pyproj.transform(p_ll, p_mt, ne.x, ne.y) # .. same for SE\n",
    "\n",
    "    # Iterate over 2D area\n",
    "    principalbearing = principalbearing % 90 # Take it modulo 90 because it will be a square grid\n",
    "    if principalbearing > 45:\n",
    "        principalbearing -= 90 # Make bearing fall btw -45 and 45\n",
    "\n",
    "    xcoords = np.arange(transformed_sw[0], transformed_ne[0], gridl)\n",
    "    ycoords = np.arange(transformed_sw[1], transformed_ne[1], gridl)\n",
    "    xsize =  xcoords.size\n",
    "    ysize = ycoords.size\n",
    "    xcoords = np.tile(xcoords, ysize)\n",
    "    ycoords = np.repeat(ycoords, xsize)\n",
    "    gridpoints=[(x, y) for x, y in zip(xcoords, ycoords)]\n",
    "    new_points = rotate_grid(gridpoints, origin = transformed_sw, degrees = principalbearing)\n",
    "    \n",
    "    # https://stackoverflow.com/questions/42459068/projecting-a-numpy-array-of-coordinates-using-pyproj\n",
    "    fx, fy = pyproj.transform(p_mt, p_ll, new_points[:,0], new_points[:,1])\n",
    "    gridpoints = np.dstack([fx, fy])[0]\n",
    "    if principalbearing >=0:\n",
    "        # If we rotated right, we need to shift everything to the left\n",
    "        gridpoints[:,0] -= 0.4*enlargefactor*deltax*math.sin(np.deg2rad(principalbearing))\n",
    "    else:\n",
    "        # If we rotated left, we need to shift everything down and to the right\n",
    "        gridpoints[:,0] += 0.4*enlargefactor*deltax*math.sin(np.deg2rad(principalbearing))\n",
    "        gridpoints[:,1] -= 0.4*enlargefactor*deltay\n",
    "\n",
    "    # Cut back to bounding box\n",
    "    mask = (gridpoints[:,0] >= cities[placeid][\"bbox\"][0]) & (gridpoints[:,0] <= cities[placeid][\"bbox\"][2]) & (gridpoints[:,1] >= cities[placeid][\"bbox\"][1]) & (gridpoints[:,1] <= cities[placeid][\"bbox\"][3])\n",
    "    gridpoints_cut = gridpoints[mask]\n",
    "    \n",
    "    if debug:\n",
    "        fig = plt.figure(figsize=[2*6.4, 2*4.8])\n",
    "        ax = fig.add_axes([0, 0, 1, 1])\n",
    "        ax.set_aspect('equal', adjustable = 'datalim')\n",
    "        plt.plot([g[0] for g in gridpoints_cut], [g[1] for g in gridpoints_cut], \".\", color = \"red\")\n",
    "\n",
    "    # 3) Snap grid points to map\n",
    "    nnids = set()\n",
    "    for g in gridpoints_cut:\n",
    "        n = ox.distance.get_nearest_node(G, [g[1], g[0]])\n",
    "        if n not in nnids and haversine((g[1], g[0]), (G.nodes[n][\"y\"], G.nodes[n][\"x\"]), unit=\"m\") <= snapthreshold:\n",
    "            nnids.add(n)\n",
    "    with open(PATH[\"data\"] + placeid + \"/\" + placeid + '_poi_grid_nnidscarall.csv', 'w') as f:\n",
    "        for item in nnids:\n",
    "            f.write(\"%s\\n\" % item)"
   ]
  },
  {
   "cell_type": "markdown",
   "metadata": {},
   "source": [
    "### Population density (for now commented out as unfinished: data not reliable enough)"
   ]
  },
  {
   "cell_type": "code",
   "execution_count": null,
   "metadata": {
    "scrolled": false
   },
   "outputs": [],
   "source": [
    "# # https://medium.com/@danielmoyo/raster-data-in-python-part-i-reading-and-visualising-raster-data-95cb072fcbfa\n",
    "# import rasterio\n",
    "\n",
    "# densityfolder = \"populationdensity\"\n",
    "# for placeid, placeinfo in cities.items():\n",
    "#     raster_path = PATH[\"data\"] + densityfolder + \"/\" + placeinfo['countryid'] + \"_ppp_2020_UNadj.tif\"\n",
    "#     pop_raster = rasterio.open(raster_path)\n",
    "    \n",
    "#     cities[placeid][\"bbox\"] = location.bounds\n",
    "\n",
    "#     def plot_raster(arr, title=None, figsize=(30,10)):\n",
    "#         \"\"\" helper function to plot a raster array \"\"\"\n",
    "#         fig, ax = plt.subplots(figsize=figsize)\n",
    "#         plt.imshow(arr)\n",
    "#         plt.colorbar()\n",
    "#         plt.title(f'{title}')\n",
    "#         plt.xlabel('Column #')\n",
    "#         plt.ylabel('Row #')\n",
    "#         return fig, ax\n",
    "\n",
    "#     pop_data = pop_raster.read(1)\n",
    "#     pop_data[pop_data<0] = 0\n",
    "#     pop_count = pop_data[pop_data>0].sum()\n",
    "#     plot_raster(pop_data, title=pop_count)"
   ]
  },
  {
   "cell_type": "code",
   "execution_count": null,
   "metadata": {},
   "outputs": [],
   "source": [
    "# # https://stackoverflow.com/questions/50191648/gis-geotiff-gdal-python-how-to-get-coordinates-from-pixel\n",
    "# # https://gdal.org/api/gdaldataset_cpp.html#_CPPv4N11GDALDataset15GetGeoTransformEPd\n",
    "\n",
    "# # Problems:\n",
    "# # https://gis.stackexchange.com/questions/331908/notimplementederror-wrong-number-or-type-of-arguments-for-overloaded-function\n",
    "# # https://gis.stackexchange.com/questions/44040/osr-python-testsr-importfromepsg4326-returns-empty-spatial-reference\n",
    "# # https://www.programcreek.com/python/example/58591/osgeo.osr.SpatialReference\n",
    "\n",
    "\n",
    "# def generate_latlons(raster_path):\n",
    "#     # open the dataset and get the geo transform matrix\n",
    "#     ds = gdal.Open(raster_path) \n",
    "#     xoffset, px_w, rot1, yoffset, px_h, rot2 = ds.GetGeoTransform()\n",
    "#     ds_arr = ds.ReadAsArray()\n",
    "    \n",
    "#     x_arr = np.arange(0, ds_arr.shape[0], 1)\n",
    "#     x_arr.shape = (len(x_arr), 1)\n",
    "#     x_arr = np.repeat(x_arr, [ds_arr.shape[1]], axis=1)\n",
    "    \n",
    "#     y_arr = np.arange(0, ds_arr.shape[1], 1)\n",
    "#     y_arr.shape = (1, len(y_arr))\n",
    "#     y_arr = np.repeat(y_arr, [ds_arr.shape[0]], axis=0)\n",
    "    \n",
    "#     # supposing x and y are your pixel coordinate this \n",
    "#     # is how to get the coordinate in space.\n",
    "#     lon_arr = xoffset + px_w * y_arr + rot1 * x_arr + px_w / 2.0\n",
    "#     lat_arr = yoffset + px_h * y_arr + rot2 * x_arr + px_h / 2.0\n",
    "    \n",
    "#     return(lat_arr, lon_arr)\n",
    "\n",
    "# for placeid, placeinfo in cities.items():\n",
    "#     raster_path = PATH[\"data\"] + densityfolder + \"/\" + placeinfo['countryid'] + \"_ppp_2020_UNadj.tif\"\n",
    "#     pop_raster = rasterio.open(raster_path)\n",
    "#     (lat, lon) = generate_latlons(raster_path)\n",
    "    \n",
    "# # To do: only read the relevant window\n",
    "# # https://medium.com/@danielmoyo/raster-data-in-python-part-ii-working-with-geographic-coordinates-a368708de5f2"
   ]
  },
  {
   "cell_type": "code",
   "execution_count": null,
   "metadata": {},
   "outputs": [],
   "source": [
    "# indices = np.where(pop_data == pop_data.max())\n",
    "# c_x = indices[0].item()\n",
    "# c_y = indices[1].item()\n",
    "\n",
    "# delta = 60\n",
    "# plot_raster(pop_data[c_x-delta:c_x+delta, c_y-delta:c_y+delta], title=\"Population density, Copenhagen\")"
   ]
  },
  {
   "cell_type": "code",
   "execution_count": null,
   "metadata": {},
   "outputs": [],
   "source": [
    "Audio(sound_file, autoplay=True)"
   ]
  }
 ],
 "metadata": {
  "kernelspec": {
   "display_name": "OSMNX",
   "language": "python",
   "name": "osmnx"
  },
  "language_info": {
   "codemirror_mode": {
    "name": "ipython",
    "version": 3
   },
   "file_extension": ".py",
   "mimetype": "text/x-python",
   "name": "python",
   "nbconvert_exporter": "python",
   "pygments_lexer": "ipython3",
   "version": "3.8.2"
  }
 },
 "nbformat": 4,
 "nbformat_minor": 2
}
