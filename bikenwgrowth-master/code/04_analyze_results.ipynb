{
 "cells": [
  {
   "cell_type": "markdown",
   "metadata": {},
   "source": [
    "# Step 4 - Analysis of bicycle network results\n",
    "## Project: Growing Urban Bicycle Networks"
   ]
  },
  {
   "cell_type": "markdown",
   "metadata": {},
   "source": [
    "This notebook takes the existing infrastructure, the results from 03_poi_based_generation and calculates/analyzes a number of measures:\n",
    "* cost (length)\n",
    "* coverage  \n",
    "* directness  \n",
    "* efficiency\n",
    "* overlap with existing networks\n",
    "\n",
    "Contact: Michael Szell (michael.szell@gmail.com)  \n",
    "Created: 2020-07-08  \n",
    "Last modified: 2021-11-22"
   ]
  },
  {
   "cell_type": "markdown",
   "metadata": {},
   "source": [
    "## Preliminaries"
   ]
  },
  {
   "cell_type": "markdown",
   "metadata": {},
   "source": [
    "### Parameters"
   ]
  },
  {
   "cell_type": "code",
   "execution_count": 1,
   "metadata": {},
   "outputs": [
    {
     "name": "stdout",
     "output_type": "stream",
     "text": [
      "Loaded parameters.\n",
      "\n"
     ]
    }
   ],
   "source": [
    "debug = False # If True, will produce plots and/or verbose output to double-check\n",
    "rerun_existing = False # If True, will re-run the costly analysis of existing infra even if files already exist.\n",
    "%run -i \"../parameters/parameters.py\""
   ]
  },
  {
   "cell_type": "markdown",
   "metadata": {},
   "source": [
    "### Setup"
   ]
  },
  {
   "cell_type": "code",
   "execution_count": 2,
   "metadata": {},
   "outputs": [
    {
     "name": "stdout",
     "output_type": "stream",
     "text": [
      "Loaded PATH.\n",
      "\n",
      "Setup finished.\n",
      "\n",
      "Python implementation: CPython\n",
      "Python version       : 3.8.2\n",
      "IPython version      : 8.5.0\n",
      "\n",
      "Compiler    : Clang 9.0.1 \n",
      "OS          : Darwin\n",
      "Release     : 18.7.0\n",
      "Machine     : x86_64\n",
      "Processor   : i386\n",
      "CPU cores   : 8\n",
      "Architecture: 64bit\n",
      "\n",
      "Git hash: 622e89ad3e22ced847c13f6f0b356976fa1617ba\n",
      "\n",
      "sklearn   : 1.1.2\n",
      "igraph    : 0.9.1\n",
      "osgeo     : 3.2.1\n",
      "matplotlib: 3.6.0\n",
      "osmnx     : 0.16.2\n",
      "networkx  : 2.8.6\n",
      "shapely   : 1.8.4\n",
      "csv       : 1.0\n",
      "fiona     : 1.8.21\n",
      "pandas    : 1.4.4\n",
      "geopandas : 0.11.1\n",
      "numpy     : 1.23.3\n",
      "pyproj    : 3.4.0\n",
      "watermark : 2.3.1\n",
      "geojson   : 2.5.0\n",
      "sys       : 3.8.2 | packaged by conda-forge | (default, Apr 24 2020, 07:56:27) \n",
      "[Clang 9.0.1 ]\n",
      "\n"
     ]
    }
   ],
   "source": [
    "%run -i path.py\n",
    "#%run -i setup.py\n",
    "%run -i setupCPH.py\n",
    "if not debug: # Only do this if sure the code is bug-free!\n",
    "    warnings.filterwarnings('ignore')\n",
    "\n",
    "%load_ext watermark\n",
    "%watermark -n -v -m -g -iv"
   ]
  },
  {
   "cell_type": "markdown",
   "metadata": {},
   "source": [
    "### Functions"
   ]
  },
  {
   "cell_type": "code",
   "execution_count": 3,
   "metadata": {},
   "outputs": [
    {
     "name": "stdout",
     "output_type": "stream",
     "text": [
      "Loaded functions.\n",
      "\n"
     ]
    }
   ],
   "source": [
    "%run -i functions.py"
   ]
  },
  {
   "cell_type": "markdown",
   "metadata": {},
   "source": [
    "# Join attributes on all networks"
   ]
  },
  {
   "cell_type": "raw",
   "metadata": {},
   "source": [
    "with zipfile.ZipFile(\"../../bikenwgrowth_external/data/copenhagen/copenhagen_carall_edges.zip\", 'r') as zip_ref:\n",
    "    zip_ref.extractall(\"../../bikenwgrowth_external/data/copenhagen/\")\n",
    "\n",
    "carall_edges = pd.read_csv(\"../../bikenwgrowth_external/data/copenhagen/copenhagen_carall_edges.csv\")\n",
    "\n",
    "with zipfile.ZipFile(\"../../bikenwgrowth_external/data/copenhagen/copenhagen_biketrack_edges.zip\", 'r') as zip_ref:\n",
    "    zip_ref.extractall(\"../../bikenwgrowth_external/data/copenhagen/\")\n",
    "\n",
    "biketrack_edges = pd.read_csv(\"../../bikenwgrowth_external/data/copenhagen/copenhagen_biketrack_edges.csv\")\n",
    "\n",
    "#the initial edges are joined with the new generalised counts\n",
    "result = pd.merge(biketrack_edges, carall_edges[['geometry','bcount_attr','pop_den_attr','bcount_pop_den_attr']],how = 'left',on='geometry')\n",
    "#left_on=['u','v'], right_on = ['u','v']"
   ]
  },
  {
   "cell_type": "code",
   "execution_count": 107,
   "metadata": {},
   "outputs": [],
   "source": [
    "with open(\"../../bikenwgrowth_external/data/copenhagen/bikedata/mean_length_attr.pkl\", 'rb') as f:\n",
    "    unassigned_length_attr = pickle.load(f)\n",
    "with open(\"../../bikenwgrowth_external/data/copenhagen/bikedata/mean_pop_den_attr.pkl\", 'rb') as f:\n",
    "    unassigned_pop_den_attr = pickle.load(f)\n",
    "with open(\"../../bikenwgrowth_external/data/copenhagen/bikedata/mean_bcount_attr.pkl\", 'rb') as q:\n",
    "    unassigned_bcount_attr = pickle.load(q)\n",
    "with open(\"../../bikenwgrowth_external/data/copenhagen/bikedata/mean_bcount_pop_den_att.pkl\", 'rb') as q:\n",
    "    unassigned_bcount_pop_den_attr = pickle.load(q)"
   ]
  },
  {
   "cell_type": "raw",
   "metadata": {},
   "source": [
    "#sørg for ikke at have nan values så indsæt mean på manglende edges, quick fix.\n",
    "\n",
    "for i in range(len(result)):\n",
    "    bcount_attr = result['bcount_attr'].iloc[i]\n",
    "    pop_den_attr = result['pop_den_attr'].iloc[i]\n",
    "    bcount_pop_den_attr = result['bcount_pop_den_attr'].iloc[i]\n",
    "    #if num is NaN\n",
    "    if bcount_attr != bcount_attr:\n",
    "        result['bcount_attr'].iloc[i]= unassigned_bcount_attr\n",
    "    if pop_den_attr != pop_den_attr:\n",
    "        result['pop_den_attr'].iloc[i]= unassigned_pop_den_attr\n",
    "    if bcount_pop_den_attr != bcount_pop_den_attr:\n",
    "        result['bcount_pop_den_attr'].iloc[i]= unassigned_bcount_pop_den_attr\n",
    "   "
   ]
  },
  {
   "cell_type": "raw",
   "metadata": {},
   "source": [
    "result.to_csv(\"../../bikenwgrowth_external/data/copenhagen/copenhagen_biketrack_edges.csv\")"
   ]
  },
  {
   "cell_type": "raw",
   "metadata": {},
   "source": [
    "compress_file(\"../../bikenwgrowth_external/data/copenhagen/\",\"copenhagen_biketrack_edges\")"
   ]
  },
  {
   "cell_type": "code",
   "execution_count": null,
   "metadata": {},
   "outputs": [],
   "source": []
  },
  {
   "cell_type": "code",
   "execution_count": null,
   "metadata": {},
   "outputs": [],
   "source": []
  },
  {
   "cell_type": "code",
   "execution_count": null,
   "metadata": {},
   "outputs": [],
   "source": []
  },
  {
   "cell_type": "markdown",
   "metadata": {},
   "source": [
    "## Join new attributes to all networks on geometry"
   ]
  },
  {
   "cell_type": "code",
   "execution_count": 110,
   "metadata": {},
   "outputs": [
    {
     "name": "stdout",
     "output_type": "stream",
     "text": [
      "biketrack\n",
      "bikeable\n",
      "biketrackcarall\n"
     ]
    }
   ],
   "source": [
    "with zipfile.ZipFile(\"../../bikenwgrowth_external/data/copenhagen/copenhagen_carall_edges.zip\", 'r') as zip_ref:\n",
    "    zip_ref.extractall(\"../../bikenwgrowth_external/data/copenhagen/\")\n",
    "\n",
    "carall_edges = pd.read_csv(\"../../bikenwgrowth_external/data/copenhagen/copenhagen_carall_edges.csv\")\n",
    "\n",
    "for network in networktypesdata:\n",
    "    print(network)\n",
    "    \n",
    "    with zipfile.ZipFile(\"../../bikenwgrowth_external/data/copenhagen/copenhagen_\"+network+\"_edges.zip\", 'r') as zip_ref:\n",
    "        zip_ref.extractall(\"../../bikenwgrowth_external/data/copenhagen/\")\n",
    "\n",
    "    biketrack_edges = pd.read_csv(\"../../bikenwgrowth_external/data/copenhagen/copenhagen_\"+network+\"_edges.csv\")\n",
    "\n",
    "\n",
    "    #the initial edges are joined with the new generalised counts\n",
    "    result = pd.merge(biketrack_edges, carall_edges[['geometry','length_attr','bcount_attr','pop_den_attr','bcount_pop_den_attr']],how = 'left',on='geometry')\n",
    "    #left_on=['u','v'], right_on = ['u','v']\n",
    "\n",
    "    for i in range(len(result)):\n",
    "        length_attr = result['length_attr'].iloc[i]\n",
    "        bcount_attr = result['bcount_attr'].iloc[i]\n",
    "        pop_den_attr = result['pop_den_attr'].iloc[i]\n",
    "        bcount_pop_den_attr = result['bcount_pop_den_attr'].iloc[i]\n",
    "        #if num is NaN\n",
    "        if length_attr != length_attr:\n",
    "            result['length_attr'].iloc[i]= unassigned_length_attr\n",
    "        if bcount_attr != bcount_attr:\n",
    "            result['bcount_attr'].iloc[i]= unassigned_bcount_attr\n",
    "        if pop_den_attr != pop_den_attr:\n",
    "            result['pop_den_attr'].iloc[i]= unassigned_pop_den_attr\n",
    "        if bcount_pop_den_attr != bcount_pop_den_attr:\n",
    "            result['bcount_pop_den_attr'].iloc[i]= unassigned_bcount_pop_den_attr\n",
    "            \n",
    "    result.to_csv(\"../../bikenwgrowth_external/data/copenhagen/copenhagen_\"+network+\"_edges.csv\")\n",
    "    compress_file(\"../../bikenwgrowth_external/data/copenhagen/\",\"copenhagen_\"+network+\"_edges\")\n",
    "    \n"
   ]
  },
  {
   "cell_type": "code",
   "execution_count": null,
   "metadata": {},
   "outputs": [],
   "source": [
    "for network in networktypesdata:\n",
    "    print(network)\n",
    "    \n",
    "    with zipfile.ZipFile(\"../../bikenwgrowth_external/data/copenhagen/copenhagen_\"+network+\"_edges.zip\", 'r') as zip_ref:\n",
    "        zip_ref.extractall(\"../../bikenwgrowth_external/data/copenhagen/\")\n",
    "    with zipfile.ZipFile(\"../../bikenwgrowth_external/data/copenhagen/copenhagen_\"+network+\"_simplified_edges.zip\", 'r') as zip_ref:\n",
    "        zip_ref.extractall(\"../../bikenwgrowth_external/data/copenhagen/\")\n",
    "\n",
    "    edges = pd.read_csv(\"../../bikenwgrowth_external/data/copenhagen/copenhagen_\"+network+\"_edges.csv\")\n",
    "    edges_simplified = pd.read_csv(\"../../bikenwgrowth_external/data/copenhagen/copenhagen_\"+network+\"_simplified_edges.csv\")"
   ]
  },
  {
   "cell_type": "code",
   "execution_count": 4,
   "metadata": {},
   "outputs": [],
   "source": [
    "\n",
    "with zipfile.ZipFile(\"../../bikenwgrowth_external/data/copenhagen/copenhagen_\"+\"carall\"+\"_edges.zip\", 'r') as zip_ref:\n",
    "    zip_ref.extractall(\"../../bikenwgrowth_external/data/copenhagen/\")\n",
    "with zipfile.ZipFile(\"../../bikenwgrowth_external/data/copenhagen/copenhagen_\"+\"carall\"+\"_simplified_edges.zip\", 'r') as zip_ref:\n",
    "    zip_ref.extractall(\"../../bikenwgrowth_external/data/copenhagen/\")\n",
    "\n",
    "edges = pd.read_csv(\"../../bikenwgrowth_external/data/copenhagen/copenhagen_\"+\"carall\"+\"_edges.csv\")\n",
    "edges_simplified = pd.read_csv(\"../../bikenwgrowth_external/data/copenhagen/copenhagen_\"+\"carall\"+\"_simplified_edges.csv\")\n",
    "\n",
    "\n",
    "\n",
    "\n",
    "\n",
    "\n",
    "\n",
    "\n",
    "\n"
   ]
  },
  {
   "cell_type": "code",
   "execution_count": 5,
   "metadata": {},
   "outputs": [
    {
     "data": {
      "text/plain": [
       "65752"
      ]
     },
     "execution_count": 5,
     "metadata": {},
     "output_type": "execute_result"
    }
   ],
   "source": [
    "len(edges)"
   ]
  },
  {
   "cell_type": "code",
   "execution_count": 161,
   "metadata": {},
   "outputs": [
    {
     "ename": "KeyboardInterrupt",
     "evalue": "",
     "output_type": "error",
     "traceback": [
      "\u001b[0;31m---------------------------------------------------------------------------\u001b[0m",
      "\u001b[0;31mKeyboardInterrupt\u001b[0m                         Traceback (most recent call last)",
      "Cell \u001b[0;32mIn [161], line 5\u001b[0m\n\u001b[1;32m      3\u001b[0m edges_id \u001b[38;5;241m=\u001b[39m edges\u001b[38;5;241m.\u001b[39miloc[i]\u001b[38;5;241m.\u001b[39mosmid\n\u001b[1;32m      4\u001b[0m \u001b[38;5;28;01mfor\u001b[39;00m v \u001b[38;5;129;01min\u001b[39;00m \u001b[38;5;28mrange\u001b[39m(\u001b[38;5;28mlen\u001b[39m(edges_simplified)):\n\u001b[0;32m----> 5\u001b[0m     edges_simplified_id \u001b[38;5;241m=\u001b[39m \u001b[43medges_simplified\u001b[49m\u001b[38;5;241;43m.\u001b[39;49m\u001b[43miloc\u001b[49m\u001b[43m[\u001b[49m\u001b[43mv\u001b[49m\u001b[43m]\u001b[49m\u001b[38;5;241m.\u001b[39mosmid\n\u001b[1;32m      6\u001b[0m     \u001b[38;5;28;01mif\u001b[39;00m edges_id \u001b[38;5;241m==\u001b[39m edges_simplified_id:\n\u001b[1;32m      7\u001b[0m         i\u001b[38;5;241m+\u001b[39m\u001b[38;5;241m=\u001b[39m\u001b[38;5;241m1\u001b[39m\n",
      "File \u001b[0;32m~/opt/anaconda3/envs/OSMNX/lib/python3.8/site-packages/pandas/core/indexing.py:967\u001b[0m, in \u001b[0;36m_LocationIndexer.__getitem__\u001b[0;34m(self, key)\u001b[0m\n\u001b[1;32m    964\u001b[0m axis \u001b[38;5;241m=\u001b[39m \u001b[38;5;28mself\u001b[39m\u001b[38;5;241m.\u001b[39maxis \u001b[38;5;129;01mor\u001b[39;00m \u001b[38;5;241m0\u001b[39m\n\u001b[1;32m    966\u001b[0m maybe_callable \u001b[38;5;241m=\u001b[39m com\u001b[38;5;241m.\u001b[39mapply_if_callable(key, \u001b[38;5;28mself\u001b[39m\u001b[38;5;241m.\u001b[39mobj)\n\u001b[0;32m--> 967\u001b[0m \u001b[38;5;28;01mreturn\u001b[39;00m \u001b[38;5;28;43mself\u001b[39;49m\u001b[38;5;241;43m.\u001b[39;49m\u001b[43m_getitem_axis\u001b[49m\u001b[43m(\u001b[49m\u001b[43mmaybe_callable\u001b[49m\u001b[43m,\u001b[49m\u001b[43m \u001b[49m\u001b[43maxis\u001b[49m\u001b[38;5;241;43m=\u001b[39;49m\u001b[43maxis\u001b[49m\u001b[43m)\u001b[49m\n",
      "File \u001b[0;32m~/opt/anaconda3/envs/OSMNX/lib/python3.8/site-packages/pandas/core/indexing.py:1525\u001b[0m, in \u001b[0;36m_iLocIndexer._getitem_axis\u001b[0;34m(self, key, axis)\u001b[0m\n\u001b[1;32m   1522\u001b[0m \u001b[38;5;66;03m# validate the location\u001b[39;00m\n\u001b[1;32m   1523\u001b[0m \u001b[38;5;28mself\u001b[39m\u001b[38;5;241m.\u001b[39m_validate_integer(key, axis)\n\u001b[0;32m-> 1525\u001b[0m \u001b[38;5;28;01mreturn\u001b[39;00m \u001b[38;5;28;43mself\u001b[39;49m\u001b[38;5;241;43m.\u001b[39;49m\u001b[43mobj\u001b[49m\u001b[38;5;241;43m.\u001b[39;49m\u001b[43m_ixs\u001b[49m\u001b[43m(\u001b[49m\u001b[43mkey\u001b[49m\u001b[43m,\u001b[49m\u001b[43m \u001b[49m\u001b[43maxis\u001b[49m\u001b[38;5;241;43m=\u001b[39;49m\u001b[43maxis\u001b[49m\u001b[43m)\u001b[49m\n",
      "File \u001b[0;32m~/opt/anaconda3/envs/OSMNX/lib/python3.8/site-packages/pandas/core/frame.py:3424\u001b[0m, in \u001b[0;36mDataFrame._ixs\u001b[0;34m(self, i, axis)\u001b[0m\n\u001b[1;32m   3422\u001b[0m \u001b[38;5;66;03m# irow\u001b[39;00m\n\u001b[1;32m   3423\u001b[0m \u001b[38;5;28;01mif\u001b[39;00m axis \u001b[38;5;241m==\u001b[39m \u001b[38;5;241m0\u001b[39m:\n\u001b[0;32m-> 3424\u001b[0m     new_values \u001b[38;5;241m=\u001b[39m \u001b[38;5;28;43mself\u001b[39;49m\u001b[38;5;241;43m.\u001b[39;49m\u001b[43m_mgr\u001b[49m\u001b[38;5;241;43m.\u001b[39;49m\u001b[43mfast_xs\u001b[49m\u001b[43m(\u001b[49m\u001b[43mi\u001b[49m\u001b[43m)\u001b[49m\n\u001b[1;32m   3426\u001b[0m     \u001b[38;5;66;03m# if we are a copy, mark as such\u001b[39;00m\n\u001b[1;32m   3427\u001b[0m     copy \u001b[38;5;241m=\u001b[39m \u001b[38;5;28misinstance\u001b[39m(new_values, np\u001b[38;5;241m.\u001b[39mndarray) \u001b[38;5;129;01mand\u001b[39;00m new_values\u001b[38;5;241m.\u001b[39mbase \u001b[38;5;129;01mis\u001b[39;00m \u001b[38;5;28;01mNone\u001b[39;00m\n",
      "File \u001b[0;32m~/opt/anaconda3/envs/OSMNX/lib/python3.8/site-packages/pandas/core/internals/managers.py:1018\u001b[0m, in \u001b[0;36mBlockManager.fast_xs\u001b[0;34m(self, loc)\u001b[0m\n\u001b[1;32m   1014\u001b[0m \u001b[38;5;28;01mfor\u001b[39;00m blk \u001b[38;5;129;01min\u001b[39;00m \u001b[38;5;28mself\u001b[39m\u001b[38;5;241m.\u001b[39mblocks:\n\u001b[1;32m   1015\u001b[0m     \u001b[38;5;66;03m# Such assignment may incorrectly coerce NaT to None\u001b[39;00m\n\u001b[1;32m   1016\u001b[0m     \u001b[38;5;66;03m# result[blk.mgr_locs] = blk._slice((slice(None), loc))\u001b[39;00m\n\u001b[1;32m   1017\u001b[0m     \u001b[38;5;28;01mfor\u001b[39;00m i, rl \u001b[38;5;129;01min\u001b[39;00m \u001b[38;5;28menumerate\u001b[39m(blk\u001b[38;5;241m.\u001b[39mmgr_locs):\n\u001b[0;32m-> 1018\u001b[0m         result[rl] \u001b[38;5;241m=\u001b[39m \u001b[43mblk\u001b[49m\u001b[38;5;241;43m.\u001b[39;49m\u001b[43miget\u001b[49m\u001b[43m(\u001b[49m\u001b[43m(\u001b[49m\u001b[43mi\u001b[49m\u001b[43m,\u001b[49m\u001b[43m \u001b[49m\u001b[43mloc\u001b[49m\u001b[43m)\u001b[49m\u001b[43m)\u001b[49m\n\u001b[1;32m   1020\u001b[0m \u001b[38;5;28;01mif\u001b[39;00m immutable_ea:\n\u001b[1;32m   1021\u001b[0m     dtype \u001b[38;5;241m=\u001b[39m cast(ExtensionDtype, dtype)\n",
      "File \u001b[0;32m~/opt/anaconda3/envs/OSMNX/lib/python3.8/site-packages/pandas/core/internals/blocks.py:365\u001b[0m, in \u001b[0;36mBlock.iget\u001b[0;34m(self, i)\u001b[0m\n\u001b[1;32m    358\u001b[0m \u001b[38;5;28;01mdef\u001b[39;00m \u001b[38;5;21miget\u001b[39m(\u001b[38;5;28mself\u001b[39m, i: \u001b[38;5;28mint\u001b[39m \u001b[38;5;241m|\u001b[39m \u001b[38;5;28mtuple\u001b[39m[\u001b[38;5;28mint\u001b[39m, \u001b[38;5;28mint\u001b[39m] \u001b[38;5;241m|\u001b[39m \u001b[38;5;28mtuple\u001b[39m[\u001b[38;5;28mslice\u001b[39m, \u001b[38;5;28mint\u001b[39m]):\n\u001b[1;32m    359\u001b[0m     \u001b[38;5;66;03m# In the case where we have a tuple[slice, int], the slice will always\u001b[39;00m\n\u001b[1;32m    360\u001b[0m     \u001b[38;5;66;03m#  be slice(None)\u001b[39;00m\n\u001b[0;32m   (...)\u001b[0m\n\u001b[1;32m    363\u001b[0m     \u001b[38;5;66;03m# for \"Union[ndarray[Any, Any], ExtensionArray]\"; expected type\u001b[39;00m\n\u001b[1;32m    364\u001b[0m     \u001b[38;5;66;03m# \"Union[int, integer[Any]]\"\u001b[39;00m\n\u001b[0;32m--> 365\u001b[0m     \u001b[38;5;28;01mreturn\u001b[39;00m \u001b[38;5;28;43mself\u001b[39;49m\u001b[38;5;241;43m.\u001b[39;49m\u001b[43mvalues\u001b[49m\u001b[43m[\u001b[49m\u001b[43mi\u001b[49m\u001b[43m]\u001b[49m\n",
      "\u001b[0;31mKeyboardInterrupt\u001b[0m: "
     ]
    }
   ],
   "source": [
    "\n",
    "i=0\n",
    "for i in range(len(edges)):\n",
    "    edges_id = edges.iloc[i].osmid\n",
    "    for v in range(len(edges_simplified)):\n",
    "        edges_simplified_id = edges_simplified.iloc[v].osmid\n",
    "        if edges_id == edges_simplified_id:\n",
    "            i+=1\n",
    "    \n",
    "     "
   ]
  },
  {
   "cell_type": "code",
   "execution_count": null,
   "metadata": {},
   "outputs": [],
   "source": [
    "i"
   ]
  },
  {
   "cell_type": "code",
   "execution_count": null,
   "metadata": {},
   "outputs": [],
   "source": [
    "edges.iloc[7]"
   ]
  },
  {
   "cell_type": "code",
   "execution_count": 162,
   "metadata": {},
   "outputs": [
    {
     "ename": "KeyboardInterrupt",
     "evalue": "",
     "output_type": "error",
     "traceback": [
      "\u001b[0;31m---------------------------------------------------------------------------\u001b[0m",
      "\u001b[0;31mKeyboardInterrupt\u001b[0m                         Traceback (most recent call last)",
      "Cell \u001b[0;32mIn [162], line 6\u001b[0m\n\u001b[1;32m      4\u001b[0m edges_id \u001b[38;5;241m=\u001b[39m edges\u001b[38;5;241m.\u001b[39miloc[i]\u001b[38;5;241m.\u001b[39mosmid\n\u001b[1;32m      5\u001b[0m \u001b[38;5;28;01mfor\u001b[39;00m v \u001b[38;5;129;01min\u001b[39;00m \u001b[38;5;28mrange\u001b[39m(\u001b[38;5;28mlen\u001b[39m(edges_simplified)):\n\u001b[0;32m----> 6\u001b[0m     edges_simplified_id \u001b[38;5;241m=\u001b[39m \u001b[43medges_simplified\u001b[49m\u001b[38;5;241;43m.\u001b[39;49m\u001b[43miloc\u001b[49m\u001b[43m[\u001b[49m\u001b[43mv\u001b[49m\u001b[43m]\u001b[49m\u001b[38;5;241;43m.\u001b[39;49m\u001b[43mosmid\u001b[49m\n\u001b[1;32m      7\u001b[0m     \u001b[38;5;28;01mif\u001b[39;00m edges_id \u001b[38;5;241m==\u001b[39m edges_simplified_id:\n\u001b[1;32m      8\u001b[0m         df\u001b[38;5;241m.\u001b[39mappend(edges\u001b[38;5;241m.\u001b[39miloc[i])\n",
      "File \u001b[0;32m~/opt/anaconda3/envs/OSMNX/lib/python3.8/site-packages/pandas/core/generic.py:5574\u001b[0m, in \u001b[0;36mNDFrame.__getattr__\u001b[0;34m(self, name)\u001b[0m\n\u001b[1;32m   5566\u001b[0m \u001b[38;5;66;03m# Note: obj.x will always call obj.__getattribute__('x') prior to\u001b[39;00m\n\u001b[1;32m   5567\u001b[0m \u001b[38;5;66;03m# calling obj.__getattr__('x').\u001b[39;00m\n\u001b[1;32m   5568\u001b[0m \u001b[38;5;28;01mif\u001b[39;00m (\n\u001b[1;32m   5569\u001b[0m     name \u001b[38;5;129;01mnot\u001b[39;00m \u001b[38;5;129;01min\u001b[39;00m \u001b[38;5;28mself\u001b[39m\u001b[38;5;241m.\u001b[39m_internal_names_set\n\u001b[1;32m   5570\u001b[0m     \u001b[38;5;129;01mand\u001b[39;00m name \u001b[38;5;129;01mnot\u001b[39;00m \u001b[38;5;129;01min\u001b[39;00m \u001b[38;5;28mself\u001b[39m\u001b[38;5;241m.\u001b[39m_metadata\n\u001b[1;32m   5571\u001b[0m     \u001b[38;5;129;01mand\u001b[39;00m name \u001b[38;5;129;01mnot\u001b[39;00m \u001b[38;5;129;01min\u001b[39;00m \u001b[38;5;28mself\u001b[39m\u001b[38;5;241m.\u001b[39m_accessors\n\u001b[1;32m   5572\u001b[0m     \u001b[38;5;129;01mand\u001b[39;00m \u001b[38;5;28mself\u001b[39m\u001b[38;5;241m.\u001b[39m_info_axis\u001b[38;5;241m.\u001b[39m_can_hold_identifiers_and_holds_name(name)\n\u001b[1;32m   5573\u001b[0m ):\n\u001b[0;32m-> 5574\u001b[0m     \u001b[38;5;28;01mreturn\u001b[39;00m \u001b[38;5;28;43mself\u001b[39;49m\u001b[43m[\u001b[49m\u001b[43mname\u001b[49m\u001b[43m]\u001b[49m\n\u001b[1;32m   5575\u001b[0m \u001b[38;5;28;01mreturn\u001b[39;00m \u001b[38;5;28mobject\u001b[39m\u001b[38;5;241m.\u001b[39m\u001b[38;5;21m__getattribute__\u001b[39m(\u001b[38;5;28mself\u001b[39m, name)\n",
      "File \u001b[0;32m~/opt/anaconda3/envs/OSMNX/lib/python3.8/site-packages/pandas/core/series.py:958\u001b[0m, in \u001b[0;36mSeries.__getitem__\u001b[0;34m(self, key)\u001b[0m\n\u001b[1;32m    955\u001b[0m     \u001b[38;5;28;01mreturn\u001b[39;00m \u001b[38;5;28mself\u001b[39m\u001b[38;5;241m.\u001b[39m_values[key]\n\u001b[1;32m    957\u001b[0m \u001b[38;5;28;01melif\u001b[39;00m key_is_scalar:\n\u001b[0;32m--> 958\u001b[0m     \u001b[38;5;28;01mreturn\u001b[39;00m \u001b[38;5;28;43mself\u001b[39;49m\u001b[38;5;241;43m.\u001b[39;49m\u001b[43m_get_value\u001b[49m\u001b[43m(\u001b[49m\u001b[43mkey\u001b[49m\u001b[43m)\u001b[49m\n\u001b[1;32m    960\u001b[0m \u001b[38;5;28;01mif\u001b[39;00m is_hashable(key):\n\u001b[1;32m    961\u001b[0m     \u001b[38;5;66;03m# Otherwise index.get_value will raise InvalidIndexError\u001b[39;00m\n\u001b[1;32m    962\u001b[0m     \u001b[38;5;28;01mtry\u001b[39;00m:\n\u001b[1;32m    963\u001b[0m         \u001b[38;5;66;03m# For labels that don't resolve as scalars like tuples and frozensets\u001b[39;00m\n",
      "File \u001b[0;32m~/opt/anaconda3/envs/OSMNX/lib/python3.8/site-packages/pandas/core/series.py:1052\u001b[0m, in \u001b[0;36mSeries._get_value\u001b[0;34m(self, label, takeable)\u001b[0m\n\u001b[1;32m   1046\u001b[0m     \u001b[38;5;28;01mexcept\u001b[39;00m \u001b[38;5;167;01mValueError\u001b[39;00m:\n\u001b[1;32m   1047\u001b[0m         \u001b[38;5;66;03m# mpl compat if we look up e.g. ser[:, np.newaxis];\u001b[39;00m\n\u001b[1;32m   1048\u001b[0m         \u001b[38;5;66;03m#  see tests.series.timeseries.test_mpl_compat_hack\u001b[39;00m\n\u001b[1;32m   1049\u001b[0m         \u001b[38;5;66;03m# the asarray is needed to avoid returning a 2D DatetimeArray\u001b[39;00m\n\u001b[1;32m   1050\u001b[0m         \u001b[38;5;28;01mreturn\u001b[39;00m np\u001b[38;5;241m.\u001b[39masarray(\u001b[38;5;28mself\u001b[39m\u001b[38;5;241m.\u001b[39m_values[indexer])\n\u001b[0;32m-> 1052\u001b[0m \u001b[38;5;28;01mdef\u001b[39;00m \u001b[38;5;21m_get_value\u001b[39m(\u001b[38;5;28mself\u001b[39m, label, takeable: \u001b[38;5;28mbool\u001b[39m \u001b[38;5;241m=\u001b[39m \u001b[38;5;28;01mFalse\u001b[39;00m):\n\u001b[1;32m   1053\u001b[0m     \u001b[38;5;124;03m\"\"\"\u001b[39;00m\n\u001b[1;32m   1054\u001b[0m \u001b[38;5;124;03m    Quickly retrieve single value at passed index label.\u001b[39;00m\n\u001b[1;32m   1055\u001b[0m \n\u001b[0;32m   (...)\u001b[0m\n\u001b[1;32m   1063\u001b[0m \u001b[38;5;124;03m    scalar value\u001b[39;00m\n\u001b[1;32m   1064\u001b[0m \u001b[38;5;124;03m    \"\"\"\u001b[39;00m\n\u001b[1;32m   1065\u001b[0m     \u001b[38;5;28;01mif\u001b[39;00m takeable:\n",
      "\u001b[0;31mKeyboardInterrupt\u001b[0m: "
     ]
    }
   ],
   "source": [
    "df = pd.DataFrame()\n",
    "i=0\n",
    "for i in range(len(edges)):\n",
    "    edges_id = edges.iloc[i].osmid\n",
    "    for v in range(len(edges_simplified)):\n",
    "        edges_simplified_id = edges_simplified.iloc[v].osmid\n",
    "        if edges_id == edges_simplified_id:\n",
    "            df.append(edges.iloc[i])\n",
    "            i+=1\n",
    "            print(i)"
   ]
  },
  {
   "cell_type": "code",
   "execution_count": 32,
   "metadata": {},
   "outputs": [],
   "source": [
    "s1 = pd.merge(edges, edges_simplified, how='right', on=['u','v'])"
   ]
  },
  {
   "cell_type": "code",
   "execution_count": 33,
   "metadata": {},
   "outputs": [
    {
     "data": {
      "text/html": [
       "<div>\n",
       "<style scoped>\n",
       "    .dataframe tbody tr th:only-of-type {\n",
       "        vertical-align: middle;\n",
       "    }\n",
       "\n",
       "    .dataframe tbody tr th {\n",
       "        vertical-align: top;\n",
       "    }\n",
       "\n",
       "    .dataframe thead th {\n",
       "        text-align: right;\n",
       "    }\n",
       "</style>\n",
       "<table border=\"1\" class=\"dataframe\">\n",
       "  <thead>\n",
       "    <tr style=\"text-align: right;\">\n",
       "      <th></th>\n",
       "      <th>osmid_x</th>\n",
       "      <th>oneway_x</th>\n",
       "      <th>name_x</th>\n",
       "      <th>highway_x</th>\n",
       "      <th>maxspeed_x</th>\n",
       "      <th>length_x</th>\n",
       "      <th>length_attr_x</th>\n",
       "      <th>bcount_attr_x</th>\n",
       "      <th>pop_den_attr_x</th>\n",
       "      <th>bcount_pop_den_attr_x</th>\n",
       "      <th>...</th>\n",
       "      <th>geometry_y</th>\n",
       "      <th>lanes_y</th>\n",
       "      <th>ref_y</th>\n",
       "      <th>bridge_y</th>\n",
       "      <th>tunnel_y</th>\n",
       "      <th>access_y</th>\n",
       "      <th>junction_y</th>\n",
       "      <th>width_y</th>\n",
       "      <th>service_y</th>\n",
       "      <th>key_y</th>\n",
       "    </tr>\n",
       "  </thead>\n",
       "  <tbody>\n",
       "    <tr>\n",
       "      <th>0</th>\n",
       "      <td>NaN</td>\n",
       "      <td>NaN</td>\n",
       "      <td>NaN</td>\n",
       "      <td>NaN</td>\n",
       "      <td>NaN</td>\n",
       "      <td>NaN</td>\n",
       "      <td>NaN</td>\n",
       "      <td>NaN</td>\n",
       "      <td>NaN</td>\n",
       "      <td>NaN</td>\n",
       "      <td>...</td>\n",
       "      <td>LINESTRING (12.5629057 55.6739848, 12.5630034 ...</td>\n",
       "      <td>NaN</td>\n",
       "      <td>NaN</td>\n",
       "      <td>NaN</td>\n",
       "      <td>NaN</td>\n",
       "      <td>NaN</td>\n",
       "      <td>NaN</td>\n",
       "      <td>NaN</td>\n",
       "      <td>NaN</td>\n",
       "      <td>0</td>\n",
       "    </tr>\n",
       "    <tr>\n",
       "      <th>1</th>\n",
       "      <td>NaN</td>\n",
       "      <td>NaN</td>\n",
       "      <td>NaN</td>\n",
       "      <td>NaN</td>\n",
       "      <td>NaN</td>\n",
       "      <td>NaN</td>\n",
       "      <td>NaN</td>\n",
       "      <td>NaN</td>\n",
       "      <td>NaN</td>\n",
       "      <td>NaN</td>\n",
       "      <td>...</td>\n",
       "      <td>LINESTRING (12.5629057 55.6739848, 12.5633457 ...</td>\n",
       "      <td>2</td>\n",
       "      <td>NaN</td>\n",
       "      <td>NaN</td>\n",
       "      <td>NaN</td>\n",
       "      <td>NaN</td>\n",
       "      <td>NaN</td>\n",
       "      <td>NaN</td>\n",
       "      <td>NaN</td>\n",
       "      <td>0</td>\n",
       "    </tr>\n",
       "    <tr>\n",
       "      <th>2</th>\n",
       "      <td>NaN</td>\n",
       "      <td>NaN</td>\n",
       "      <td>NaN</td>\n",
       "      <td>NaN</td>\n",
       "      <td>NaN</td>\n",
       "      <td>NaN</td>\n",
       "      <td>NaN</td>\n",
       "      <td>NaN</td>\n",
       "      <td>NaN</td>\n",
       "      <td>NaN</td>\n",
       "      <td>...</td>\n",
       "      <td>LINESTRING (12.5584685 55.6619841, 12.5581719 ...</td>\n",
       "      <td>2</td>\n",
       "      <td>O2</td>\n",
       "      <td>NaN</td>\n",
       "      <td>NaN</td>\n",
       "      <td>NaN</td>\n",
       "      <td>NaN</td>\n",
       "      <td>NaN</td>\n",
       "      <td>NaN</td>\n",
       "      <td>0</td>\n",
       "    </tr>\n",
       "    <tr>\n",
       "      <th>3</th>\n",
       "      <td>6.834636e+08</td>\n",
       "      <td>True</td>\n",
       "      <td>NaN</td>\n",
       "      <td>primary_link</td>\n",
       "      <td>50.0</td>\n",
       "      <td>8.591</td>\n",
       "      <td>0.112098</td>\n",
       "      <td>0.113953</td>\n",
       "      <td>0.101020</td>\n",
       "      <td>0.114735</td>\n",
       "      <td>...</td>\n",
       "      <td>LINESTRING (12.5615093 55.6630978, 12.5616155 ...</td>\n",
       "      <td>2</td>\n",
       "      <td>NaN</td>\n",
       "      <td>NaN</td>\n",
       "      <td>NaN</td>\n",
       "      <td>NaN</td>\n",
       "      <td>NaN</td>\n",
       "      <td>NaN</td>\n",
       "      <td>NaN</td>\n",
       "      <td>0</td>\n",
       "    </tr>\n",
       "    <tr>\n",
       "      <th>4</th>\n",
       "      <td>6.834636e+08</td>\n",
       "      <td>True</td>\n",
       "      <td>NaN</td>\n",
       "      <td>primary_link</td>\n",
       "      <td>50.0</td>\n",
       "      <td>8.591</td>\n",
       "      <td>0.112098</td>\n",
       "      <td>0.113953</td>\n",
       "      <td>0.101020</td>\n",
       "      <td>0.114735</td>\n",
       "      <td>...</td>\n",
       "      <td>LINESTRING (12.5615093 55.6630978, 12.5615457 ...</td>\n",
       "      <td>2</td>\n",
       "      <td>NaN</td>\n",
       "      <td>NaN</td>\n",
       "      <td>NaN</td>\n",
       "      <td>NaN</td>\n",
       "      <td>NaN</td>\n",
       "      <td>NaN</td>\n",
       "      <td>NaN</td>\n",
       "      <td>1</td>\n",
       "    </tr>\n",
       "    <tr>\n",
       "      <th>...</th>\n",
       "      <td>...</td>\n",
       "      <td>...</td>\n",
       "      <td>...</td>\n",
       "      <td>...</td>\n",
       "      <td>...</td>\n",
       "      <td>...</td>\n",
       "      <td>...</td>\n",
       "      <td>...</td>\n",
       "      <td>...</td>\n",
       "      <td>...</td>\n",
       "      <td>...</td>\n",
       "      <td>...</td>\n",
       "      <td>...</td>\n",
       "      <td>...</td>\n",
       "      <td>...</td>\n",
       "      <td>...</td>\n",
       "      <td>...</td>\n",
       "      <td>...</td>\n",
       "      <td>...</td>\n",
       "      <td>...</td>\n",
       "      <td>...</td>\n",
       "    </tr>\n",
       "    <tr>\n",
       "      <th>19554</th>\n",
       "      <td>1.131852e+09</td>\n",
       "      <td>True</td>\n",
       "      <td>Strandvænget</td>\n",
       "      <td>primary</td>\n",
       "      <td>60.0</td>\n",
       "      <td>6.446</td>\n",
       "      <td>0.109070</td>\n",
       "      <td>0.113953</td>\n",
       "      <td>0.101544</td>\n",
       "      <td>0.115251</td>\n",
       "      <td>...</td>\n",
       "      <td>LINESTRING (12.5832522 55.716637, 12.5831707 5...</td>\n",
       "      <td>3</td>\n",
       "      <td>O2</td>\n",
       "      <td>NaN</td>\n",
       "      <td>NaN</td>\n",
       "      <td>NaN</td>\n",
       "      <td>NaN</td>\n",
       "      <td>NaN</td>\n",
       "      <td>NaN</td>\n",
       "      <td>0</td>\n",
       "    </tr>\n",
       "    <tr>\n",
       "      <th>19555</th>\n",
       "      <td>NaN</td>\n",
       "      <td>NaN</td>\n",
       "      <td>NaN</td>\n",
       "      <td>NaN</td>\n",
       "      <td>NaN</td>\n",
       "      <td>NaN</td>\n",
       "      <td>NaN</td>\n",
       "      <td>NaN</td>\n",
       "      <td>NaN</td>\n",
       "      <td>NaN</td>\n",
       "      <td>...</td>\n",
       "      <td>LINESTRING (12.5832522 55.716637, 12.5834256 5...</td>\n",
       "      <td>NaN</td>\n",
       "      <td>NaN</td>\n",
       "      <td>NaN</td>\n",
       "      <td>NaN</td>\n",
       "      <td>NaN</td>\n",
       "      <td>NaN</td>\n",
       "      <td>NaN</td>\n",
       "      <td>NaN</td>\n",
       "      <td>0</td>\n",
       "    </tr>\n",
       "    <tr>\n",
       "      <th>19556</th>\n",
       "      <td>1.131852e+09</td>\n",
       "      <td>True</td>\n",
       "      <td>Strandvænget</td>\n",
       "      <td>tertiary</td>\n",
       "      <td>50.0</td>\n",
       "      <td>8.028</td>\n",
       "      <td>0.111303</td>\n",
       "      <td>0.113953</td>\n",
       "      <td>0.101923</td>\n",
       "      <td>0.115624</td>\n",
       "      <td>...</td>\n",
       "      <td>LINESTRING (12.5831349 55.7166079, 12.5832522 ...</td>\n",
       "      <td>NaN</td>\n",
       "      <td>NaN</td>\n",
       "      <td>NaN</td>\n",
       "      <td>NaN</td>\n",
       "      <td>NaN</td>\n",
       "      <td>NaN</td>\n",
       "      <td>NaN</td>\n",
       "      <td>NaN</td>\n",
       "      <td>0</td>\n",
       "    </tr>\n",
       "    <tr>\n",
       "      <th>19557</th>\n",
       "      <td>NaN</td>\n",
       "      <td>NaN</td>\n",
       "      <td>NaN</td>\n",
       "      <td>NaN</td>\n",
       "      <td>NaN</td>\n",
       "      <td>NaN</td>\n",
       "      <td>NaN</td>\n",
       "      <td>NaN</td>\n",
       "      <td>NaN</td>\n",
       "      <td>NaN</td>\n",
       "      <td>...</td>\n",
       "      <td>LINESTRING (12.5831349 55.7166079, 12.583198 5...</td>\n",
       "      <td>1</td>\n",
       "      <td>NaN</td>\n",
       "      <td>NaN</td>\n",
       "      <td>NaN</td>\n",
       "      <td>NaN</td>\n",
       "      <td>NaN</td>\n",
       "      <td>NaN</td>\n",
       "      <td>NaN</td>\n",
       "      <td>0</td>\n",
       "    </tr>\n",
       "    <tr>\n",
       "      <th>19558</th>\n",
       "      <td>NaN</td>\n",
       "      <td>NaN</td>\n",
       "      <td>NaN</td>\n",
       "      <td>NaN</td>\n",
       "      <td>NaN</td>\n",
       "      <td>NaN</td>\n",
       "      <td>NaN</td>\n",
       "      <td>NaN</td>\n",
       "      <td>NaN</td>\n",
       "      <td>NaN</td>\n",
       "      <td>...</td>\n",
       "      <td>LINESTRING (12.5191663 55.664032, 12.519428 55...</td>\n",
       "      <td>NaN</td>\n",
       "      <td>NaN</td>\n",
       "      <td>NaN</td>\n",
       "      <td>NaN</td>\n",
       "      <td>NaN</td>\n",
       "      <td>NaN</td>\n",
       "      <td>NaN</td>\n",
       "      <td>NaN</td>\n",
       "      <td>0</td>\n",
       "    </tr>\n",
       "  </tbody>\n",
       "</table>\n",
       "<p>19559 rows × 42 columns</p>\n",
       "</div>"
      ],
      "text/plain": [
       "            osmid_x oneway_x        name_x     highway_x  maxspeed_x  \\\n",
       "0               NaN      NaN           NaN           NaN         NaN   \n",
       "1               NaN      NaN           NaN           NaN         NaN   \n",
       "2               NaN      NaN           NaN           NaN         NaN   \n",
       "3      6.834636e+08     True           NaN  primary_link        50.0   \n",
       "4      6.834636e+08     True           NaN  primary_link        50.0   \n",
       "...             ...      ...           ...           ...         ...   \n",
       "19554  1.131852e+09     True  Strandvænget       primary        60.0   \n",
       "19555           NaN      NaN           NaN           NaN         NaN   \n",
       "19556  1.131852e+09     True  Strandvænget      tertiary        50.0   \n",
       "19557           NaN      NaN           NaN           NaN         NaN   \n",
       "19558           NaN      NaN           NaN           NaN         NaN   \n",
       "\n",
       "       length_x  length_attr_x  bcount_attr_x  pop_den_attr_x  \\\n",
       "0           NaN            NaN            NaN             NaN   \n",
       "1           NaN            NaN            NaN             NaN   \n",
       "2           NaN            NaN            NaN             NaN   \n",
       "3         8.591       0.112098       0.113953        0.101020   \n",
       "4         8.591       0.112098       0.113953        0.101020   \n",
       "...         ...            ...            ...             ...   \n",
       "19554     6.446       0.109070       0.113953        0.101544   \n",
       "19555       NaN            NaN            NaN             NaN   \n",
       "19556     8.028       0.111303       0.113953        0.101923   \n",
       "19557       NaN            NaN            NaN             NaN   \n",
       "19558       NaN            NaN            NaN             NaN   \n",
       "\n",
       "       bcount_pop_den_attr_x  ...  \\\n",
       "0                        NaN  ...   \n",
       "1                        NaN  ...   \n",
       "2                        NaN  ...   \n",
       "3                   0.114735  ...   \n",
       "4                   0.114735  ...   \n",
       "...                      ...  ...   \n",
       "19554               0.115251  ...   \n",
       "19555                    NaN  ...   \n",
       "19556               0.115624  ...   \n",
       "19557                    NaN  ...   \n",
       "19558                    NaN  ...   \n",
       "\n",
       "                                              geometry_y lanes_y ref_y  \\\n",
       "0      LINESTRING (12.5629057 55.6739848, 12.5630034 ...     NaN   NaN   \n",
       "1      LINESTRING (12.5629057 55.6739848, 12.5633457 ...       2   NaN   \n",
       "2      LINESTRING (12.5584685 55.6619841, 12.5581719 ...       2    O2   \n",
       "3      LINESTRING (12.5615093 55.6630978, 12.5616155 ...       2   NaN   \n",
       "4      LINESTRING (12.5615093 55.6630978, 12.5615457 ...       2   NaN   \n",
       "...                                                  ...     ...   ...   \n",
       "19554  LINESTRING (12.5832522 55.716637, 12.5831707 5...       3    O2   \n",
       "19555  LINESTRING (12.5832522 55.716637, 12.5834256 5...     NaN   NaN   \n",
       "19556  LINESTRING (12.5831349 55.7166079, 12.5832522 ...     NaN   NaN   \n",
       "19557  LINESTRING (12.5831349 55.7166079, 12.583198 5...       1   NaN   \n",
       "19558  LINESTRING (12.5191663 55.664032, 12.519428 55...     NaN   NaN   \n",
       "\n",
       "      bridge_y tunnel_y  access_y junction_y width_y service_y  key_y  \n",
       "0          NaN      NaN       NaN        NaN     NaN       NaN      0  \n",
       "1          NaN      NaN       NaN        NaN     NaN       NaN      0  \n",
       "2          NaN      NaN       NaN        NaN     NaN       NaN      0  \n",
       "3          NaN      NaN       NaN        NaN     NaN       NaN      0  \n",
       "4          NaN      NaN       NaN        NaN     NaN       NaN      1  \n",
       "...        ...      ...       ...        ...     ...       ...    ...  \n",
       "19554      NaN      NaN       NaN        NaN     NaN       NaN      0  \n",
       "19555      NaN      NaN       NaN        NaN     NaN       NaN      0  \n",
       "19556      NaN      NaN       NaN        NaN     NaN       NaN      0  \n",
       "19557      NaN      NaN       NaN        NaN     NaN       NaN      0  \n",
       "19558      NaN      NaN       NaN        NaN     NaN       NaN      0  \n",
       "\n",
       "[19559 rows x 42 columns]"
      ]
     },
     "execution_count": 33,
     "metadata": {},
     "output_type": "execute_result"
    }
   ],
   "source": [
    "s1"
   ]
  },
  {
   "cell_type": "code",
   "execution_count": 18,
   "metadata": {},
   "outputs": [
    {
     "data": {
      "text/plain": [
       "0        LINESTRING (12.5629057 55.6739848, 12.5630034 ...\n",
       "1        LINESTRING (12.5629057 55.6739848, 12.5633457 ...\n",
       "2        LINESTRING (12.5584685 55.6619841, 12.5581719 ...\n",
       "3        LINESTRING (12.5615093 55.6630978, 12.5616155 ...\n",
       "4        LINESTRING (12.5615093 55.6630978, 12.5615457 ...\n",
       "                               ...                        \n",
       "19554    LINESTRING (12.5832522 55.716637, 12.5831707 5...\n",
       "19555    LINESTRING (12.5832522 55.716637, 12.5834256 5...\n",
       "19556    LINESTRING (12.5831349 55.7166079, 12.5832522 ...\n",
       "19557    LINESTRING (12.5831349 55.7166079, 12.583198 5...\n",
       "19558    LINESTRING (12.5191663 55.664032, 12.519428 55...\n",
       "Name: geometry, Length: 19559, dtype: object"
      ]
     },
     "execution_count": 18,
     "metadata": {},
     "output_type": "execute_result"
    }
   ],
   "source": [
    "edges_simplified['geometry']\n"
   ]
  },
  {
   "cell_type": "code",
   "execution_count": 6,
   "metadata": {},
   "outputs": [
    {
     "ename": "ValueError",
     "evalue": "You are trying to merge on int64 and object columns. If you wish to proceed you should use pd.concat",
     "output_type": "error",
     "traceback": [
      "\u001b[0;31m---------------------------------------------------------------------------\u001b[0m",
      "\u001b[0;31mValueError\u001b[0m                                Traceback (most recent call last)",
      "Cell \u001b[0;32mIn [6], line 1\u001b[0m\n\u001b[0;32m----> 1\u001b[0m s2 \u001b[38;5;241m=\u001b[39m \u001b[43mpd\u001b[49m\u001b[38;5;241;43m.\u001b[39;49m\u001b[43mmerge\u001b[49m\u001b[43m(\u001b[49m\u001b[43medges\u001b[49m\u001b[43m,\u001b[49m\u001b[43m \u001b[49m\u001b[43medges_simplified\u001b[49m\u001b[43m,\u001b[49m\u001b[43m \u001b[49m\u001b[43mhow\u001b[49m\u001b[38;5;241;43m=\u001b[39;49m\u001b[38;5;124;43m'\u001b[39;49m\u001b[38;5;124;43mleft\u001b[39;49m\u001b[38;5;124;43m'\u001b[39;49m\u001b[43m,\u001b[49m\u001b[43m \u001b[49m\u001b[43mon\u001b[49m\u001b[38;5;241;43m=\u001b[39;49m\u001b[43m[\u001b[49m\u001b[38;5;124;43m'\u001b[39;49m\u001b[38;5;124;43mosmid\u001b[39;49m\u001b[38;5;124;43m'\u001b[39;49m\u001b[43m]\u001b[49m\u001b[43m)\u001b[49m\n",
      "File \u001b[0;32m~/opt/anaconda3/envs/OSMNX/lib/python3.8/site-packages/pandas/core/reshape/merge.py:107\u001b[0m, in \u001b[0;36mmerge\u001b[0;34m(left, right, how, on, left_on, right_on, left_index, right_index, sort, suffixes, copy, indicator, validate)\u001b[0m\n\u001b[1;32m     90\u001b[0m \u001b[38;5;129m@Substitution\u001b[39m(\u001b[38;5;124m\"\u001b[39m\u001b[38;5;130;01m\\n\u001b[39;00m\u001b[38;5;124mleft : DataFrame or named Series\u001b[39m\u001b[38;5;124m\"\u001b[39m)\n\u001b[1;32m     91\u001b[0m \u001b[38;5;129m@Appender\u001b[39m(_merge_doc, indents\u001b[38;5;241m=\u001b[39m\u001b[38;5;241m0\u001b[39m)\n\u001b[1;32m     92\u001b[0m \u001b[38;5;28;01mdef\u001b[39;00m \u001b[38;5;21mmerge\u001b[39m(\n\u001b[0;32m   (...)\u001b[0m\n\u001b[1;32m    105\u001b[0m     validate: \u001b[38;5;28mstr\u001b[39m \u001b[38;5;241m|\u001b[39m \u001b[38;5;28;01mNone\u001b[39;00m \u001b[38;5;241m=\u001b[39m \u001b[38;5;28;01mNone\u001b[39;00m,\n\u001b[1;32m    106\u001b[0m ) \u001b[38;5;241m-\u001b[39m\u001b[38;5;241m>\u001b[39m DataFrame:\n\u001b[0;32m--> 107\u001b[0m     op \u001b[38;5;241m=\u001b[39m \u001b[43m_MergeOperation\u001b[49m\u001b[43m(\u001b[49m\n\u001b[1;32m    108\u001b[0m \u001b[43m        \u001b[49m\u001b[43mleft\u001b[49m\u001b[43m,\u001b[49m\n\u001b[1;32m    109\u001b[0m \u001b[43m        \u001b[49m\u001b[43mright\u001b[49m\u001b[43m,\u001b[49m\n\u001b[1;32m    110\u001b[0m \u001b[43m        \u001b[49m\u001b[43mhow\u001b[49m\u001b[38;5;241;43m=\u001b[39;49m\u001b[43mhow\u001b[49m\u001b[43m,\u001b[49m\n\u001b[1;32m    111\u001b[0m \u001b[43m        \u001b[49m\u001b[43mon\u001b[49m\u001b[38;5;241;43m=\u001b[39;49m\u001b[43mon\u001b[49m\u001b[43m,\u001b[49m\n\u001b[1;32m    112\u001b[0m \u001b[43m        \u001b[49m\u001b[43mleft_on\u001b[49m\u001b[38;5;241;43m=\u001b[39;49m\u001b[43mleft_on\u001b[49m\u001b[43m,\u001b[49m\n\u001b[1;32m    113\u001b[0m \u001b[43m        \u001b[49m\u001b[43mright_on\u001b[49m\u001b[38;5;241;43m=\u001b[39;49m\u001b[43mright_on\u001b[49m\u001b[43m,\u001b[49m\n\u001b[1;32m    114\u001b[0m \u001b[43m        \u001b[49m\u001b[43mleft_index\u001b[49m\u001b[38;5;241;43m=\u001b[39;49m\u001b[43mleft_index\u001b[49m\u001b[43m,\u001b[49m\n\u001b[1;32m    115\u001b[0m \u001b[43m        \u001b[49m\u001b[43mright_index\u001b[49m\u001b[38;5;241;43m=\u001b[39;49m\u001b[43mright_index\u001b[49m\u001b[43m,\u001b[49m\n\u001b[1;32m    116\u001b[0m \u001b[43m        \u001b[49m\u001b[43msort\u001b[49m\u001b[38;5;241;43m=\u001b[39;49m\u001b[43msort\u001b[49m\u001b[43m,\u001b[49m\n\u001b[1;32m    117\u001b[0m \u001b[43m        \u001b[49m\u001b[43msuffixes\u001b[49m\u001b[38;5;241;43m=\u001b[39;49m\u001b[43msuffixes\u001b[49m\u001b[43m,\u001b[49m\n\u001b[1;32m    118\u001b[0m \u001b[43m        \u001b[49m\u001b[43mcopy\u001b[49m\u001b[38;5;241;43m=\u001b[39;49m\u001b[43mcopy\u001b[49m\u001b[43m,\u001b[49m\n\u001b[1;32m    119\u001b[0m \u001b[43m        \u001b[49m\u001b[43mindicator\u001b[49m\u001b[38;5;241;43m=\u001b[39;49m\u001b[43mindicator\u001b[49m\u001b[43m,\u001b[49m\n\u001b[1;32m    120\u001b[0m \u001b[43m        \u001b[49m\u001b[43mvalidate\u001b[49m\u001b[38;5;241;43m=\u001b[39;49m\u001b[43mvalidate\u001b[49m\u001b[43m,\u001b[49m\n\u001b[1;32m    121\u001b[0m \u001b[43m    \u001b[49m\u001b[43m)\u001b[49m\n\u001b[1;32m    122\u001b[0m     \u001b[38;5;28;01mreturn\u001b[39;00m op\u001b[38;5;241m.\u001b[39mget_result()\n",
      "File \u001b[0;32m~/opt/anaconda3/envs/OSMNX/lib/python3.8/site-packages/pandas/core/reshape/merge.py:704\u001b[0m, in \u001b[0;36m_MergeOperation.__init__\u001b[0;34m(self, left, right, how, on, left_on, right_on, axis, left_index, right_index, sort, suffixes, copy, indicator, validate)\u001b[0m\n\u001b[1;32m    696\u001b[0m (\n\u001b[1;32m    697\u001b[0m     \u001b[38;5;28mself\u001b[39m\u001b[38;5;241m.\u001b[39mleft_join_keys,\n\u001b[1;32m    698\u001b[0m     \u001b[38;5;28mself\u001b[39m\u001b[38;5;241m.\u001b[39mright_join_keys,\n\u001b[1;32m    699\u001b[0m     \u001b[38;5;28mself\u001b[39m\u001b[38;5;241m.\u001b[39mjoin_names,\n\u001b[1;32m    700\u001b[0m ) \u001b[38;5;241m=\u001b[39m \u001b[38;5;28mself\u001b[39m\u001b[38;5;241m.\u001b[39m_get_merge_keys()\n\u001b[1;32m    702\u001b[0m \u001b[38;5;66;03m# validate the merge keys dtypes. We may need to coerce\u001b[39;00m\n\u001b[1;32m    703\u001b[0m \u001b[38;5;66;03m# to avoid incompatible dtypes\u001b[39;00m\n\u001b[0;32m--> 704\u001b[0m \u001b[38;5;28;43mself\u001b[39;49m\u001b[38;5;241;43m.\u001b[39;49m\u001b[43m_maybe_coerce_merge_keys\u001b[49m\u001b[43m(\u001b[49m\u001b[43m)\u001b[49m\n\u001b[1;32m    706\u001b[0m \u001b[38;5;66;03m# If argument passed to validate,\u001b[39;00m\n\u001b[1;32m    707\u001b[0m \u001b[38;5;66;03m# check if columns specified as unique\u001b[39;00m\n\u001b[1;32m    708\u001b[0m \u001b[38;5;66;03m# are in fact unique.\u001b[39;00m\n\u001b[1;32m    709\u001b[0m \u001b[38;5;28;01mif\u001b[39;00m validate \u001b[38;5;129;01mis\u001b[39;00m \u001b[38;5;129;01mnot\u001b[39;00m \u001b[38;5;28;01mNone\u001b[39;00m:\n",
      "File \u001b[0;32m~/opt/anaconda3/envs/OSMNX/lib/python3.8/site-packages/pandas/core/reshape/merge.py:1261\u001b[0m, in \u001b[0;36m_MergeOperation._maybe_coerce_merge_keys\u001b[0;34m(self)\u001b[0m\n\u001b[1;32m   1255\u001b[0m     \u001b[38;5;66;03m# unless we are merging non-string-like with string-like\u001b[39;00m\n\u001b[1;32m   1256\u001b[0m     \u001b[38;5;28;01melif\u001b[39;00m (\n\u001b[1;32m   1257\u001b[0m         inferred_left \u001b[38;5;129;01min\u001b[39;00m string_types \u001b[38;5;129;01mand\u001b[39;00m inferred_right \u001b[38;5;129;01mnot\u001b[39;00m \u001b[38;5;129;01min\u001b[39;00m string_types\n\u001b[1;32m   1258\u001b[0m     ) \u001b[38;5;129;01mor\u001b[39;00m (\n\u001b[1;32m   1259\u001b[0m         inferred_right \u001b[38;5;129;01min\u001b[39;00m string_types \u001b[38;5;129;01mand\u001b[39;00m inferred_left \u001b[38;5;129;01mnot\u001b[39;00m \u001b[38;5;129;01min\u001b[39;00m string_types\n\u001b[1;32m   1260\u001b[0m     ):\n\u001b[0;32m-> 1261\u001b[0m         \u001b[38;5;28;01mraise\u001b[39;00m \u001b[38;5;167;01mValueError\u001b[39;00m(msg)\n\u001b[1;32m   1263\u001b[0m \u001b[38;5;66;03m# datetimelikes must match exactly\u001b[39;00m\n\u001b[1;32m   1264\u001b[0m \u001b[38;5;28;01melif\u001b[39;00m needs_i8_conversion(lk\u001b[38;5;241m.\u001b[39mdtype) \u001b[38;5;129;01mand\u001b[39;00m \u001b[38;5;129;01mnot\u001b[39;00m needs_i8_conversion(rk\u001b[38;5;241m.\u001b[39mdtype):\n",
      "\u001b[0;31mValueError\u001b[0m: You are trying to merge on int64 and object columns. If you wish to proceed you should use pd.concat"
     ]
    }
   ],
   "source": [
    "s2 = pd.merge(edges, edges_simplified, how='left', on=['osmid'])"
   ]
  },
  {
   "cell_type": "code",
   "execution_count": 111,
   "metadata": {},
   "outputs": [],
   "source": [
    "h= csv_to_ig_custom(PATH[\"data\"] + \"copenhagen\" + \"/\", \"copenhagen\", \"biketrack\", \"pop_den_attr\")"
   ]
  },
  {
   "cell_type": "code",
   "execution_count": 112,
   "metadata": {},
   "outputs": [
    {
     "data": {
      "text/plain": [
       "113.05329180359571"
      ]
     },
     "execution_count": 112,
     "metadata": {},
     "output_type": "execute_result"
    }
   ],
   "source": [
    "calculate_efficiency_global(h)"
   ]
  },
  {
   "cell_type": "code",
   "execution_count": 35,
   "metadata": {},
   "outputs": [],
   "source": [
    "hh = csv_to_ig_custom(PATH[\"data\"] + \"copenhagen\" + \"/\", \"copenhagen\", \"biketrack\", \"bcount_attr\")"
   ]
  },
  {
   "cell_type": "code",
   "execution_count": 114,
   "metadata": {},
   "outputs": [
    {
     "data": {
      "text/plain": [
       "100.22215376444066"
      ]
     },
     "execution_count": 114,
     "metadata": {},
     "output_type": "execute_result"
    }
   ],
   "source": [
    "calculate_efficiency_global(hh)"
   ]
  },
  {
   "cell_type": "code",
   "execution_count": 36,
   "metadata": {},
   "outputs": [
    {
     "ename": "TypeError",
     "evalue": "type str doesn't define __round__ method",
     "output_type": "error",
     "traceback": [
      "\u001b[0;31m---------------------------------------------------------------------------\u001b[0m",
      "\u001b[0;31mTypeError\u001b[0m                                 Traceback (most recent call last)",
      "Cell \u001b[0;32mIn [36], line 1\u001b[0m\n\u001b[0;32m----> 1\u001b[0m hhh \u001b[38;5;241m=\u001b[39m \u001b[43mcsv_to_ig_custom\u001b[49m\u001b[43m(\u001b[49m\u001b[43mPATH\u001b[49m\u001b[43m[\u001b[49m\u001b[38;5;124;43m\"\u001b[39;49m\u001b[38;5;124;43mdata\u001b[39;49m\u001b[38;5;124;43m\"\u001b[39;49m\u001b[43m]\u001b[49m\u001b[43m \u001b[49m\u001b[38;5;241;43m+\u001b[39;49m\u001b[43m \u001b[49m\u001b[38;5;124;43m\"\u001b[39;49m\u001b[38;5;124;43mcopenhagen\u001b[39;49m\u001b[38;5;124;43m\"\u001b[39;49m\u001b[43m \u001b[49m\u001b[38;5;241;43m+\u001b[39;49m\u001b[43m \u001b[49m\u001b[38;5;124;43m\"\u001b[39;49m\u001b[38;5;124;43m/\u001b[39;49m\u001b[38;5;124;43m\"\u001b[39;49m\u001b[43m,\u001b[49m\u001b[43m \u001b[49m\u001b[38;5;124;43m\"\u001b[39;49m\u001b[38;5;124;43mcopenhagen\u001b[39;49m\u001b[38;5;124;43m\"\u001b[39;49m\u001b[43m,\u001b[49m\u001b[43m \u001b[49m\u001b[38;5;124;43m\"\u001b[39;49m\u001b[38;5;124;43mcarall_simplified\u001b[39;49m\u001b[38;5;124;43m\"\u001b[39;49m\u001b[43m,\u001b[49m\u001b[38;5;124;43m\"\u001b[39;49m\u001b[38;5;124;43mlength_attr\u001b[39;49m\u001b[38;5;124;43m\"\u001b[39;49m\u001b[43m)\u001b[49m\n",
      "File \u001b[0;32m~/Desktop/bikeCopy2/bikenwgrowth-master/code/functions.py:529\u001b[0m, in \u001b[0;36mcsv_to_ig_custom\u001b[0;34m(p, placeid, parameterid, attrr, cleanup)\u001b[0m\n\u001b[1;32m    527\u001b[0m \u001b[38;5;28;01mif\u001b[39;00m empty:\n\u001b[1;32m    528\u001b[0m     \u001b[38;5;28;01mreturn\u001b[39;00m ig\u001b[38;5;241m.\u001b[39mGraph(directed \u001b[38;5;241m=\u001b[39m \u001b[38;5;28;01mFalse\u001b[39;00m)\n\u001b[0;32m--> 529\u001b[0m G \u001b[38;5;241m=\u001b[39m \u001b[43mosm_to_ig_custom\u001b[49m\u001b[43m(\u001b[49m\u001b[43mn\u001b[49m\u001b[43m,\u001b[49m\u001b[43m \u001b[49m\u001b[43me\u001b[49m\u001b[43m,\u001b[49m\u001b[43m \u001b[49m\u001b[43mattrr\u001b[49m\u001b[43m)\u001b[49m\n\u001b[1;32m    530\u001b[0m round_coordinates(G)\n\u001b[1;32m    531\u001b[0m mirror_y(G)\n",
      "File \u001b[0;32m~/Desktop/bikeCopy2/bikenwgrowth-master/code/functions.py:354\u001b[0m, in \u001b[0;36mosm_to_ig_custom\u001b[0;34m(node, edge, attrr)\u001b[0m\n\u001b[1;32m    352\u001b[0m \u001b[38;5;28;01mfor\u001b[39;00m i \u001b[38;5;129;01min\u001b[39;00m \u001b[38;5;28mrange\u001b[39m(\u001b[38;5;28mlen\u001b[39m(edge)):\n\u001b[1;32m    353\u001b[0m     edge_list\u001b[38;5;241m.\u001b[39mappend([id_dict\u001b[38;5;241m.\u001b[39mget(edge[\u001b[38;5;124m'\u001b[39m\u001b[38;5;124mu\u001b[39m\u001b[38;5;124m'\u001b[39m][i]), id_dict\u001b[38;5;241m.\u001b[39mget(edge[\u001b[38;5;124m'\u001b[39m\u001b[38;5;124mv\u001b[39m\u001b[38;5;124m'\u001b[39m][i])])\n\u001b[0;32m--> 354\u001b[0m     edge_info[\u001b[38;5;124m\"\u001b[39m\u001b[38;5;124mweight\u001b[39m\u001b[38;5;124m\"\u001b[39m]\u001b[38;5;241m.\u001b[39mappend(\u001b[38;5;28;43mround\u001b[39;49m\u001b[43m(\u001b[49m\u001b[43medge\u001b[49m\u001b[43m[\u001b[49m\u001b[43mattrr\u001b[49m\u001b[43m]\u001b[49m\u001b[43m[\u001b[49m\u001b[43mi\u001b[49m\u001b[43m]\u001b[49m\u001b[43m,\u001b[49m\u001b[43m \u001b[49m\u001b[38;5;241;43m10\u001b[39;49m\u001b[43m)\u001b[49m)\n\u001b[1;32m    355\u001b[0m     edge_info[\u001b[38;5;124m\"\u001b[39m\u001b[38;5;124mosmid\u001b[39m\u001b[38;5;124m\"\u001b[39m]\u001b[38;5;241m.\u001b[39mappend(edge[\u001b[38;5;124m'\u001b[39m\u001b[38;5;124mosmid\u001b[39m\u001b[38;5;124m'\u001b[39m][i])\n\u001b[1;32m    357\u001b[0m G\u001b[38;5;241m.\u001b[39madd_edges(edge_list) \u001b[38;5;66;03m# attributes = edge_info doesn't work although it should: https://igraph.org/python/doc/igraph.Graph-class.html#add_edges\u001b[39;00m\n",
      "\u001b[0;31mTypeError\u001b[0m: type str doesn't define __round__ method"
     ]
    }
   ],
   "source": [
    "hhh = csv_to_ig_custom(PATH[\"data\"] + \"copenhagen\" + \"/\", \"copenhagen\", \"carall_simplified\",\"length_attr\")"
   ]
  },
  {
   "cell_type": "code",
   "execution_count": null,
   "metadata": {},
   "outputs": [],
   "source": []
  },
  {
   "cell_type": "code",
   "execution_count": null,
   "metadata": {},
   "outputs": [],
   "source": []
  },
  {
   "cell_type": "code",
   "execution_count": null,
   "metadata": {},
   "outputs": [],
   "source": []
  },
  {
   "cell_type": "code",
   "execution_count": 116,
   "metadata": {},
   "outputs": [
    {
     "data": {
      "text/plain": [
       "100.58950061928145"
      ]
     },
     "execution_count": 116,
     "metadata": {},
     "output_type": "execute_result"
    }
   ],
   "source": [
    "calculate_efficiency_global(hhh)"
   ]
  },
  {
   "cell_type": "code",
   "execution_count": 34,
   "metadata": {},
   "outputs": [],
   "source": [
    "hhhh = csv_to_ig_custom(PATH[\"data\"] + \"copenhagen\" + \"/\", \"copenhagen\", \"biketrack_simplified\", \"length\")"
   ]
  },
  {
   "cell_type": "code",
   "execution_count": null,
   "metadata": {},
   "outputs": [],
   "source": []
  },
  {
   "cell_type": "code",
   "execution_count": null,
   "metadata": {},
   "outputs": [],
   "source": [
    "hhhh = csv_to_ig_custom(PATH[\"data\"] + \"copenhagen\" + \"/\", \"copenhagen\", \"biketrack\", \"length_attr\")"
   ]
  },
  {
   "cell_type": "code",
   "execution_count": 118,
   "metadata": {},
   "outputs": [
    {
     "data": {
      "text/plain": [
       "70.06177909807477"
      ]
     },
     "execution_count": 118,
     "metadata": {},
     "output_type": "execute_result"
    }
   ],
   "source": [
    "calculate_efficiency_global(hhhh)"
   ]
  },
  {
   "cell_type": "markdown",
   "metadata": {},
   "source": [
    "## Analyze existing infrastructure"
   ]
  },
  {
   "cell_type": "raw",
   "metadata": {
    "scrolled": true
   },
   "source": [
    "for placeid, placeinfo in tqdm(cities.items(), desc = \"Cities\"):\n",
    "    print(placeid + \": Analyzing existing infrastructure.\")\n",
    "    \n",
    "    # output_place is one static file for the existing city. This can be compared to the generated infrastructure.\n",
    "    # Make a check if this file was already generated - it only needs to be done once. If not, generate it:\n",
    "    filename = placeid + \"_existing.csv\"\n",
    "    if rerun_existing or not os.path.isfile(PATH[\"results\"] + placeid + \"/\" + filename):\n",
    "        empty_metrics = {\n",
    "                         \"length\":0,\n",
    "                         #\"length_lcc\":0,\n",
    "                         \"coverage\": 0,\n",
    "                         \"directness\": 0,\n",
    "                         #\"directness_lcc\": 0,\n",
    "                         #\"poi_coverage\": 0,\n",
    "                         #\"components\": 0,\n",
    "                         #\"efficiency_global\": 0,\n",
    "                         #\"efficiency_local\": 0,\n",
    "                         #\"efficiency_global_routed\": 0,\n",
    "                         #\"efficiency_local_routed\": 0,\n",
    "                         #\"directness_lcc_linkwise\": 0,\n",
    "                         #\"directness_all_linkwise\": 0\n",
    "                        }\n",
    "        output_place = {}\n",
    "        for networktype in networktypes:\n",
    "            output_place[networktype] = copy.deepcopy(empty_metrics)\n",
    "\n",
    "        # Analyze all networks     \n",
    "        Gs = {}\n",
    "        for networktype in networktypes:\n",
    "            if networktype != \"biketrack_onstreet\" and networktype != \"bikeable_offstreet\":\n",
    "                Gs[networktype] = csv_to_ig(PATH[\"data\"] + placeid + \"/\", placeid, networktype)\n",
    "                Gs[networktype + \"_simplified\"] = csv_to_ig(PATH[\"data\"] + placeid + \"/\", placeid, networktype + \"_simplified\")\n",
    "                #Gs[networktype] = csv_to_ig_custom(PATH[\"data\"] + placeid + \"/\", placeid, networktype)\n",
    "                #Gs[networktype + \"_simplified\"] = csv_to_ig_custom(PATH[\"data\"] + placeid + \"/\", placeid, networktype + \"_simplified\")\n",
    "            elif networktype == \"biketrack_onstreet\":\n",
    "                Gs[networktype] = intersect_igraphs(Gs[\"biketrack\"], Gs[\"carall\"])\n",
    "                Gs[networktype + \"_simplified\"] = intersect_igraphs(Gs[\"biketrack_simplified\"], Gs[\"carall_simplified\"])\n",
    "            elif networktype == \"bikeable_offstreet\":\n",
    "                G_temp = copy.deepcopy(Gs[\"bikeable\"])\n",
    "                delete_overlaps(G_temp, Gs[\"carall\"])\n",
    "                Gs[networktype] = G_temp\n",
    "                G_temp = copy.deepcopy(Gs[\"bikeable_simplified\"])\n",
    "                delete_overlaps(G_temp, Gs[\"carall_simplified\"])\n",
    "                Gs[networktype + \"_simplified\"] = G_temp\n",
    "        \n",
    "        with open(PATH[\"data\"] + placeid + \"/\" + placeid + '_poi_' + poi_source + '_nnidscarall.csv') as f:\n",
    "            nnids = [int(line.rstrip()) for line in f]\n",
    "\n",
    "            \n",
    "        covs = {}\n",
    "        for networktype in tqdm(networktypes, desc = \"Networks\", leave = False):\n",
    "            if debug: print(placeid + \": Analyzing results: \" + networktype)\n",
    "            metrics, cov = calculate_metrics(Gs[networktype], Gs[networktype + \"_simplified\"], Gs['carall'], nnids, empty_metrics, buffer_walk, numnodepairs, debug)\n",
    "            #metrics, cov = calculate_metrics_custom(Gs[networktype], Gs[networktype + \"_simplified\"], Gs['carall'], nnids, empty_metrics, buffer_walk, numnodepairs, debug)\n",
    "            \n",
    "            for key, val in metrics.items():\n",
    "                output_place[networktype][key] = val\n",
    "            covs[networktype] = cov\n",
    "        # Save the covers\n",
    "        write_result(covs, \"pickle\", placeid, \"\", \"\", \"existing_covers.pickle\")\n",
    "        \n",
    "        # Write to CSV\n",
    "        write_result(output_place, \"dictnested\", placeid, \"\", \"\", \"existing.csv\", empty_metrics)"
   ]
  },
  {
   "cell_type": "code",
   "execution_count": 119,
   "metadata": {},
   "outputs": [
    {
     "data": {
      "application/vnd.jupyter.widget-view+json": {
       "model_id": "1beea1e2f5f04eca90d9b90b3490c071",
       "version_major": 2,
       "version_minor": 0
      },
      "text/plain": [
       "Cities:   0%|          | 0/1 [00:00<?, ?it/s]"
      ]
     },
     "metadata": {},
     "output_type": "display_data"
    },
    {
     "name": "stdout",
     "output_type": "stream",
     "text": [
      "copenhagen: Analyzing existing infrastructure.\n"
     ]
    },
    {
     "ename": "KeyError",
     "evalue": "'length_attr'",
     "output_type": "error",
     "traceback": [
      "\u001b[0;31m---------------------------------------------------------------------------\u001b[0m",
      "\u001b[0;31mKeyError\u001b[0m                                  Traceback (most recent call last)",
      "File \u001b[0;32m~/opt/anaconda3/envs/OSMNX/lib/python3.8/site-packages/pandas/core/indexes/base.py:3629\u001b[0m, in \u001b[0;36mIndex.get_loc\u001b[0;34m(self, key, method, tolerance)\u001b[0m\n\u001b[1;32m   3628\u001b[0m \u001b[38;5;28;01mtry\u001b[39;00m:\n\u001b[0;32m-> 3629\u001b[0m     \u001b[38;5;28;01mreturn\u001b[39;00m \u001b[38;5;28;43mself\u001b[39;49m\u001b[38;5;241;43m.\u001b[39;49m\u001b[43m_engine\u001b[49m\u001b[38;5;241;43m.\u001b[39;49m\u001b[43mget_loc\u001b[49m\u001b[43m(\u001b[49m\u001b[43mcasted_key\u001b[49m\u001b[43m)\u001b[49m\n\u001b[1;32m   3630\u001b[0m \u001b[38;5;28;01mexcept\u001b[39;00m \u001b[38;5;167;01mKeyError\u001b[39;00m \u001b[38;5;28;01mas\u001b[39;00m err:\n",
      "File \u001b[0;32m~/opt/anaconda3/envs/OSMNX/lib/python3.8/site-packages/pandas/_libs/index.pyx:136\u001b[0m, in \u001b[0;36mpandas._libs.index.IndexEngine.get_loc\u001b[0;34m()\u001b[0m\n",
      "File \u001b[0;32m~/opt/anaconda3/envs/OSMNX/lib/python3.8/site-packages/pandas/_libs/index.pyx:163\u001b[0m, in \u001b[0;36mpandas._libs.index.IndexEngine.get_loc\u001b[0;34m()\u001b[0m\n",
      "File \u001b[0;32mpandas/_libs/hashtable_class_helper.pxi:5198\u001b[0m, in \u001b[0;36mpandas._libs.hashtable.PyObjectHashTable.get_item\u001b[0;34m()\u001b[0m\n",
      "File \u001b[0;32mpandas/_libs/hashtable_class_helper.pxi:5206\u001b[0m, in \u001b[0;36mpandas._libs.hashtable.PyObjectHashTable.get_item\u001b[0;34m()\u001b[0m\n",
      "\u001b[0;31mKeyError\u001b[0m: 'length_attr'",
      "\nThe above exception was the direct cause of the following exception:\n",
      "\u001b[0;31mKeyError\u001b[0m                                  Traceback (most recent call last)",
      "Cell \u001b[0;32mIn [119], line 33\u001b[0m\n\u001b[1;32m     31\u001b[0m \u001b[38;5;28;01mif\u001b[39;00m networktype \u001b[38;5;241m!=\u001b[39m \u001b[38;5;124m\"\u001b[39m\u001b[38;5;124mbiketrack_onstreet\u001b[39m\u001b[38;5;124m\"\u001b[39m \u001b[38;5;129;01mand\u001b[39;00m networktype \u001b[38;5;241m!=\u001b[39m \u001b[38;5;124m\"\u001b[39m\u001b[38;5;124mbikeable_offstreet\u001b[39m\u001b[38;5;124m\"\u001b[39m:\n\u001b[1;32m     32\u001b[0m     Gs[networktype] \u001b[38;5;241m=\u001b[39m csv_to_ig_custom(PATH[\u001b[38;5;124m\"\u001b[39m\u001b[38;5;124mdata\u001b[39m\u001b[38;5;124m\"\u001b[39m] \u001b[38;5;241m+\u001b[39m placeid \u001b[38;5;241m+\u001b[39m \u001b[38;5;124m\"\u001b[39m\u001b[38;5;124m/\u001b[39m\u001b[38;5;124m\"\u001b[39m, placeid, networktype,attr)\n\u001b[0;32m---> 33\u001b[0m     Gs[networktype \u001b[38;5;241m+\u001b[39m \u001b[38;5;124m\"\u001b[39m\u001b[38;5;124m_simplified\u001b[39m\u001b[38;5;124m\"\u001b[39m] \u001b[38;5;241m=\u001b[39m \u001b[43mcsv_to_ig_custom\u001b[49m\u001b[43m(\u001b[49m\u001b[43mPATH\u001b[49m\u001b[43m[\u001b[49m\u001b[38;5;124;43m\"\u001b[39;49m\u001b[38;5;124;43mdata\u001b[39;49m\u001b[38;5;124;43m\"\u001b[39;49m\u001b[43m]\u001b[49m\u001b[43m \u001b[49m\u001b[38;5;241;43m+\u001b[39;49m\u001b[43m \u001b[49m\u001b[43mplaceid\u001b[49m\u001b[43m \u001b[49m\u001b[38;5;241;43m+\u001b[39;49m\u001b[43m \u001b[49m\u001b[38;5;124;43m\"\u001b[39;49m\u001b[38;5;124;43m/\u001b[39;49m\u001b[38;5;124;43m\"\u001b[39;49m\u001b[43m,\u001b[49m\u001b[43m \u001b[49m\u001b[43mplaceid\u001b[49m\u001b[43m,\u001b[49m\u001b[43m \u001b[49m\u001b[43mnetworktype\u001b[49m\u001b[43m \u001b[49m\u001b[38;5;241;43m+\u001b[39;49m\u001b[43m \u001b[49m\u001b[38;5;124;43m\"\u001b[39;49m\u001b[38;5;124;43m_simplified\u001b[39;49m\u001b[38;5;124;43m\"\u001b[39;49m\u001b[43m,\u001b[49m\u001b[43mattr\u001b[49m\u001b[43m)\u001b[49m\n\u001b[1;32m     34\u001b[0m     \u001b[38;5;66;03m#Gs[networktype] = csv_to_ig_custom(PATH[\"data\"] + placeid + \"/\", placeid, networktype)\u001b[39;00m\n\u001b[1;32m     35\u001b[0m     \u001b[38;5;66;03m#Gs[networktype + \"_simplified\"] = csv_to_ig_custom(PATH[\"data\"] + placeid + \"/\", placeid, networktype + \"_simplified\")\u001b[39;00m\n\u001b[1;32m     36\u001b[0m \u001b[38;5;28;01melif\u001b[39;00m networktype \u001b[38;5;241m==\u001b[39m \u001b[38;5;124m\"\u001b[39m\u001b[38;5;124mbiketrack_onstreet\u001b[39m\u001b[38;5;124m\"\u001b[39m:\n",
      "File \u001b[0;32m~/Desktop/bikeCopy2/bikenwgrowth-master/code/functions.py:529\u001b[0m, in \u001b[0;36mcsv_to_ig_custom\u001b[0;34m(p, placeid, parameterid, attrr, cleanup)\u001b[0m\n\u001b[1;32m    527\u001b[0m \u001b[38;5;28;01mif\u001b[39;00m empty:\n\u001b[1;32m    528\u001b[0m     \u001b[38;5;28;01mreturn\u001b[39;00m ig\u001b[38;5;241m.\u001b[39mGraph(directed \u001b[38;5;241m=\u001b[39m \u001b[38;5;28;01mFalse\u001b[39;00m)\n\u001b[0;32m--> 529\u001b[0m G \u001b[38;5;241m=\u001b[39m \u001b[43mosm_to_ig_custom\u001b[49m\u001b[43m(\u001b[49m\u001b[43mn\u001b[49m\u001b[43m,\u001b[49m\u001b[43m \u001b[49m\u001b[43me\u001b[49m\u001b[43m,\u001b[49m\u001b[43m \u001b[49m\u001b[43mattrr\u001b[49m\u001b[43m)\u001b[49m\n\u001b[1;32m    530\u001b[0m round_coordinates(G)\n\u001b[1;32m    531\u001b[0m mirror_y(G)\n",
      "File \u001b[0;32m~/Desktop/bikeCopy2/bikenwgrowth-master/code/functions.py:354\u001b[0m, in \u001b[0;36mosm_to_ig_custom\u001b[0;34m(node, edge, attrr)\u001b[0m\n\u001b[1;32m    352\u001b[0m \u001b[38;5;28;01mfor\u001b[39;00m i \u001b[38;5;129;01min\u001b[39;00m \u001b[38;5;28mrange\u001b[39m(\u001b[38;5;28mlen\u001b[39m(edge)):\n\u001b[1;32m    353\u001b[0m     edge_list\u001b[38;5;241m.\u001b[39mappend([id_dict\u001b[38;5;241m.\u001b[39mget(edge[\u001b[38;5;124m'\u001b[39m\u001b[38;5;124mu\u001b[39m\u001b[38;5;124m'\u001b[39m][i]), id_dict\u001b[38;5;241m.\u001b[39mget(edge[\u001b[38;5;124m'\u001b[39m\u001b[38;5;124mv\u001b[39m\u001b[38;5;124m'\u001b[39m][i])])\n\u001b[0;32m--> 354\u001b[0m     edge_info[\u001b[38;5;124m\"\u001b[39m\u001b[38;5;124mweight\u001b[39m\u001b[38;5;124m\"\u001b[39m]\u001b[38;5;241m.\u001b[39mappend(\u001b[38;5;28mround\u001b[39m(\u001b[43medge\u001b[49m\u001b[43m[\u001b[49m\u001b[43mattrr\u001b[49m\u001b[43m]\u001b[49m[i], \u001b[38;5;241m10\u001b[39m))\n\u001b[1;32m    355\u001b[0m     edge_info[\u001b[38;5;124m\"\u001b[39m\u001b[38;5;124mosmid\u001b[39m\u001b[38;5;124m\"\u001b[39m]\u001b[38;5;241m.\u001b[39mappend(edge[\u001b[38;5;124m'\u001b[39m\u001b[38;5;124mosmid\u001b[39m\u001b[38;5;124m'\u001b[39m][i])\n\u001b[1;32m    357\u001b[0m G\u001b[38;5;241m.\u001b[39madd_edges(edge_list) \u001b[38;5;66;03m# attributes = edge_info doesn't work although it should: https://igraph.org/python/doc/igraph.Graph-class.html#add_edges\u001b[39;00m\n",
      "File \u001b[0;32m~/opt/anaconda3/envs/OSMNX/lib/python3.8/site-packages/pandas/core/frame.py:3505\u001b[0m, in \u001b[0;36mDataFrame.__getitem__\u001b[0;34m(self, key)\u001b[0m\n\u001b[1;32m   3503\u001b[0m \u001b[38;5;28;01mif\u001b[39;00m \u001b[38;5;28mself\u001b[39m\u001b[38;5;241m.\u001b[39mcolumns\u001b[38;5;241m.\u001b[39mnlevels \u001b[38;5;241m>\u001b[39m \u001b[38;5;241m1\u001b[39m:\n\u001b[1;32m   3504\u001b[0m     \u001b[38;5;28;01mreturn\u001b[39;00m \u001b[38;5;28mself\u001b[39m\u001b[38;5;241m.\u001b[39m_getitem_multilevel(key)\n\u001b[0;32m-> 3505\u001b[0m indexer \u001b[38;5;241m=\u001b[39m \u001b[38;5;28;43mself\u001b[39;49m\u001b[38;5;241;43m.\u001b[39;49m\u001b[43mcolumns\u001b[49m\u001b[38;5;241;43m.\u001b[39;49m\u001b[43mget_loc\u001b[49m\u001b[43m(\u001b[49m\u001b[43mkey\u001b[49m\u001b[43m)\u001b[49m\n\u001b[1;32m   3506\u001b[0m \u001b[38;5;28;01mif\u001b[39;00m is_integer(indexer):\n\u001b[1;32m   3507\u001b[0m     indexer \u001b[38;5;241m=\u001b[39m [indexer]\n",
      "File \u001b[0;32m~/opt/anaconda3/envs/OSMNX/lib/python3.8/site-packages/pandas/core/indexes/base.py:3631\u001b[0m, in \u001b[0;36mIndex.get_loc\u001b[0;34m(self, key, method, tolerance)\u001b[0m\n\u001b[1;32m   3629\u001b[0m     \u001b[38;5;28;01mreturn\u001b[39;00m \u001b[38;5;28mself\u001b[39m\u001b[38;5;241m.\u001b[39m_engine\u001b[38;5;241m.\u001b[39mget_loc(casted_key)\n\u001b[1;32m   3630\u001b[0m \u001b[38;5;28;01mexcept\u001b[39;00m \u001b[38;5;167;01mKeyError\u001b[39;00m \u001b[38;5;28;01mas\u001b[39;00m err:\n\u001b[0;32m-> 3631\u001b[0m     \u001b[38;5;28;01mraise\u001b[39;00m \u001b[38;5;167;01mKeyError\u001b[39;00m(key) \u001b[38;5;28;01mfrom\u001b[39;00m \u001b[38;5;21;01merr\u001b[39;00m\n\u001b[1;32m   3632\u001b[0m \u001b[38;5;28;01mexcept\u001b[39;00m \u001b[38;5;167;01mTypeError\u001b[39;00m:\n\u001b[1;32m   3633\u001b[0m     \u001b[38;5;66;03m# If we have a listlike key, _check_indexing_error will raise\u001b[39;00m\n\u001b[1;32m   3634\u001b[0m     \u001b[38;5;66;03m#  InvalidIndexError. Otherwise we fall through and re-raise\u001b[39;00m\n\u001b[1;32m   3635\u001b[0m     \u001b[38;5;66;03m#  the TypeError.\u001b[39;00m\n\u001b[1;32m   3636\u001b[0m     \u001b[38;5;28mself\u001b[39m\u001b[38;5;241m.\u001b[39m_check_indexing_error(key)\n",
      "\u001b[0;31mKeyError\u001b[0m: 'length_attr'"
     ]
    }
   ],
   "source": [
    "for placeid, placeinfo in tqdm(cities.items(), desc = \"Cities\"):\n",
    "    print(placeid + \": Analyzing existing infrastructure.\")\n",
    "    \n",
    "    # output_place is one static file for the existing city. This can be compared to the generated infrastructure.\n",
    "    # Make a check if this file was already generated - it only needs to be done once. If not, generate it:\n",
    "    for attr in attrlist:\n",
    "        filename = placeid + \"_\"+attr +\"_existing.csv\"\n",
    "        if rerun_existing or not os.path.isfile(PATH[\"results\"] + placeid + \"/\" + filename):\n",
    "            empty_metrics = {\n",
    "                             \"length\":0,\n",
    "                             #\"length_lcc\":0,\n",
    "                             \"coverage\": 0,\n",
    "                             \"directness\": 0,\n",
    "                             #\"directness_lcc\": 0,\n",
    "                             #\"poi_coverage\": 0,\n",
    "                             #\"components\": 0,\n",
    "                             #\"efficiency_global\": 0,\n",
    "                             #\"efficiency_local\": 0,\n",
    "                             #\"efficiency_global_routed\": 0,\n",
    "                             #\"efficiency_local_routed\": 0,\n",
    "                             #\"directness_lcc_linkwise\": 0,\n",
    "                             #\"directness_all_linkwise\": 0\n",
    "                            }\n",
    "            output_place = {}\n",
    "            for networktype in networktypes:\n",
    "                output_place[networktype] = copy.deepcopy(empty_metrics)\n",
    "\n",
    "            # Analyze all networks     \n",
    "            Gs = {}\n",
    "            for networktype in networktypes:\n",
    "                if networktype != \"biketrack_onstreet\" and networktype != \"bikeable_offstreet\":\n",
    "                    Gs[networktype] = csv_to_ig_custom(PATH[\"data\"] + placeid + \"/\", placeid, networktype,attr)\n",
    "                    Gs[networktype + \"_simplified\"] = csv_to_ig_custom(PATH[\"data\"] + placeid + \"/\", placeid, networktype + \"_simplified\",attr)\n",
    "                    #Gs[networktype] = csv_to_ig_custom(PATH[\"data\"] + placeid + \"/\", placeid, networktype)\n",
    "                    #Gs[networktype + \"_simplified\"] = csv_to_ig_custom(PATH[\"data\"] + placeid + \"/\", placeid, networktype + \"_simplified\")\n",
    "                elif networktype == \"biketrack_onstreet\":\n",
    "                    Gs[networktype] = intersect_igraphs(Gs[\"biketrack\"], Gs[\"carall\"])\n",
    "                    Gs[networktype + \"_simplified\"] = intersect_igraphs(Gs[\"biketrack_simplified\"], Gs[\"carall_simplified\"])\n",
    "                elif networktype == \"bikeable_offstreet\":\n",
    "                    G_temp = copy.deepcopy(Gs[\"bikeable\"])\n",
    "                    delete_overlaps(G_temp, Gs[\"carall\"])\n",
    "                    Gs[networktype] = G_temp\n",
    "                    G_temp = copy.deepcopy(Gs[\"bikeable_simplified\"])\n",
    "                    delete_overlaps(G_temp, Gs[\"carall_simplified\"])\n",
    "                    Gs[networktype + \"_simplified\"] = G_temp\n",
    "\n",
    "            with open(PATH[\"data\"] + placeid + \"/\" + placeid + '_poi_' + poi_source + '_nnidscarall.csv') as f:\n",
    "                nnids = [int(line.rstrip()) for line in f]\n",
    "\n",
    "\n",
    "            covs = {}\n",
    "            for networktype in tqdm(networktypes, desc = \"Networks\", leave = False):\n",
    "                if debug: print(placeid + \": Analyzing results: \" + networktype)\n",
    "                metrics, cov = calculate_metrics(Gs[networktype], Gs[networktype + \"_simplified\"], Gs['carall'], nnids, empty_metrics, buffer_walk, numnodepairs, debug)\n",
    "                #metrics, cov = calculate_metrics_custom(Gs[networktype], Gs[networktype + \"_simplified\"], Gs['carall'], nnids, empty_metrics, buffer_walk, numnodepairs, debug)\n",
    "\n",
    "                for key, val in metrics.items():\n",
    "                    output_place[networktype][key] = val\n",
    "                covs[networktype] = cov\n",
    "            # Save the covers\n",
    "            write_result(covs, \"pickle\", placeid, \"\", \"\",attr+\"_\"+\"existing_covers.pickle\")\n",
    "\n",
    "            # Write to CSV\n",
    "            write_result(output_place, \"dictnested\", placeid, \"\", \"\", attr+\"_\"+\"existing.csv\", empty_metrics)"
   ]
  },
  {
   "cell_type": "markdown",
   "metadata": {},
   "source": [
    "## Analyze POI based results"
   ]
  },
  {
   "cell_type": "raw",
   "metadata": {
    "scrolled": false
   },
   "source": [
    "for placeid, placeinfo in tqdm(cities.items(), desc = \"Cities\"):\n",
    "    print(placeid + \": Analyzing results\")\n",
    "\n",
    "    # Load networks\n",
    "    G_carall = csv_to_ig_custom(PATH[\"data\"] + placeid + \"/\", placeid, 'carall','length')\n",
    "    #G_carall = csv_to_ig(PATH[\"data\"] + placeid + \"/\", placeid, 'carall')\n",
    "    Gexisting = {}\n",
    "    for networktype in [\"biketrack\", \"bikeable\"]:\n",
    "        Gexisting[networktype] = csv_to_ig(PATH[\"data\"] + placeid + \"/\", placeid, networktype)\n",
    "        \n",
    "        \n",
    "    \n",
    "    # Load POIs\n",
    "    with open(PATH[\"data\"] + placeid + \"/\" + placeid + '_poi_' + poi_source + '_nnidscarall.csv') as f:\n",
    "        nnids = [int(line.rstrip()) for line in f]\n",
    "            \n",
    "    # Load results\n",
    "    filename = placeid + '_poi_' + poi_source + \"_\" + prune_measure\n",
    "    resultfile = open(PATH[\"results\"] + placeid + \"/\" + filename + \".pickle\",'rb')\n",
    "    res = pickle.load(resultfile)\n",
    "    resultfile.close()\n",
    "    if debug: pp.pprint(res)\n",
    "         \n",
    "    # Calculate\n",
    "    # output contains lists for all the prune_quantile values of the corresponding results\n",
    "    #output, covs = calculate_metrics_additively_custom(res[\"GTs\"], res[\"GT_abstracts\"], res[\"prune_quantiles\"], G_carall, nnids, buffer_walk, numnodepairs, debug, True, Gexisting)\n",
    "    #output_MST, cov_MST = calculate_metrics_custom(res[\"MST\"], res[\"MST_abstract\"], G_carall, nnids, output, buffer_walk, numnodepairs, debug, True, ig.Graph(), Polygon(), False, Gexisting)\n",
    "    \n",
    "    output, covs = calculate_metrics_additively(res[\"GTs\"], res[\"GT_abstracts\"], res[\"prune_quantiles\"], G_carall, nnids, buffer_walk, numnodepairs, debug, True, Gexisting)\n",
    "    output_MST, cov_MST = calculate_metrics(res[\"MST\"], res[\"MST_abstract\"], G_carall, nnids, output, buffer_walk, numnodepairs, debug, True, ig.Graph(), Polygon(), False, Gexisting)\n",
    "        \n",
    "    # Save the covers\n",
    "    write_result(covs, \"pickle\", placeid, poi_source, prune_measure, \"_covers.pickle\")\n",
    "#     write_result(covs_carminusbike, \"pickle\", placeid, poi_source, prune_measure, \"_covers_carminusbike.pickle\")\n",
    "    write_result(cov_MST, \"pickle\", placeid, poi_source, prune_measure, \"_cover_mst.pickle\")\n",
    "        \n",
    "    # Write to CSV\n",
    "    write_result(output, \"dict\", placeid, poi_source, prune_measure, \".csv\")\n",
    "#     write_result(output_carminusbike, \"dict\", placeid, poi_source, prune_measure, \"_carminusbike.csv\")\n",
    "#     write_result(output_carconstrictedbike, \"dict\", placeid, poi_source, prune_measure, \"_carconstrictedbike.csv\")\n",
    "    write_result(output_MST, \"dict\", placeid, poi_source, \"\", \"mst.csv\")"
   ]
  },
  {
   "cell_type": "code",
   "execution_count": 4,
   "metadata": {},
   "outputs": [],
   "source": []
  },
  {
   "cell_type": "code",
   "execution_count": null,
   "metadata": {},
   "outputs": [
    {
     "data": {
      "application/vnd.jupyter.widget-view+json": {
       "model_id": "c8bb1c771812426d9f3b52cc0bb7ead0",
       "version_major": 2,
       "version_minor": 0
      },
      "text/plain": [
       "Cities:   0%|          | 0/1 [00:00<?, ?it/s]"
      ]
     },
     "metadata": {},
     "output_type": "display_data"
    },
    {
     "name": "stdout",
     "output_type": "stream",
     "text": [
      "copenhagen: Analyzing results\n",
      "attr: length\n"
     ]
    }
   ],
   "source": [
    "for placeid, placeinfo in tqdm(cities.items(), desc = \"Cities\"):\n",
    "    print(placeid + \": Analyzing results\")\n",
    "    for attr in attrlist:\n",
    "        print(\"attr: \" + attr)\n",
    "    # Load networks\n",
    "        G_carall = csv_to_ig_custom(PATH[\"data\"] + placeid + \"/\", placeid, 'carall',attr)\n",
    "        #G_carall = csv_to_ig(PATH[\"data\"] + placeid + \"/\", placeid, 'carall')\n",
    "        Gexisting = {}\n",
    "        for networktype in [\"biketrack\", \"bikeable\"]:\n",
    "            Gexisting[networktype] = csv_to_ig_custom(PATH[\"data\"] + placeid + \"/\", placeid, networktype, attr)\n",
    "\n",
    "\n",
    "\n",
    "        # Load POIs\n",
    "        with open(PATH[\"data\"] + placeid + \"/\" + placeid + '_poi_' + poi_source + '_nnidscarall.csv') as f:\n",
    "            nnids = [int(line.rstrip()) for line in f]\n",
    "\n",
    "        # Load results\n",
    "        filename = placeid + '_poi_' + poi_source + \"_\" + prune_measure + \"_\"+ attr\n",
    "        resultfile = open(PATH[\"results\"] + placeid + \"/\" + filename  +\".pickle\",'rb')\n",
    "        res = pickle.load(resultfile)\n",
    "        resultfile.close()\n",
    "        if debug: pp.pprint(res)\n",
    "\n",
    "        # Calculate\n",
    "        # output contains lists for all the prune_quantile values of the corresponding results\n",
    "        #output, covs = calculate_metrics_additively_custom(res[\"GTs\"], res[\"GT_abstracts\"], res[\"prune_quantiles\"], G_carall, nnids, buffer_walk, numnodepairs, debug, True, Gexisting)\n",
    "        #output_MST, cov_MST = calculate_metrics_custom(res[\"MST\"], res[\"MST_abstract\"], G_carall, nnids, output, buffer_walk, numnodepairs, debug, True, ig.Graph(), Polygon(), False, Gexisting)\n",
    "\n",
    "        output, covs = calculate_metrics_additively(res[\"GTs\"], res[\"GT_abstracts\"], res[\"prune_quantiles\"], G_carall, nnids, buffer_walk, numnodepairs, debug, True, Gexisting)\n",
    "        output_MST, cov_MST = calculate_metrics(res[\"MST\"], res[\"MST_abstract\"], G_carall, nnids, output, buffer_walk, numnodepairs, debug, True, ig.Graph(), Polygon(), False, Gexisting)\n",
    "\n",
    "        # Save the covers\n",
    "        write_result(covs, \"pickle\", placeid, poi_source, prune_measure,  \"_\"+ attr+\"_covers.pickle\")\n",
    "    #     write_result(covs_carminusbike, \"pickle\", placeid, poi_source, prune_measure, \"_covers_carminusbike.pickle\")\n",
    "        write_result(cov_MST, \"pickle\", placeid, poi_source, prune_measure, \"_\"+ attr+\"_cover_mst.pickle\")\n",
    "\n",
    "        # Write to CSV\n",
    "        write_result(output, \"dict\", placeid, poi_source, prune_measure, \"_\"+ attr+\".csv\")\n",
    "    #     write_result(output_carminusbike, \"dict\", placeid, poi_source, prune_measure, \"_carminusbike.csv\")\n",
    "    #     write_result(output_carconstrictedbike, \"dict\", placeid, poi_source, prune_measure, \"_carconstrictedbike.csv\")\n",
    "        write_result(output_MST, \"dict\", placeid, poi_source, \"\", \"_\"+ attr+\"mst.csv\")"
   ]
  },
  {
   "cell_type": "code",
   "execution_count": null,
   "metadata": {},
   "outputs": [],
   "source": [
    "# vi skal lave en test hvor vi får den til at lave en folder inde i plotsnewtork for length attr\n",
    "#vi skal lave et outer loop for hver attr inden Gs = {}, og gemme en folder for hver attr.\n",
    "# vi skal joine de 3 attributes fra carall netværket med de gamle networks?\n",
    "# opdater notebook 5 og se om det virker med at lave plots på attribute,"
   ]
  },
  {
   "cell_type": "code",
   "execution_count": null,
   "metadata": {},
   "outputs": [],
   "source": [
    "Audio(sound_file, autoplay=True) "
   ]
  }
 ],
 "metadata": {
  "kernelspec": {
   "display_name": "OSMNX",
   "language": "python",
   "name": "osmnx"
  },
  "language_info": {
   "codemirror_mode": {
    "name": "ipython",
    "version": 3
   },
   "file_extension": ".py",
   "mimetype": "text/x-python",
   "name": "python",
   "nbconvert_exporter": "python",
   "pygments_lexer": "ipython3",
   "version": "3.8.2"
  }
 },
 "nbformat": 4,
 "nbformat_minor": 2
}
